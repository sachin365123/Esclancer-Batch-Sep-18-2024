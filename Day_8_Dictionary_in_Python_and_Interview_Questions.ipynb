{
  "nbformat": 4,
  "nbformat_minor": 0,
  "metadata": {
    "colab": {
      "provenance": []
    },
    "kernelspec": {
      "name": "python3",
      "display_name": "Python 3"
    },
    "language_info": {
      "name": "python"
    }
  },
  "cells": [
    {
      "cell_type": "markdown",
      "source": [
        "# Dictionary concept in Python"
      ],
      "metadata": {
        "id": "x90lLWoZzwhc"
      }
    },
    {
      "cell_type": "code",
      "execution_count": 1,
      "metadata": {
        "id": "t1D4NX-OzcLt"
      },
      "outputs": [],
      "source": [
        "dict= {'name':'Sachin','Age':25, 'Course': 'Data Science', 'Fee':5.2}"
      ]
    },
    {
      "cell_type": "code",
      "source": [
        "type(dict)"
      ],
      "metadata": {
        "colab": {
          "base_uri": "https://localhost:8080/"
        },
        "id": "OYL70FJH0dCv",
        "outputId": "305d16b4-c162-4e82-c06b-e54d844a9467"
      },
      "execution_count": 4,
      "outputs": [
        {
          "output_type": "execute_result",
          "data": {
            "text/plain": [
              "dict"
            ]
          },
          "metadata": {},
          "execution_count": 4
        }
      ]
    },
    {
      "cell_type": "code",
      "source": [
        "dict['name']"
      ],
      "metadata": {
        "colab": {
          "base_uri": "https://localhost:8080/",
          "height": 36
        },
        "id": "5xQQYLtFzzy6",
        "outputId": "410bc0ae-48a7-4093-b499-984d9527d001"
      },
      "execution_count": 3,
      "outputs": [
        {
          "output_type": "execute_result",
          "data": {
            "text/plain": [
              "'Sachin'"
            ],
            "application/vnd.google.colaboratory.intrinsic+json": {
              "type": "string"
            }
          },
          "metadata": {},
          "execution_count": 3
        }
      ]
    },
    {
      "cell_type": "code",
      "source": [
        "dict['Age']"
      ],
      "metadata": {
        "colab": {
          "base_uri": "https://localhost:8080/"
        },
        "id": "ymixT_RL0YD5",
        "outputId": "7ad35ccd-6a26-4f23-e78f-113403692342"
      },
      "execution_count": 5,
      "outputs": [
        {
          "output_type": "execute_result",
          "data": {
            "text/plain": [
              "25"
            ]
          },
          "metadata": {},
          "execution_count": 5
        }
      ]
    },
    {
      "cell_type": "code",
      "source": [
        "# documents using Dictionary\n",
        "my_dictionary = {\n",
        "    \"Jyoti\" : \"a person who owns i-phone 16\",\n",
        "    \"Programmer\" : \"a person who writes computer programs\",\n",
        "    \"Data Science\" : \"a Branch of Computer which deals with data analytics\",\n",
        "    }"
      ],
      "metadata": {
        "id": "Pug1-2LU0h00"
      },
      "execution_count": 6,
      "outputs": []
    },
    {
      "cell_type": "code",
      "source": [
        "my_dictionary['Jyoti']"
      ],
      "metadata": {
        "colab": {
          "base_uri": "https://localhost:8080/",
          "height": 36
        },
        "id": "EHIwWna71B6G",
        "outputId": "cf93721e-d06e-48d6-e5cf-616446965007"
      },
      "execution_count": 7,
      "outputs": [
        {
          "output_type": "execute_result",
          "data": {
            "text/plain": [
              "'a person who owns i-phone 16'"
            ],
            "application/vnd.google.colaboratory.intrinsic+json": {
              "type": "string"
            }
          },
          "metadata": {},
          "execution_count": 7
        }
      ]
    },
    {
      "cell_type": "code",
      "source": [
        "my_dictionary['Programmer']"
      ],
      "metadata": {
        "colab": {
          "base_uri": "https://localhost:8080/",
          "height": 36
        },
        "id": "QoMtzsbU1ER_",
        "outputId": "fc1a9a3c-82c8-4bbf-e3b7-ed4d324e6151"
      },
      "execution_count": 8,
      "outputs": [
        {
          "output_type": "execute_result",
          "data": {
            "text/plain": [
              "'a person who writes computer programs'"
            ],
            "application/vnd.google.colaboratory.intrinsic+json": {
              "type": "string"
            }
          },
          "metadata": {},
          "execution_count": 8
        }
      ]
    },
    {
      "cell_type": "code",
      "source": [
        "my_dictionary['Data Science']"
      ],
      "metadata": {
        "colab": {
          "base_uri": "https://localhost:8080/",
          "height": 36
        },
        "id": "I3XVZ3Qj1IWF",
        "outputId": "dadfc610-3956-4b50-9adb-59a318f6d35c"
      },
      "execution_count": 9,
      "outputs": [
        {
          "output_type": "execute_result",
          "data": {
            "text/plain": [
              "'a Branch of Computer which deals with data analytics'"
            ],
            "application/vnd.google.colaboratory.intrinsic+json": {
              "type": "string"
            }
          },
          "metadata": {},
          "execution_count": 9
        }
      ]
    },
    {
      "cell_type": "code",
      "source": [
        "# Loop Through\n",
        "\n",
        "for i in my_dictionary:\n",
        "    print(i, ':',my_dictionary[i])"
      ],
      "metadata": {
        "colab": {
          "base_uri": "https://localhost:8080/"
        },
        "id": "D6UeTe6g1LwL",
        "outputId": "87e8be56-9d55-4b05-86fe-5c9c8ffb6ceb"
      },
      "execution_count": 12,
      "outputs": [
        {
          "output_type": "stream",
          "name": "stdout",
          "text": [
            "Jyoti : a person who owns i-phone 16\n",
            "Programmer : a person who writes computer programs\n",
            "Data Science : a Branch of Computer which deals with data analytics\n"
          ]
        }
      ]
    },
    {
      "cell_type": "code",
      "source": [
        "# Loop Through\n",
        "\n",
        "for i in my_dictionary:\n",
        "    print(i)"
      ],
      "metadata": {
        "colab": {
          "base_uri": "https://localhost:8080/"
        },
        "id": "Kx6Lo2Nx1pS_",
        "outputId": "61f7ebf6-aa27-44a9-d008-d71ed6ff1251"
      },
      "execution_count": 13,
      "outputs": [
        {
          "output_type": "stream",
          "name": "stdout",
          "text": [
            "Jyoti\n",
            "Programmer\n",
            "Data Science\n"
          ]
        }
      ]
    },
    {
      "cell_type": "code",
      "source": [
        "# Loop Through\n",
        "\n",
        "for i in my_dictionary:\n",
        "    print(my_dictionary[i])"
      ],
      "metadata": {
        "colab": {
          "base_uri": "https://localhost:8080/"
        },
        "id": "7lBVCrpm1vh2",
        "outputId": "f1403ab8-1d3e-4145-be96-2f2a529454da"
      },
      "execution_count": 14,
      "outputs": [
        {
          "output_type": "stream",
          "name": "stdout",
          "text": [
            "a person who owns i-phone 16\n",
            "a person who writes computer programs\n",
            "a Branch of Computer which deals with data analytics\n"
          ]
        }
      ]
    },
    {
      "cell_type": "markdown",
      "source": [
        "# Search in Dictionary"
      ],
      "metadata": {
        "id": "XWqsjKTF2LmQ"
      }
    },
    {
      "cell_type": "code",
      "source": [
        "# Search\n",
        "for key in my_dictionary:\n",
        "    if key == \"Data Science\":\n",
        "        print(\"It exists in the document\")\n",
        "        print(my_dictionary[key])"
      ],
      "metadata": {
        "colab": {
          "base_uri": "https://localhost:8080/"
        },
        "id": "v0tOb7am1yZ7",
        "outputId": "cab398fd-028d-4f2b-c1e1-27d44da5e6a3"
      },
      "execution_count": 17,
      "outputs": [
        {
          "output_type": "stream",
          "name": "stdout",
          "text": [
            "It exists in the document\n",
            "a Branch of Computer which deals with data analytics\n"
          ]
        }
      ]
    },
    {
      "cell_type": "markdown",
      "source": [
        "# Problem 1: Multiply values in a dictionary and return final result"
      ],
      "metadata": {
        "id": "bFdGsrMa2RWH"
      }
    },
    {
      "cell_type": "code",
      "source": [
        "my_dict = {\"One\" : 1, \"Two\" : 2, \"Three\" : 3, \"Four\" : 4,'Five':5}\n",
        "\n",
        "def multiply_values(p_dict):\n",
        "  output = 1\n",
        "  for key in p_dict:\n",
        "        output = output * p_dict[key]\n",
        "  return output\n",
        "\n",
        "print(multiply_values(my_dict))"
      ],
      "metadata": {
        "colab": {
          "base_uri": "https://localhost:8080/"
        },
        "id": "BcN5-4iA2DhY",
        "outputId": "0f784163-96f4-4209-ab0b-073bfd2dc3b0"
      },
      "execution_count": 24,
      "outputs": [
        {
          "output_type": "stream",
          "name": "stdout",
          "text": [
            "120\n"
          ]
        }
      ]
    },
    {
      "cell_type": "code",
      "source": [
        "5*4*3*2*1"
      ],
      "metadata": {
        "colab": {
          "base_uri": "https://localhost:8080/"
        },
        "id": "_GWJd8pR210X",
        "outputId": "56398ca5-7a4e-4834-d55c-68ec3787fd75"
      },
      "execution_count": 23,
      "outputs": [
        {
          "output_type": "execute_result",
          "data": {
            "text/plain": [
              "120"
            ]
          },
          "metadata": {},
          "execution_count": 23
        }
      ]
    },
    {
      "cell_type": "markdown",
      "source": [
        "# Problem 2: Print the Grade of Candidates"
      ],
      "metadata": {
        "id": "c-d8UFbz36go"
      }
    },
    {
      "cell_type": "code",
      "source": [
        "student_scores = {\n",
        "  \"Vinay\": 90,\n",
        "  \"Sachin\": 68,\n",
        "  \"Vishal\": 88,\n",
        "  \"Paresh\": 79,\n",
        "  \"Aditi\": 62,\n",
        "  \"Jyoti\":31\n",
        "}"
      ],
      "metadata": {
        "id": "aoEnmdWE2u2_"
      },
      "execution_count": 28,
      "outputs": []
    },
    {
      "cell_type": "code",
      "source": [
        "def convert_grade(p_dict):\n",
        "    student_grades = {}\n",
        "    for key in p_dict:\n",
        "        score = p_dict[key]\n",
        "        if score >= 85:\n",
        "            student_grades[key] = \"Outstanding\"\n",
        "        elif score >= 65:\n",
        "            student_grades[key] = \"Good\"\n",
        "        elif score >= 50:\n",
        "            student_grades[key] = \"Acceptable\"\n",
        "        else:\n",
        "           student_grades[key] = \"Fail\"\n",
        "    return student_grades\n"
      ],
      "metadata": {
        "id": "TIQ-r9fm4Kr2"
      },
      "execution_count": 29,
      "outputs": []
    },
    {
      "cell_type": "code",
      "source": [
        "print(convert_grade(student_scores))"
      ],
      "metadata": {
        "colab": {
          "base_uri": "https://localhost:8080/"
        },
        "id": "sagXaUXC4uO5",
        "outputId": "f1a4de6a-7406-4fdb-f884-1643c18de9c4"
      },
      "execution_count": 30,
      "outputs": [
        {
          "output_type": "stream",
          "name": "stdout",
          "text": [
            "{'Vinay': 'Outstanding', 'Sachin': 'Good', 'Vishal': 'Outstanding', 'Paresh': 'Good', 'Aditi': 'Acceptable', 'Jyoti': 'Fail'}\n"
          ]
        }
      ]
    },
    {
      "cell_type": "code",
      "source": [
        "student_scores = {\n",
        "  \"Vinay\": 90,\n",
        "  \"Sachin\": 68,\n",
        "  \"Vishal\": 88,\n",
        "  \"Paresh\": 79,\n",
        "  \"Aditi\": 62,\n",
        "  \"Jyoti\":31\n",
        "}\n",
        "\n",
        "student_scores[\"Raju\"]=25\n",
        "student_scores"
      ],
      "metadata": {
        "colab": {
          "base_uri": "https://localhost:8080/"
        },
        "id": "-tuGQugj4upm",
        "outputId": "ab018096-cbf0-4b89-b544-b9dec821b9cf"
      },
      "execution_count": 31,
      "outputs": [
        {
          "output_type": "execute_result",
          "data": {
            "text/plain": [
              "{'Vinay': 90,\n",
              " 'Sachin': 68,\n",
              " 'Vishal': 88,\n",
              " 'Paresh': 79,\n",
              " 'Aditi': 62,\n",
              " 'Jyoti': 31,\n",
              " 'Raju': 25}"
            ]
          },
          "metadata": {},
          "execution_count": 31
        }
      ]
    },
    {
      "cell_type": "markdown",
      "source": [
        "# Rename key in Dictionary"
      ],
      "metadata": {
        "id": "UiRU7sai5yvo"
      }
    },
    {
      "cell_type": "code",
      "source": [
        "my_dict = {\n",
        "    \"Name\": \"Rakesh\",\n",
        "    \"Age\":30,\n",
        "    \"Salary\": 5000,\n",
        "    \"City\": \"Chennai\"\n",
        "}\n",
        "\n",
        "my_dict[\"address\"] = my_dict.pop(\"City\")\n",
        "print(my_dict)"
      ],
      "metadata": {
        "colab": {
          "base_uri": "https://localhost:8080/"
        },
        "id": "gi6leEGZ5fjw",
        "outputId": "b866f2b1-ea3e-462f-8291-b2e071ad4d4f"
      },
      "execution_count": 34,
      "outputs": [
        {
          "output_type": "stream",
          "name": "stdout",
          "text": [
            "{'Name': 'Rakesh', 'Age': 30, 'Salary': 5000, 'address': 'Chennai'}\n"
          ]
        }
      ]
    },
    {
      "cell_type": "code",
      "source": [
        "# Vishal Solution\n",
        "my_dict['first_name']=my_dict.pop('Name')\n"
      ],
      "metadata": {
        "id": "yDNXjlti6ApX"
      },
      "execution_count": 35,
      "outputs": []
    },
    {
      "cell_type": "code",
      "source": [
        "print(my_dict)"
      ],
      "metadata": {
        "colab": {
          "base_uri": "https://localhost:8080/"
        },
        "id": "-Gbphrsu61js",
        "outputId": "fc9d05a5-8ee3-47c3-edd0-f11864d5971a"
      },
      "execution_count": 36,
      "outputs": [
        {
          "output_type": "stream",
          "name": "stdout",
          "text": [
            "{'Age': 30, 'Salary': 5000, 'address': 'Chennai', 'first_name': 'Rakesh'}\n"
          ]
        }
      ]
    },
    {
      "cell_type": "code",
      "source": [
        "# Mayuri Solution\n",
        "my_dict[\"First_Name\"] = my_dict.pop(\"first_name\")"
      ],
      "metadata": {
        "id": "hCnbz9ZC62AU"
      },
      "execution_count": 38,
      "outputs": []
    },
    {
      "cell_type": "code",
      "source": [
        "print(my_dict)"
      ],
      "metadata": {
        "colab": {
          "base_uri": "https://localhost:8080/"
        },
        "id": "-vLD94x07KQ4",
        "outputId": "bba1318f-2bbf-4e54-8f96-cc8ecfa4f483"
      },
      "execution_count": 39,
      "outputs": [
        {
          "output_type": "stream",
          "name": "stdout",
          "text": [
            "{'Age': 30, 'Salary': 5000, 'address': 'Chennai', 'First_Name': 'Rakesh'}\n"
          ]
        }
      ]
    },
    {
      "cell_type": "markdown",
      "source": [
        "# IN / NOT IN Operators\n"
      ],
      "metadata": {
        "id": "F8ODz2bT7Sco"
      }
    },
    {
      "cell_type": "code",
      "source": [
        "my_dict1 = {\n",
        "            1: \"one\",\n",
        "            2: \"two\",\n",
        "            3: \"three\",\n",
        "        }\n",
        "\n",
        "print(4 in my_dict1)"
      ],
      "metadata": {
        "colab": {
          "base_uri": "https://localhost:8080/"
        },
        "id": "6pYHCvRz7T1d",
        "outputId": "f7776008-3886-4c8b-94d3-09a6d0567a33"
      },
      "execution_count": 41,
      "outputs": [
        {
          "output_type": "stream",
          "name": "stdout",
          "text": [
            "False\n"
          ]
        }
      ]
    },
    {
      "cell_type": "code",
      "source": [
        "list1 = [1,2,3,4,5,6]\n",
        "\n",
        "print(5 in list1)"
      ],
      "metadata": {
        "colab": {
          "base_uri": "https://localhost:8080/"
        },
        "id": "Pnal-pfY7can",
        "outputId": "2d1a1281-e268-4b44-f7c2-1613d9cdedfd"
      },
      "execution_count": 43,
      "outputs": [
        {
          "output_type": "stream",
          "name": "stdout",
          "text": [
            "True\n"
          ]
        }
      ]
    },
    {
      "cell_type": "code",
      "source": [
        "list1 = [1,2,3,4,5,6]\n",
        "\n",
        "print(7 not in list1)"
      ],
      "metadata": {
        "colab": {
          "base_uri": "https://localhost:8080/"
        },
        "id": "BWAhEZ3Y73vC",
        "outputId": "e7af5768-eaf6-4ded-ada3-a5106214c2c6"
      },
      "execution_count": 48,
      "outputs": [
        {
          "output_type": "stream",
          "name": "stdout",
          "text": [
            "True\n"
          ]
        }
      ]
    },
    {
      "cell_type": "code",
      "source": [
        "string1 = \"I love Python\"\n",
        "print('P' not in string1)"
      ],
      "metadata": {
        "colab": {
          "base_uri": "https://localhost:8080/"
        },
        "id": "DEo8JMc-7hrb",
        "outputId": "fdb76268-71e9-4e8b-a2ee-6e3087293d04"
      },
      "execution_count": 46,
      "outputs": [
        {
          "output_type": "stream",
          "name": "stdout",
          "text": [
            "False\n"
          ]
        }
      ]
    },
    {
      "cell_type": "code",
      "source": [
        "string1 = \"I love Python\"\n",
        "print('P' in string1)"
      ],
      "metadata": {
        "colab": {
          "base_uri": "https://localhost:8080/"
        },
        "id": "DpWkU1tV7uZ6",
        "outputId": "609c2069-5076-40ea-86d7-d8ac6e81f565"
      },
      "execution_count": 47,
      "outputs": [
        {
          "output_type": "stream",
          "name": "stdout",
          "text": [
            "True\n"
          ]
        }
      ]
    },
    {
      "cell_type": "markdown",
      "source": [
        "# Nesting list inside dictionary"
      ],
      "metadata": {
        "id": "sKKGAMP68FtP"
      }
    },
    {
      "cell_type": "code",
      "source": [
        "programming_language = {\n",
        "    \"Elshad\" : [\"Python\", \"Java\", \"C++\"],\n",
        "    \"Renad\" : \"Scratch\",\n",
        "    \"Edy\" : \"Java\",\n",
        "}\n",
        "programming_language"
      ],
      "metadata": {
        "colab": {
          "base_uri": "https://localhost:8080/"
        },
        "id": "T1I-KMVH71YM",
        "outputId": "b73340b1-b48e-4dc1-df70-182578b95150"
      },
      "execution_count": 50,
      "outputs": [
        {
          "output_type": "execute_result",
          "data": {
            "text/plain": [
              "{'Elshad': ['Python', 'Java', 'C++'], 'Renad': 'Scratch', 'Edy': 'Java'}"
            ]
          },
          "metadata": {},
          "execution_count": 50
        }
      ]
    },
    {
      "cell_type": "markdown",
      "source": [
        "# Nesting dictionary inside dictionary"
      ],
      "metadata": {
        "id": "_bhpcqYp8S0e"
      }
    },
    {
      "cell_type": "code",
      "source": [
        "programming_language = {\n",
        "    \"Vishal\" : { \"favorite_languages\" : [\"Python\", \"Java\", \"C#\"],\n",
        "                 \"experience\": 10\n",
        "              },\n",
        "    \"Sachin\" : { \"favorite_languages\" : [\"Scratch\",\"Python\"],\n",
        "                \"experience\" : 2\n",
        "              },\n",
        "}"
      ],
      "metadata": {
        "id": "0fD_XXmt8Pfy"
      },
      "execution_count": 51,
      "outputs": []
    },
    {
      "cell_type": "code",
      "source": [
        "programming_language['Vishal']"
      ],
      "metadata": {
        "colab": {
          "base_uri": "https://localhost:8080/"
        },
        "id": "Wr6xe-5I8bxQ",
        "outputId": "cb6fe1da-f785-4f32-efc8-444cdba0e69d"
      },
      "execution_count": 52,
      "outputs": [
        {
          "output_type": "execute_result",
          "data": {
            "text/plain": [
              "{'favorite_languages': ['Python', 'Java', 'C#'], 'experience': 10}"
            ]
          },
          "metadata": {},
          "execution_count": 52
        }
      ]
    },
    {
      "cell_type": "code",
      "source": [
        "programming_language['Vishal']['experience']"
      ],
      "metadata": {
        "colab": {
          "base_uri": "https://localhost:8080/"
        },
        "id": "pOdbA62Z8iB7",
        "outputId": "d9a7f41e-3546-40ac-d453-35f8a64e81a9"
      },
      "execution_count": 53,
      "outputs": [
        {
          "output_type": "execute_result",
          "data": {
            "text/plain": [
              "10"
            ]
          },
          "metadata": {},
          "execution_count": 53
        }
      ]
    },
    {
      "cell_type": "code",
      "source": [
        "programming_language['Vishal']['favorite_languages']"
      ],
      "metadata": {
        "colab": {
          "base_uri": "https://localhost:8080/"
        },
        "id": "q8axRu7x8o10",
        "outputId": "0d5563d5-193e-4075-e5f0-472c0f5bf87a"
      },
      "execution_count": 54,
      "outputs": [
        {
          "output_type": "execute_result",
          "data": {
            "text/plain": [
              "['Python', 'Java', 'C#']"
            ]
          },
          "metadata": {},
          "execution_count": 54
        }
      ]
    },
    {
      "cell_type": "code",
      "source": [
        "programming_language['Sachin']['favorite_languages']"
      ],
      "metadata": {
        "colab": {
          "base_uri": "https://localhost:8080/"
        },
        "id": "KZhhhc1x8dLO",
        "outputId": "c26c10e2-a460-4fa4-96e7-80ec68e014d8"
      },
      "execution_count": 55,
      "outputs": [
        {
          "output_type": "execute_result",
          "data": {
            "text/plain": [
              "['Scratch', 'Python']"
            ]
          },
          "metadata": {},
          "execution_count": 55
        }
      ]
    },
    {
      "cell_type": "markdown",
      "source": [
        "# Nesting dictionary inside list"
      ],
      "metadata": {
        "id": "0YIQc5EZ84zS"
      }
    },
    {
      "cell_type": "code",
      "source": [
        "programming_language = [\n",
        "    {\"user_name\" : \"Aditi\",\n",
        "     \"favorite_languages\" : [\"Python\", \"Java\", \"C#\"],\n",
        "     \"experience\": 10\n",
        "    },\n",
        "    {\"user_name\":\"Kokila\",\n",
        "     \"favorite_languages\" : [\"Scratch\",\"Python\"],\n",
        "     \"experience\" : 2\n",
        "    },\n",
        "]\n"
      ],
      "metadata": {
        "id": "a5atczlb8wcM"
      },
      "execution_count": 56,
      "outputs": []
    },
    {
      "cell_type": "code",
      "source": [
        "programming_language"
      ],
      "metadata": {
        "colab": {
          "base_uri": "https://localhost:8080/"
        },
        "id": "qxrr6yG09Gfe",
        "outputId": "caeb888f-fca4-4cbc-e2c1-33d5af744ac6"
      },
      "execution_count": 57,
      "outputs": [
        {
          "output_type": "execute_result",
          "data": {
            "text/plain": [
              "[{'user_name': 'Aditi',\n",
              "  'favorite_languages': ['Python', 'Java', 'C#'],\n",
              "  'experience': 10},\n",
              " {'user_name': 'Kokila',\n",
              "  'favorite_languages': ['Scratch', 'Python'],\n",
              "  'experience': 2}]"
            ]
          },
          "metadata": {},
          "execution_count": 57
        }
      ]
    },
    {
      "cell_type": "code",
      "source": [
        "programming_language[0]"
      ],
      "metadata": {
        "colab": {
          "base_uri": "https://localhost:8080/"
        },
        "id": "9Dtd4Vmo9G6r",
        "outputId": "22589398-5792-43f8-8a7a-bc0559feeacb"
      },
      "execution_count": 58,
      "outputs": [
        {
          "output_type": "execute_result",
          "data": {
            "text/plain": [
              "{'user_name': 'Aditi',\n",
              " 'favorite_languages': ['Python', 'Java', 'C#'],\n",
              " 'experience': 10}"
            ]
          },
          "metadata": {},
          "execution_count": 58
        }
      ]
    },
    {
      "cell_type": "code",
      "source": [
        "programming_language[1]"
      ],
      "metadata": {
        "colab": {
          "base_uri": "https://localhost:8080/"
        },
        "id": "uM1J999Y9NYh",
        "outputId": "62967509-cb52-4b27-e626-03d848d425cc"
      },
      "execution_count": 59,
      "outputs": [
        {
          "output_type": "execute_result",
          "data": {
            "text/plain": [
              "{'user_name': 'Kokila',\n",
              " 'favorite_languages': ['Scratch', 'Python'],\n",
              " 'experience': 2}"
            ]
          },
          "metadata": {},
          "execution_count": 59
        }
      ]
    },
    {
      "cell_type": "markdown",
      "source": [
        "# Handling Missing Keys in Dictionary"
      ],
      "metadata": {
        "id": "luYSc4IP9e78"
      }
    },
    {
      "cell_type": "code",
      "source": [
        "items = {\n",
        "    \"computer\" : 10,\n",
        "    \"printer\" : 8,\n",
        "    \"mouse\" : 15,\n",
        "    \"webcam\" : 12,\n",
        "    \"router\" : 10,\n",
        "}\n"
      ],
      "metadata": {
        "colab": {
          "base_uri": "https://localhost:8080/"
        },
        "id": "-Ve_vD5O9P9r",
        "outputId": "4f231834-978f-42f4-c903-1920985a1ac8"
      },
      "execution_count": 60,
      "outputs": [
        {
          "output_type": "stream",
          "name": "stdout",
          "text": [
            "Number of items in the sore: 11\n",
            "{'computer': 10, 'printer': 8, 'mouse': 15, 'webcam': 12, 'router': 10}\n"
          ]
        }
      ]
    },
    {
      "cell_type": "markdown",
      "source": [
        "## items.get(\"microphone\", 11) tries to retrieve the value associated with the key \"microphone\" from the items dictionary. If \"microphone\" doesn't exist, it returns the default value 11 but does not add the \"microphone\": 11 entry to the dictionary.\n"
      ],
      "metadata": {
        "id": "S658a1JJ_vlU"
      }
    },
    {
      "cell_type": "code",
      "source": [
        "quantity = items.get(\"microphone\", 11)\n",
        "print(f\"Number of items in the sore: {quantity}\")\n",
        "print(items)"
      ],
      "metadata": {
        "id": "e5R5-z7U_wDp"
      },
      "execution_count": null,
      "outputs": []
    },
    {
      "cell_type": "markdown",
      "source": [
        "## items.setdefault(\"computer\", 11) will insert the key \"computer\" with the value 11 into the dictionary items if it doesn’t exist already. If it already exists, it will just return the current value associated with \"computer\"."
      ],
      "metadata": {
        "id": "zSOn8NSI_hN9"
      }
    },
    {
      "cell_type": "code",
      "source": [
        "quantity = items.setdefault(\"computer\", 11)\n",
        "print(f\"Number of items in the sore: {quantity}\")\n",
        "print(items)"
      ],
      "metadata": {
        "colab": {
          "base_uri": "https://localhost:8080/"
        },
        "id": "fM2mMIBG-BSc",
        "outputId": "2740fc55-1bd2-4993-84db-3fbf4dd9cc0b"
      },
      "execution_count": 61,
      "outputs": [
        {
          "output_type": "stream",
          "name": "stdout",
          "text": [
            "Number of items in the sore: 10\n",
            "{'computer': 10, 'printer': 8, 'mouse': 15, 'webcam': 12, 'router': 10}\n"
          ]
        }
      ]
    },
    {
      "cell_type": "markdown",
      "source": [
        "# item function in Dictionary"
      ],
      "metadata": {
        "id": "1_iEpzrC-O-1"
      }
    },
    {
      "cell_type": "code",
      "source": [
        "custom_dict = {\n",
        "    0 : \"zero\",\n",
        "    1 : \"one\",\n",
        "    2 : \"two\",\n",
        "    3 : \"three\",\n",
        "    4 : \"four\",\n",
        "    5 : \"five\",\n",
        "    6 : \"six\",\n",
        "    7 : \"seven\",\n",
        "}\n",
        "\n",
        "\n",
        "for key, values in custom_dict.items():\n",
        "    print(key, values)\n",
        "\n",
        "# for item in custom_dict.items():\n",
        "#     print(item)\n",
        "\n",
        "\n",
        "\n",
        "print(custom_dict.items())\n",
        "\n",
        ""
      ],
      "metadata": {
        "colab": {
          "base_uri": "https://localhost:8080/"
        },
        "id": "EHYtVFDf9nzn",
        "outputId": "8e20e779-3989-4f4c-b898-999828f833e6"
      },
      "execution_count": 62,
      "outputs": [
        {
          "output_type": "stream",
          "name": "stdout",
          "text": [
            "0 zero\n",
            "1 one\n",
            "2 two\n",
            "3 three\n",
            "4 four\n",
            "5 five\n",
            "6 six\n",
            "7 seven\n",
            "dict_items([(0, 'zero'), (1, 'one'), (2, 'two'), (3, 'three'), (4, 'four'), (5, 'five'), (6, 'six'), (7, 'seven')])\n"
          ]
        }
      ]
    },
    {
      "cell_type": "code",
      "source": [
        "# Keys\n",
        "custom_dict.keys()"
      ],
      "metadata": {
        "colab": {
          "base_uri": "https://localhost:8080/"
        },
        "id": "EFM8rSqg-f39",
        "outputId": "539c71a4-2586-4bbe-9ecc-f83c2da67532"
      },
      "execution_count": 65,
      "outputs": [
        {
          "output_type": "execute_result",
          "data": {
            "text/plain": [
              "dict_keys([0, 1, 2, 3, 4, 5, 6, 7])"
            ]
          },
          "metadata": {},
          "execution_count": 65
        }
      ]
    },
    {
      "cell_type": "code",
      "source": [
        "# Values\n",
        "custom_dict.values()"
      ],
      "metadata": {
        "colab": {
          "base_uri": "https://localhost:8080/"
        },
        "id": "tjS5Jh7v-jVF",
        "outputId": "10c7954c-2913-4b8f-c5c4-e7140f4fdfef"
      },
      "execution_count": 66,
      "outputs": [
        {
          "output_type": "execute_result",
          "data": {
            "text/plain": [
              "dict_values(['zero', 'one', 'two', 'three', 'four', 'five', 'six', 'seven'])"
            ]
          },
          "metadata": {},
          "execution_count": 66
        }
      ]
    },
    {
      "cell_type": "code",
      "source": [
        "custom_dict.items()"
      ],
      "metadata": {
        "colab": {
          "base_uri": "https://localhost:8080/"
        },
        "id": "UmV_wRQj-wpK",
        "outputId": "07ba0638-b933-4beb-b5f1-3f8a9592ea16"
      },
      "execution_count": 68,
      "outputs": [
        {
          "output_type": "execute_result",
          "data": {
            "text/plain": [
              "dict_items([(0, 'zero'), (1, 'one'), (2, 'two'), (3, 'three'), (4, 'four'), (5, 'five'), (6, 'six'), (7, 'seven')])"
            ]
          },
          "metadata": {},
          "execution_count": 68
        }
      ]
    },
    {
      "cell_type": "code",
      "source": [],
      "metadata": {
        "id": "ctO9cUfA-uSA"
      },
      "execution_count": null,
      "outputs": []
    }
  ]
}