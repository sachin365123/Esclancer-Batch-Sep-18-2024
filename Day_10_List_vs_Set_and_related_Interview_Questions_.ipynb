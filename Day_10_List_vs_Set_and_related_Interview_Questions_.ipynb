{
  "nbformat": 4,
  "nbformat_minor": 0,
  "metadata": {
    "colab": {
      "provenance": []
    },
    "kernelspec": {
      "name": "python3",
      "display_name": "Python 3"
    },
    "language_info": {
      "name": "python"
    }
  },
  "cells": [
    {
      "cell_type": "markdown",
      "source": [
        "# Initialization of List"
      ],
      "metadata": {
        "id": "AfESxjhwdSGQ"
      }
    },
    {
      "cell_type": "code",
      "execution_count": 5,
      "metadata": {
        "id": "_bmgNoQvabwf"
      },
      "outputs": [],
      "source": [
        "nums = [7,3,9]"
      ]
    },
    {
      "cell_type": "code",
      "source": [
        "print(nums)"
      ],
      "metadata": {
        "colab": {
          "base_uri": "https://localhost:8080/"
        },
        "id": "ZRgmNeSic5S2",
        "outputId": "64c44795-188f-43cc-d0b3-553584c59352"
      },
      "execution_count": 6,
      "outputs": [
        {
          "output_type": "stream",
          "name": "stdout",
          "text": [
            "[7, 3, 9]\n"
          ]
        }
      ]
    },
    {
      "cell_type": "code",
      "source": [
        "nums[0]"
      ],
      "metadata": {
        "colab": {
          "base_uri": "https://localhost:8080/"
        },
        "id": "KsTaJTNpc7JF",
        "outputId": "059702be-41c6-49ee-9c1a-a55b8162379f"
      },
      "execution_count": 7,
      "outputs": [
        {
          "output_type": "execute_result",
          "data": {
            "text/plain": [
              "7"
            ]
          },
          "metadata": {},
          "execution_count": 7
        }
      ]
    },
    {
      "cell_type": "code",
      "source": [
        "nums[1]"
      ],
      "metadata": {
        "colab": {
          "base_uri": "https://localhost:8080/"
        },
        "id": "3t0mzQCedABO",
        "outputId": "1607be73-48d1-488f-ac70-688814d0bc00"
      },
      "execution_count": 8,
      "outputs": [
        {
          "output_type": "execute_result",
          "data": {
            "text/plain": [
              "3"
            ]
          },
          "metadata": {},
          "execution_count": 8
        }
      ]
    },
    {
      "cell_type": "code",
      "source": [
        "nums[2]"
      ],
      "metadata": {
        "colab": {
          "base_uri": "https://localhost:8080/"
        },
        "id": "8gpwJ5HTdEc7",
        "outputId": "15eb64a8-4768-4d42-8028-740503d4d1a9"
      },
      "execution_count": 9,
      "outputs": [
        {
          "output_type": "execute_result",
          "data": {
            "text/plain": [
              "9"
            ]
          },
          "metadata": {},
          "execution_count": 9
        }
      ]
    },
    {
      "cell_type": "code",
      "source": [
        "nums[1]=85\n",
        "nums"
      ],
      "metadata": {
        "colab": {
          "base_uri": "https://localhost:8080/"
        },
        "id": "wBjNl0fydGGz",
        "outputId": "9ebb8a70-ca51-4615-cbce-09c77e23ba02"
      },
      "execution_count": 10,
      "outputs": [
        {
          "output_type": "execute_result",
          "data": {
            "text/plain": [
              "[7, 85, 9]"
            ]
          },
          "metadata": {},
          "execution_count": 10
        }
      ]
    },
    {
      "cell_type": "markdown",
      "source": [
        "# Loop with range"
      ],
      "metadata": {
        "id": "LsSAIwu1dw1X"
      }
    },
    {
      "cell_type": "code",
      "source": [
        "vegetables_list = [\"Carrot\", \"Broccoli\", \"Corn\"]\n",
        "for i in vegetables_list:\n",
        "    print(i, end=\" \")"
      ],
      "metadata": {
        "colab": {
          "base_uri": "https://localhost:8080/"
        },
        "id": "iVE5EgC3dNdt",
        "outputId": "69218cef-90cf-43f2-943b-e946f87bd51a"
      },
      "execution_count": 16,
      "outputs": [
        {
          "output_type": "stream",
          "name": "stdout",
          "text": [
            "Carrot Broccoli Corn "
          ]
        }
      ]
    },
    {
      "cell_type": "code",
      "source": [
        "vegetables_list[1]='Patoto'\n",
        "vegetables_list"
      ],
      "metadata": {
        "colab": {
          "base_uri": "https://localhost:8080/"
        },
        "id": "E-db5k0reaQt",
        "outputId": "cfc9a3a6-a8f8-44e9-b95c-e476d0ac0add"
      },
      "execution_count": 19,
      "outputs": [
        {
          "output_type": "execute_result",
          "data": {
            "text/plain": [
              "['Carrot', 'Patoto', 'Corn']"
            ]
          },
          "metadata": {},
          "execution_count": 19
        }
      ]
    },
    {
      "cell_type": "code",
      "source": [
        "vegetables_tuple = (\"Carrot\", \"Broccoli\", \"Corn\")\n",
        "for i in vegetables_tuple:\n",
        "    print(i, end=\" \")"
      ],
      "metadata": {
        "colab": {
          "base_uri": "https://localhost:8080/"
        },
        "id": "I0MKj8HhdkDs",
        "outputId": "b85e89a8-fd48-4d0f-b628-2cd7975b62cc"
      },
      "execution_count": 17,
      "outputs": [
        {
          "output_type": "stream",
          "name": "stdout",
          "text": [
            "Carrot Broccoli Corn "
          ]
        }
      ]
    },
    {
      "cell_type": "code",
      "source": [
        "# vegetables_tuple[1]='Patoto'\n",
        "# vegetables_tuple"
      ],
      "metadata": {
        "id": "s3BW1tpvenwh"
      },
      "execution_count": 21,
      "outputs": []
    },
    {
      "cell_type": "code",
      "source": [
        "list1 = [1,2,3,4, 'a', 'b', 'c', 'd']\n",
        "\n",
        "check = 3 not in list1\n",
        "print(check)"
      ],
      "metadata": {
        "colab": {
          "base_uri": "https://localhost:8080/"
        },
        "id": "AEldSNwIe2fL",
        "outputId": "16354b9f-25f4-4ec4-fe7b-0faec5785975"
      },
      "execution_count": 23,
      "outputs": [
        {
          "output_type": "stream",
          "name": "stdout",
          "text": [
            "False\n"
          ]
        }
      ]
    },
    {
      "cell_type": "code",
      "source": [
        "vegetables = [\"Tomato\", \"Cucumber\", \"Broccoli\", \"Onion\", \"Garlic\"]\n",
        "print(vegetables[:-2])\n",
        "print(vegetables)\n"
      ],
      "metadata": {
        "colab": {
          "base_uri": "https://localhost:8080/"
        },
        "id": "6IBckAN2eZdv",
        "outputId": "da9f23e2-ef30-4347-ab91-b373b0a818e0"
      },
      "execution_count": 24,
      "outputs": [
        {
          "output_type": "stream",
          "name": "stdout",
          "text": [
            "['Tomato', 'Cucumber', 'Broccoli']\n",
            "['Tomato', 'Cucumber', 'Broccoli', 'Onion', 'Garlic']\n"
          ]
        }
      ]
    },
    {
      "cell_type": "markdown",
      "source": [
        "# Lenth of List"
      ],
      "metadata": {
        "id": "kEC3Mmt4fQPK"
      }
    },
    {
      "cell_type": "code",
      "source": [
        "countries_of_UK = [\"England\", \"Scotland\", \"Northern Ireland \", \"Wales\"]\n",
        "num_of_countries = len(countries_of_UK)\n"
      ],
      "metadata": {
        "id": "nA2sYgG7fSLV"
      },
      "execution_count": 26,
      "outputs": []
    },
    {
      "cell_type": "code",
      "source": [
        "num_of_countries"
      ],
      "metadata": {
        "colab": {
          "base_uri": "https://localhost:8080/"
        },
        "id": "0mmKHeucfi6I",
        "outputId": "efe291a1-b4d1-4863-9d7f-09052870d6da"
      },
      "execution_count": 30,
      "outputs": [
        {
          "output_type": "execute_result",
          "data": {
            "text/plain": [
              "4"
            ]
          },
          "metadata": {},
          "execution_count": 30
        }
      ]
    },
    {
      "cell_type": "code",
      "source": [
        "countries_of_UK"
      ],
      "metadata": {
        "colab": {
          "base_uri": "https://localhost:8080/"
        },
        "id": "of3U9AjpfgNY",
        "outputId": "0f57a69d-e115-4182-fd82-df053b59e6dc"
      },
      "execution_count": 38,
      "outputs": [
        {
          "output_type": "execute_result",
          "data": {
            "text/plain": [
              "['England', 'Scotland', 'Northern Ireland ', 'Wales']"
            ]
          },
          "metadata": {},
          "execution_count": 38
        }
      ]
    },
    {
      "cell_type": "code",
      "source": [
        "countries_of_UK[3]"
      ],
      "metadata": {
        "colab": {
          "base_uri": "https://localhost:8080/",
          "height": 36
        },
        "id": "GpRosuxlgc1h",
        "outputId": "abaddb2b-8a78-4e27-d98b-18cb40d61403"
      },
      "execution_count": 37,
      "outputs": [
        {
          "output_type": "execute_result",
          "data": {
            "text/plain": [
              "'Wales'"
            ],
            "application/vnd.google.colaboratory.intrinsic+json": {
              "type": "string"
            }
          },
          "metadata": {},
          "execution_count": 37
        }
      ]
    },
    {
      "cell_type": "code",
      "source": [
        "countries_of_UK[num_of_countries-1]"
      ],
      "metadata": {
        "colab": {
          "base_uri": "https://localhost:8080/",
          "height": 36
        },
        "id": "sbuYNOEdfYlv",
        "outputId": "3de1611e-df1b-4346-9cdd-c23669c104c9"
      },
      "execution_count": 36,
      "outputs": [
        {
          "output_type": "execute_result",
          "data": {
            "text/plain": [
              "'Wales'"
            ],
            "application/vnd.google.colaboratory.intrinsic+json": {
              "type": "string"
            }
          },
          "metadata": {},
          "execution_count": 36
        }
      ]
    },
    {
      "cell_type": "markdown",
      "source": [
        "# Set and Interview Questions"
      ],
      "metadata": {
        "id": "meCcU-iNg9jx"
      }
    },
    {
      "cell_type": "code",
      "source": [
        "my_set = set()\n",
        "while len(my_set) < 5:\n",
        "    element = int(input(\"Please enter value: \"))\n",
        "    my_set.add(element)\n",
        "\n",
        "\n"
      ],
      "metadata": {
        "colab": {
          "base_uri": "https://localhost:8080/"
        },
        "id": "V-FGcxmZg0zZ",
        "outputId": "0338d320-732c-4463-b02e-38944f109064"
      },
      "execution_count": 45,
      "outputs": [
        {
          "name": "stdout",
          "output_type": "stream",
          "text": [
            "Please enter value: 25\n",
            "Please enter value: 18\n",
            "Please enter value: 62\n",
            "Please enter value: 37\n",
            "Please enter value: 81\n"
          ]
        }
      ]
    },
    {
      "cell_type": "code",
      "source": [
        "print(my_set)"
      ],
      "metadata": {
        "colab": {
          "base_uri": "https://localhost:8080/"
        },
        "id": "SPDuMKnShGF3",
        "outputId": "97f61a38-22a2-4643-cfd9-2944ca652300"
      },
      "execution_count": 46,
      "outputs": [
        {
          "output_type": "stream",
          "name": "stdout",
          "text": [
            "{37, 81, 18, 25, 62}\n"
          ]
        }
      ]
    },
    {
      "cell_type": "code",
      "source": [
        "my_set"
      ],
      "metadata": {
        "colab": {
          "base_uri": "https://localhost:8080/"
        },
        "id": "ZpJzgvpkhJiH",
        "outputId": "dff9bc4c-47e7-4ee9-c3f2-b67fd2c0365b"
      },
      "execution_count": 41,
      "outputs": [
        {
          "output_type": "execute_result",
          "data": {
            "text/plain": [
              "set()"
            ]
          },
          "metadata": {},
          "execution_count": 41
        }
      ]
    },
    {
      "cell_type": "code",
      "source": [
        "fruit_list = [\"apple\", \"apple\", \"orange\", \"grape\", \"grape\", \"orange\", \"apple\"]\n",
        "fruit_list"
      ],
      "metadata": {
        "colab": {
          "base_uri": "https://localhost:8080/"
        },
        "id": "yTVhEi7PhHsY",
        "outputId": "adb20d7b-1e3f-46e2-8d8e-6efc556d6bd0"
      },
      "execution_count": 47,
      "outputs": [
        {
          "output_type": "execute_result",
          "data": {
            "text/plain": [
              "['apple', 'apple', 'orange', 'grape', 'grape', 'orange', 'apple']"
            ]
          },
          "metadata": {},
          "execution_count": 47
        }
      ]
    },
    {
      "cell_type": "code",
      "source": [
        "fruit_set=set(fruit_list)\n",
        "fruit_set"
      ],
      "metadata": {
        "colab": {
          "base_uri": "https://localhost:8080/"
        },
        "id": "iMjuTUDfiHnF",
        "outputId": "349677d7-ab21-42cb-99e5-56d67499e80c"
      },
      "execution_count": 48,
      "outputs": [
        {
          "output_type": "execute_result",
          "data": {
            "text/plain": [
              "{'apple', 'grape', 'orange'}"
            ]
          },
          "metadata": {},
          "execution_count": 48
        }
      ]
    },
    {
      "cell_type": "markdown",
      "source": [
        "# Problem 1: Remove Duplicate elements from List"
      ],
      "metadata": {
        "id": "ohap3e0iiWiZ"
      }
    },
    {
      "cell_type": "code",
      "source": [
        "my_list = [\"apple\", \"apple\", \"orange\", \"grape\", \"grape\", \"orange\", \"apple\"]\n",
        "print(my_list)\n",
        "my_set = set(my_list)\n",
        "print(my_set)\n",
        "my_list = list(my_set)\n",
        "print(my_list)"
      ],
      "metadata": {
        "colab": {
          "base_uri": "https://localhost:8080/"
        },
        "id": "uEToWBU-iM6L",
        "outputId": "771c6497-64fd-4bc4-cf42-e6967ef3a9c3"
      },
      "execution_count": 50,
      "outputs": [
        {
          "output_type": "stream",
          "name": "stdout",
          "text": [
            "['apple', 'apple', 'orange', 'grape', 'grape', 'orange', 'apple']\n",
            "{'apple', 'orange', 'grape'}\n",
            "['apple', 'orange', 'grape']\n"
          ]
        }
      ]
    },
    {
      "cell_type": "markdown",
      "source": [
        "# Union over Set"
      ],
      "metadata": {
        "id": "6giLNUSiiuTk"
      }
    },
    {
      "cell_type": "code",
      "source": [
        "fruits = {\"apple\", \"pear\", \"lemon\", \"grape\", \"orange\"}\n",
        "vegetables = {\"cucumber\", \"garlic\", \"onion\", \"broccoli\", \"pepper\"}\n",
        "\n",
        "all_together1 = fruits.union(vegetables)\n",
        "print(all_together1)"
      ],
      "metadata": {
        "colab": {
          "base_uri": "https://localhost:8080/"
        },
        "id": "Jy0jWyc2igb4",
        "outputId": "08f36a8c-a657-4496-d07b-1146e7acc290"
      },
      "execution_count": 51,
      "outputs": [
        {
          "output_type": "stream",
          "name": "stdout",
          "text": [
            "{'onion', 'lemon', 'garlic', 'apple', 'broccoli', 'cucumber', 'pepper', 'pear', 'orange', 'grape'}\n"
          ]
        }
      ]
    },
    {
      "cell_type": "code",
      "source": [
        "all_together2 = vegetables.union(fruits)\n",
        "print(all_together2)"
      ],
      "metadata": {
        "colab": {
          "base_uri": "https://localhost:8080/"
        },
        "id": "nVnLAlwVjDds",
        "outputId": "b99a3d51-2e20-4d8d-ddef-9a72d4168a55"
      },
      "execution_count": 52,
      "outputs": [
        {
          "output_type": "stream",
          "name": "stdout",
          "text": [
            "{'onion', 'lemon', 'garlic', 'apple', 'broccoli', 'cucumber', 'pepper', 'pear', 'orange', 'grape'}\n"
          ]
        }
      ]
    },
    {
      "cell_type": "markdown",
      "source": [
        "# pipe operator for union in Set in Python"
      ],
      "metadata": {
        "id": "L07zHb8xjUAp"
      }
    },
    {
      "cell_type": "code",
      "source": [
        "# pipe operator\n",
        "all_together3 = vegetables | fruits\n",
        "print(all_together3)"
      ],
      "metadata": {
        "colab": {
          "base_uri": "https://localhost:8080/"
        },
        "id": "FBxrAJKFjPKK",
        "outputId": "45b43a8e-9ccc-4b23-ea74-d5d5cf66ca81"
      },
      "execution_count": 53,
      "outputs": [
        {
          "output_type": "stream",
          "name": "stdout",
          "text": [
            "{'onion', 'lemon', 'garlic', 'apple', 'broccoli', 'cucumber', 'pepper', 'pear', 'orange', 'grape'}\n"
          ]
        }
      ]
    },
    {
      "cell_type": "code",
      "source": [
        "set1 = {10,20,30,40,50}\n",
        "set2 = {60,20,50,70}\n",
        "\n",
        "set3 = set1.union(set2)\n",
        "print(set3)"
      ],
      "metadata": {
        "colab": {
          "base_uri": "https://localhost:8080/"
        },
        "id": "H1yquXr-jfbq",
        "outputId": "1aefe753-8e35-42ca-bb74-92704086729e"
      },
      "execution_count": 54,
      "outputs": [
        {
          "output_type": "stream",
          "name": "stdout",
          "text": [
            "{70, 40, 10, 50, 20, 60, 30}\n"
          ]
        }
      ]
    },
    {
      "cell_type": "markdown",
      "source": [
        "# Problem 2: Create Random and Intersection in Set Elements"
      ],
      "metadata": {
        "id": "6xUWn950jzB7"
      }
    },
    {
      "cell_type": "code",
      "source": [
        "set1 = set(range(20))\n",
        "print(set1)\n"
      ],
      "metadata": {
        "colab": {
          "base_uri": "https://localhost:8080/"
        },
        "id": "zjrn2vmRj1o5",
        "outputId": "3fb2a06b-c99e-4489-9bf2-4996385f3c1a"
      },
      "execution_count": 55,
      "outputs": [
        {
          "output_type": "stream",
          "name": "stdout",
          "text": [
            "{0, 1, 2, 3, 4, 5, 6, 7, 8, 9, 10, 11, 12, 13, 14, 15, 16, 17, 18, 19}\n"
          ]
        }
      ]
    },
    {
      "cell_type": "code",
      "source": [
        "set2 = set(range(0,20,2))\n",
        "\n",
        "print(set2)"
      ],
      "metadata": {
        "colab": {
          "base_uri": "https://localhost:8080/"
        },
        "id": "wIJN8mjEj6vO",
        "outputId": "61ef6baa-216d-4bd9-a3c9-47fde822130a"
      },
      "execution_count": 56,
      "outputs": [
        {
          "output_type": "stream",
          "name": "stdout",
          "text": [
            "{0, 2, 4, 6, 8, 10, 12, 14, 16, 18}\n"
          ]
        }
      ]
    },
    {
      "cell_type": "code",
      "source": [
        "set3 = set(range(0,20,3))\n",
        "print(set3)"
      ],
      "metadata": {
        "colab": {
          "base_uri": "https://localhost:8080/"
        },
        "id": "3erHAux4kDyC",
        "outputId": "2ddcffc5-f2b7-41be-f201-11909aa9ec12"
      },
      "execution_count": 57,
      "outputs": [
        {
          "output_type": "stream",
          "name": "stdout",
          "text": [
            "{0, 3, 6, 9, 12, 15, 18}\n"
          ]
        }
      ]
    },
    {
      "cell_type": "code",
      "source": [
        "print(set.intersection(set1, set2, set3))"
      ],
      "metadata": {
        "colab": {
          "base_uri": "https://localhost:8080/"
        },
        "id": "-EgApZCkj_Jp",
        "outputId": "3e500590-fb5f-4573-bbb0-46e0fa85e1d1"
      },
      "execution_count": 58,
      "outputs": [
        {
          "output_type": "stream",
          "name": "stdout",
          "text": [
            "{0, 18, 12, 6}\n"
          ]
        }
      ]
    },
    {
      "cell_type": "markdown",
      "source": [
        "# Problem 3: Find respective words in paragraph"
      ],
      "metadata": {
        "id": "_WPjiubGkpEo"
      }
    },
    {
      "cell_type": "code",
      "source": [
        "speech = \"\"\"Success is no accident. It is hard work, perseverance, learning, studying, sacrifice and most of all, love of what you are doing or learning to do.\"\"\""
      ],
      "metadata": {
        "id": "s3EfBphBkvnE"
      },
      "execution_count": 59,
      "outputs": []
    },
    {
      "cell_type": "code",
      "source": [
        "find = {\"as\", \"but\", \"by\", \"for\", \"in\", \"of\", \"on\", \"to\", \"with\"}"
      ],
      "metadata": {
        "id": "EMkfdYXJk1Mr"
      },
      "execution_count": 64,
      "outputs": []
    },
    {
      "cell_type": "code",
      "source": [
        "# Add your code here.\n",
        "def find_prep(p_quote):\n",
        "  words = p_quote.split()\n",
        "  print(words)\n",
        "  preps_used = find.intersection(words)\n",
        "  return preps_used"
      ],
      "metadata": {
        "id": "fkOt4wrhk5_Z"
      },
      "execution_count": 63,
      "outputs": []
    },
    {
      "cell_type": "code",
      "source": [
        "find_prep(speech)"
      ],
      "metadata": {
        "colab": {
          "base_uri": "https://localhost:8080/"
        },
        "id": "N5bYZ16ylJOl",
        "outputId": "c003dc45-ce77-49e4-992e-6dee0b51031a"
      },
      "execution_count": 65,
      "outputs": [
        {
          "output_type": "stream",
          "name": "stdout",
          "text": [
            "['Success', 'is', 'no', 'accident.', 'It', 'is', 'hard', 'work,', 'perseverance,', 'learning,', 'studying,', 'sacrifice', 'and', 'most', 'of', 'all,', 'love', 'of', 'what', 'you', 'are', 'doing', 'or', 'learning', 'to', 'do.']\n"
          ]
        },
        {
          "output_type": "execute_result",
          "data": {
            "text/plain": [
              "{'of', 'to'}"
            ]
          },
          "metadata": {},
          "execution_count": 65
        }
      ]
    },
    {
      "cell_type": "code",
      "source": [],
      "metadata": {
        "id": "MyK2atGClqhn"
      },
      "execution_count": null,
      "outputs": []
    }
  ]
}