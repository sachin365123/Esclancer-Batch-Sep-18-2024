{
  "nbformat": 4,
  "nbformat_minor": 0,
  "metadata": {
    "colab": {
      "provenance": []
    },
    "kernelspec": {
      "name": "python3",
      "display_name": "Python 3"
    },
    "language_info": {
      "name": "python"
    }
  },
  "cells": [
    {
      "cell_type": "markdown",
      "source": [
        "# For Loop in Python"
      ],
      "metadata": {
        "id": "4lsiEPpyh3fR"
      }
    },
    {
      "cell_type": "code",
      "execution_count": 1,
      "metadata": {
        "colab": {
          "base_uri": "https://localhost:8080/"
        },
        "id": "AqtvHkPbhez8",
        "outputId": "bbb67b43-9f29-4730-a47d-490b24e574a9"
      },
      "outputs": [
        {
          "output_type": "stream",
          "name": "stdout",
          "text": [
            "['Carrot', 'Broccoli', 'Corn']\n"
          ]
        }
      ],
      "source": [
        "vegetables = [\"Carrot\", \"Broccoli\", \"Corn\"]\n",
        "print(vegetables)"
      ]
    },
    {
      "cell_type": "code",
      "source": [
        "vegetables = [\"Carrot\", \"Broccoli\", \"Corn\"]\n",
        "\n",
        "for i in vegetables:\n",
        "  print(i)"
      ],
      "metadata": {
        "colab": {
          "base_uri": "https://localhost:8080/"
        },
        "id": "zFpnMrHTh-QE",
        "outputId": "ce1b47c4-19be-4ea5-d44c-6d2d525b0d4e"
      },
      "execution_count": 2,
      "outputs": [
        {
          "output_type": "stream",
          "name": "stdout",
          "text": [
            "Carrot\n",
            "Broccoli\n",
            "Corn\n"
          ]
        }
      ]
    },
    {
      "cell_type": "code",
      "source": [
        "numbers = [10, 20, 30, 40]\n",
        "names = ['Syda', 'Vishal', 'Zeenat', 10, 1.5, 65.9]\n",
        "\n",
        "for i in names:\n",
        "  print(i, end=' ')"
      ],
      "metadata": {
        "colab": {
          "base_uri": "https://localhost:8080/"
        },
        "id": "EyhCN6E6iK8p",
        "outputId": "9b00817d-79b4-49b6-dc3b-034951725a2b"
      },
      "execution_count": 6,
      "outputs": [
        {
          "output_type": "stream",
          "name": "stdout",
          "text": [
            "Syda Vishal Zeenat 10 1.5 65.9 "
          ]
        }
      ]
    },
    {
      "cell_type": "code",
      "source": [
        "for i in numbers:\n",
        "  print(i,end=' ')"
      ],
      "metadata": {
        "colab": {
          "base_uri": "https://localhost:8080/"
        },
        "id": "BrCgqALsiiBH",
        "outputId": "e42fc380-67cd-47ef-b794-3f39fcc9f0c4"
      },
      "execution_count": 7,
      "outputs": [
        {
          "output_type": "stream",
          "name": "stdout",
          "text": [
            "10 20 30 40 "
          ]
        }
      ]
    },
    {
      "cell_type": "code",
      "source": [
        "for i in range(11, 26):\n",
        "  print(i, end=' ')"
      ],
      "metadata": {
        "colab": {
          "base_uri": "https://localhost:8080/"
        },
        "id": "5N9G3XPQi9K6",
        "outputId": "a73dab05-5ae0-4cb5-b2fd-ba8ef9a57af9"
      },
      "execution_count": 11,
      "outputs": [
        {
          "output_type": "stream",
          "name": "stdout",
          "text": [
            "11 12 13 14 15 16 17 18 19 20 21 22 23 24 25 "
          ]
        }
      ]
    },
    {
      "cell_type": "code",
      "source": [
        "numbers"
      ],
      "metadata": {
        "colab": {
          "base_uri": "https://localhost:8080/"
        },
        "id": "ZJaRPBLQjZfG",
        "outputId": "b6aeefc6-3514-474d-c4a9-1145f3b6cc50"
      },
      "execution_count": 12,
      "outputs": [
        {
          "output_type": "execute_result",
          "data": {
            "text/plain": [
              "[10, 20, 30, 40]"
            ]
          },
          "metadata": {},
          "execution_count": 12
        }
      ]
    },
    {
      "cell_type": "code",
      "source": [
        "for index in range(4):\n",
        "    print(index)\n",
        "    numbers[index] = numbers[index] * 2"
      ],
      "metadata": {
        "colab": {
          "base_uri": "https://localhost:8080/"
        },
        "id": "NUTgJxjuigDi",
        "outputId": "5438628a-6063-40c4-c5f4-1a4170bebf63"
      },
      "execution_count": 15,
      "outputs": [
        {
          "output_type": "stream",
          "name": "stdout",
          "text": [
            "0\n",
            "1\n",
            "2\n",
            "3\n"
          ]
        }
      ]
    },
    {
      "cell_type": "code",
      "source": [
        "numbers"
      ],
      "metadata": {
        "colab": {
          "base_uri": "https://localhost:8080/"
        },
        "id": "tV-zrz3Xjfjq",
        "outputId": "a840ef88-61f8-48fe-d5d2-ddfacbe22b2d"
      },
      "execution_count": 16,
      "outputs": [
        {
          "output_type": "execute_result",
          "data": {
            "text/plain": [
              "[40, 80, 120, 160]"
            ]
          },
          "metadata": {},
          "execution_count": 16
        }
      ]
    },
    {
      "cell_type": "markdown",
      "source": [
        "# Problem 1: Find the max number in list"
      ],
      "metadata": {
        "id": "KX7viiftj7Ce"
      }
    },
    {
      "cell_type": "code",
      "source": [
        "student_scores = [80, 99, 526, 65, 75, 55]\n",
        "highest_score = 0\n",
        "\n",
        "for score in student_scores:\n",
        "  if score > highest_score:\n",
        "    highest_score = score\n",
        "\n",
        "print(f\"The highest score in the class is: {highest_score}\")\n",
        "\n"
      ],
      "metadata": {
        "colab": {
          "base_uri": "https://localhost:8080/"
        },
        "id": "q_9KDlvlj_JV",
        "outputId": "15314693-c305-4e4e-cb29-25a19cbbaaf2"
      },
      "execution_count": 18,
      "outputs": [
        {
          "output_type": "stream",
          "name": "stdout",
          "text": [
            "The highest score in the class is: 526\n"
          ]
        }
      ]
    },
    {
      "cell_type": "markdown",
      "source": [
        "# Problem 2: Say Hi, you are rude !!!!"
      ],
      "metadata": {
        "id": "24tJXqfQlEAx"
      }
    },
    {
      "cell_type": "code",
      "source": [
        "greet= input(\"Hello !!! Say Hi.....\")\n",
        "name=input(\"What is your name ?\")\n",
        "\n",
        "while greet!='Hi':\n",
        "  greet= input(\"You are Rude !! Say Hi.....\")\n",
        "print('Thanks....', name)"
      ],
      "metadata": {
        "colab": {
          "base_uri": "https://localhost:8080/"
        },
        "id": "MjCcVjxOkkdv",
        "outputId": "9118983d-03ee-44fc-fb9b-e11ad9e3a68c"
      },
      "execution_count": 22,
      "outputs": [
        {
          "output_type": "stream",
          "name": "stdout",
          "text": [
            "Hello !!! Say Hi.....Hi\n",
            "What is your name ?Rahul\n",
            "Thanks.... Rahul\n"
          ]
        }
      ]
    },
    {
      "cell_type": "code",
      "source": [
        "i=1\n",
        "while i<6:\n",
        "  print(i,\"Vishal\")\n",
        "  i=i+1"
      ],
      "metadata": {
        "colab": {
          "base_uri": "https://localhost:8080/"
        },
        "id": "IgMiSqj1mlOC",
        "outputId": "f6afcc2f-d04d-4cfc-b7f0-55b6ea1440f7"
      },
      "execution_count": 24,
      "outputs": [
        {
          "output_type": "stream",
          "name": "stdout",
          "text": [
            "1 Vishal\n",
            "2 Vishal\n",
            "3 Vishal\n",
            "4 Vishal\n",
            "5 Vishal\n"
          ]
        }
      ]
    },
    {
      "cell_type": "code",
      "source": [
        "name='Vijay Kumar'\n",
        "for i in name:\n",
        "  print(i, end='')"
      ],
      "metadata": {
        "colab": {
          "base_uri": "https://localhost:8080/"
        },
        "id": "9hsvlQgvnYsn",
        "outputId": "d42ef502-a764-4118-edd2-606222b70340"
      },
      "execution_count": 34,
      "outputs": [
        {
          "output_type": "stream",
          "name": "stdout",
          "text": [
            "Vijay Kumar"
          ]
        }
      ]
    },
    {
      "cell_type": "markdown",
      "source": [
        "# For loop start, stop, step"
      ],
      "metadata": {
        "id": "BYuy_m_EoPLe"
      }
    },
    {
      "cell_type": "code",
      "source": [
        "for i in range(11,31,1):\n",
        "  print(i, end=' ')"
      ],
      "metadata": {
        "colab": {
          "base_uri": "https://localhost:8080/"
        },
        "id": "enLl1LXHmw_C",
        "outputId": "a9cd637b-ff08-4f0c-b1e2-a7d4c65c5116"
      },
      "execution_count": 40,
      "outputs": [
        {
          "output_type": "stream",
          "name": "stdout",
          "text": [
            "11 12 13 14 15 16 17 18 19 20 21 22 23 24 25 26 27 28 29 30 "
          ]
        }
      ]
    },
    {
      "cell_type": "markdown",
      "source": [
        "# Problem 3: Find the instance(relevant data type) in the List"
      ],
      "metadata": {
        "id": "-NHrxR2EpF0C"
      }
    },
    {
      "cell_type": "code",
      "source": [
        "custom_list = [11, 30.1, 90.2, 30, 45.1, 54, '54']\n",
        "for item in custom_list:\n",
        "    if isinstance(item, int):\n",
        "        print(item)"
      ],
      "metadata": {
        "colab": {
          "base_uri": "https://localhost:8080/"
        },
        "id": "l-h1evhGoYIw",
        "outputId": "c205f46d-c620-4377-9f17-2e645fd42fe2"
      },
      "execution_count": 41,
      "outputs": [
        {
          "output_type": "stream",
          "name": "stdout",
          "text": [
            "11\n",
            "30\n",
            "54\n"
          ]
        }
      ]
    },
    {
      "cell_type": "code",
      "source": [
        "custom_list = [11, 30.1, 90.2, 30, 45.1, 54, '54']\n",
        "for item in custom_list:\n",
        "    if isinstance(item, str):\n",
        "        print(item, end=' ')"
      ],
      "metadata": {
        "colab": {
          "base_uri": "https://localhost:8080/"
        },
        "id": "2_vgCWozpeac",
        "outputId": "2850a77a-f8e4-4dd0-c2c9-a35a6ab5a80c"
      },
      "execution_count": 44,
      "outputs": [
        {
          "output_type": "stream",
          "name": "stdout",
          "text": [
            "54 "
          ]
        }
      ]
    },
    {
      "cell_type": "markdown",
      "source": [
        "# Problem 4: Add odd numbers given in List"
      ],
      "metadata": {
        "id": "66iuALAbp8Qo"
      }
    },
    {
      "cell_type": "code",
      "source": [
        "def add_odd_numbers():\n",
        "  total = 0\n",
        "  for number in range(1, 101, 2):\n",
        "    total =total+ number\n",
        "  return total\n",
        "\n",
        "print(add_odd_numbers())"
      ],
      "metadata": {
        "colab": {
          "base_uri": "https://localhost:8080/"
        },
        "id": "BEei673SpgyC",
        "outputId": "b447dd0c-8eed-4b99-ef6f-4d17876c1409"
      },
      "execution_count": 45,
      "outputs": [
        {
          "output_type": "stream",
          "name": "stdout",
          "text": [
            "2500\n"
          ]
        }
      ]
    },
    {
      "cell_type": "code",
      "source": [
        "# Add even numbers\n",
        "def add_even_numbers():\n",
        "  total = 0\n",
        "  for number in range(0, 101, 2):\n",
        "    total =total+ number\n",
        "  return total\n",
        "\n",
        "print(add_odd_numbers())"
      ],
      "metadata": {
        "colab": {
          "base_uri": "https://localhost:8080/"
        },
        "id": "gVYXX86QqZF0",
        "outputId": "b742df8a-0aab-4e5c-b735-2a4a7c5c26e8"
      },
      "execution_count": 46,
      "outputs": [
        {
          "output_type": "stream",
          "name": "stdout",
          "text": [
            "2500\n"
          ]
        }
      ]
    },
    {
      "cell_type": "code",
      "source": [
        "# Find the output of this code ?\n",
        "# while 4 > 2:\n",
        "#     print(1)"
      ],
      "metadata": {
        "id": "2hltuEjKqu5Y"
      },
      "execution_count": 48,
      "outputs": []
    },
    {
      "cell_type": "code",
      "source": [
        "# Find the output of this code ?\n",
        "\n",
        "password = \"\"\n",
        "\n",
        "while password != \"test\":\n",
        "  password = input(\"Enter Password: \")"
      ],
      "metadata": {
        "colab": {
          "base_uri": "https://localhost:8080/"
        },
        "id": "Pmv7aIj9q5lv",
        "outputId": "457823ed-ebe3-45bb-9f11-0eab7c32bc33"
      },
      "execution_count": 51,
      "outputs": [
        {
          "name": "stdout",
          "output_type": "stream",
          "text": [
            "Enter Password: delhi\n",
            "Enter Password: test\n"
          ]
        }
      ]
    },
    {
      "cell_type": "markdown",
      "source": [
        "# Continue and Break in Loop"
      ],
      "metadata": {
        "id": "RionFcdJsM-6"
      }
    },
    {
      "cell_type": "code",
      "source": [
        "# Break in Loop\n",
        "\n",
        "for char in 'Data Science':\n",
        "  if char=='c':\n",
        "    break\n",
        "  print(char)\n",
        "\n",
        "print('After Break')"
      ],
      "metadata": {
        "colab": {
          "base_uri": "https://localhost:8080/"
        },
        "id": "lEquEJqNrOkx",
        "outputId": "da078f5c-41c7-4073-dd81-5ad831330c1b"
      },
      "execution_count": 53,
      "outputs": [
        {
          "output_type": "stream",
          "name": "stdout",
          "text": [
            "D\n",
            "a\n",
            "t\n",
            "a\n",
            " \n",
            "S\n",
            "After Break\n"
          ]
        }
      ]
    },
    {
      "cell_type": "code",
      "source": [
        "# Continue in Loop\n",
        "\n",
        "for char in 'Data Science':\n",
        "  if char=='i':\n",
        "    continue\n",
        "  print(char, end='')\n",
        "\n",
        "print()\n",
        "print('After Continue')"
      ],
      "metadata": {
        "colab": {
          "base_uri": "https://localhost:8080/"
        },
        "id": "cXIC9KnOshS4",
        "outputId": "5ff82dc6-a556-4ca5-d7c1-076b492845b6"
      },
      "execution_count": 59,
      "outputs": [
        {
          "output_type": "stream",
          "name": "stdout",
          "text": [
            "Data Scence\n",
            "After Continue\n"
          ]
        }
      ]
    },
    {
      "cell_type": "code",
      "source": [],
      "metadata": {
        "id": "rBP-RZDlszNv"
      },
      "execution_count": null,
      "outputs": []
    }
  ]
}