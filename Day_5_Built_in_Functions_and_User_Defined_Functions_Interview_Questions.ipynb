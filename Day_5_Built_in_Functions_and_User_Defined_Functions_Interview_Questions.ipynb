{
  "nbformat": 4,
  "nbformat_minor": 0,
  "metadata": {
    "colab": {
      "provenance": []
    },
    "kernelspec": {
      "name": "python3",
      "display_name": "Python 3"
    },
    "language_info": {
      "name": "python"
    }
  },
  "cells": [
    {
      "cell_type": "markdown",
      "source": [
        "# Random Number with certain Calculator"
      ],
      "metadata": {
        "id": "qzL55seeZD4r"
      }
    },
    {
      "cell_type": "markdown",
      "source": [
        "### Problem 1: Random Library"
      ],
      "metadata": {
        "id": "kezah3IjaaRp"
      }
    },
    {
      "cell_type": "code",
      "execution_count": 11,
      "metadata": {
        "colab": {
          "base_uri": "https://localhost:8080/"
        },
        "id": "Vb4fQzCbVKqg",
        "outputId": "bc277e70-3b6b-438e-b7e6-1078377849f1"
      },
      "outputs": [
        {
          "output_type": "stream",
          "name": "stdout",
          "text": [
            "Welcome to Love Calculator!\n",
            "Enter your name: Sachin \n",
            "Enter your friends name: Rahul\n",
            "Your score is 74.\n"
          ]
        }
      ],
      "source": [
        "import random\n",
        "\n",
        "print(\"Welcome to Love Calculator!\")\n",
        "name1 = input(\"Enter your name: \")\n",
        "name2 = input(\"Enter your friends name: \")\n",
        "\n",
        "love_score = random.randint(1,100)\n",
        "love_score\n",
        "\n",
        "if love_score < 10 or love_score > 85:\n",
        "    print(f\"Your score is {love_score}, you go together like coke and mentos.\")\n",
        "\n",
        "elif love_score >= 40 and love_score <= 70:\n",
        "    print(f\"Your score is {love_score}, you are alright together.\")\n",
        "\n",
        "else:\n",
        "    print(f\"Your score is {love_score}.\")"
      ]
    },
    {
      "cell_type": "markdown",
      "source": [
        "### Problem 2: Math Library"
      ],
      "metadata": {
        "id": "h5WULsB0aeZK"
      }
    },
    {
      "cell_type": "code",
      "source": [
        "import math\n",
        "num = int(input(\"Enter a number:\"))\n",
        "factorial = math.factorial(num)\n",
        "print(f\"The factorial of {num} is: {factorial}\")\n"
      ],
      "metadata": {
        "colab": {
          "base_uri": "https://localhost:8080/"
        },
        "id": "oMGmjHcFZWM1",
        "outputId": "c52bbac5-006e-4cbc-a0bd-f20fd0ea81af"
      },
      "execution_count": 15,
      "outputs": [
        {
          "output_type": "stream",
          "name": "stdout",
          "text": [
            "Enter a number:7\n",
            "The factorial of 7 is: 5040\n"
          ]
        }
      ]
    },
    {
      "cell_type": "markdown",
      "source": [
        "# Problem 3: Area calculator"
      ],
      "metadata": {
        "id": "2-rSuSdAbs1Y"
      }
    },
    {
      "cell_type": "code",
      "source": [
        "import math\n",
        "radius = int(input(\"Enter Radius:\"))\n",
        "area = round(pow(radius, 2) * math.pi,2)\n",
        "print(f\"The area of circle is: {area}\")"
      ],
      "metadata": {
        "colab": {
          "base_uri": "https://localhost:8080/"
        },
        "id": "goZpEyoVatz4",
        "outputId": "dc88658c-f668-43c3-9972-d116f8c64a2b"
      },
      "execution_count": 26,
      "outputs": [
        {
          "output_type": "stream",
          "name": "stdout",
          "text": [
            "Enter Radius:3\n",
            "The area of circle is: 28.27\n"
          ]
        }
      ]
    },
    {
      "cell_type": "code",
      "source": [
        "math.pi*2"
      ],
      "metadata": {
        "colab": {
          "base_uri": "https://localhost:8080/"
        },
        "id": "JmKt5Zi5aw5t",
        "outputId": "191ff357-45ad-4861-9e23-e93b843f20b9"
      },
      "execution_count": 24,
      "outputs": [
        {
          "output_type": "execute_result",
          "data": {
            "text/plain": [
              "6.283185307179586"
            ]
          },
          "metadata": {},
          "execution_count": 24
        }
      ]
    },
    {
      "cell_type": "code",
      "source": [
        "22/7"
      ],
      "metadata": {
        "colab": {
          "base_uri": "https://localhost:8080/"
        },
        "id": "kzVUqWPecBSJ",
        "outputId": "08d20f31-9742-400b-ae4e-848e71255ddf"
      },
      "execution_count": 23,
      "outputs": [
        {
          "output_type": "execute_result",
          "data": {
            "text/plain": [
              "3.142857142857143"
            ]
          },
          "metadata": {},
          "execution_count": 23
        }
      ]
    },
    {
      "cell_type": "markdown",
      "source": [
        "# Problem 4: Function in Python"
      ],
      "metadata": {
        "id": "y-tiaCw_cuCL"
      }
    },
    {
      "cell_type": "code",
      "source": [
        "def sachin():\n",
        "    print(\"Hello Paresh\")\n",
        "    print(\"How are you Paresh?\")"
      ],
      "metadata": {
        "id": "3HJ__6wqcRwB"
      },
      "execution_count": 31,
      "outputs": []
    },
    {
      "cell_type": "code",
      "source": [
        "sachin()"
      ],
      "metadata": {
        "colab": {
          "base_uri": "https://localhost:8080/"
        },
        "id": "dCh3flXVc3FM",
        "outputId": "86bbbce7-3e01-4e24-f0d9-cba024b50bfe"
      },
      "execution_count": 32,
      "outputs": [
        {
          "output_type": "stream",
          "name": "stdout",
          "text": [
            "Hello Paresh\n",
            "How are you Paresh?\n"
          ]
        }
      ]
    },
    {
      "cell_type": "code",
      "source": [
        "# greet()\n",
        "# Function with input\n",
        "\n",
        "def greet_with_name(name):\n",
        "    print(f\"Hello {name}\")\n",
        "    print(f\"How are you {name}\")"
      ],
      "metadata": {
        "id": "3JwwaOwFc5_J"
      },
      "execution_count": 33,
      "outputs": []
    },
    {
      "cell_type": "code",
      "source": [
        "greet_with_name('Mayuri')"
      ],
      "metadata": {
        "colab": {
          "base_uri": "https://localhost:8080/"
        },
        "id": "s4cd_6AjdTkf",
        "outputId": "64a19fce-47b4-4827-d543-dbc4d0b81654"
      },
      "execution_count": 34,
      "outputs": [
        {
          "output_type": "stream",
          "name": "stdout",
          "text": [
            "Hello Mayuri\n",
            "How are you Mayuri\n"
          ]
        }
      ]
    },
    {
      "cell_type": "code",
      "source": [
        "greet_with_name('Vinay')"
      ],
      "metadata": {
        "colab": {
          "base_uri": "https://localhost:8080/"
        },
        "id": "lBfjEGeCdene",
        "outputId": "e5422add-a3f7-408e-a4f6-531fe25fab77"
      },
      "execution_count": 35,
      "outputs": [
        {
          "output_type": "stream",
          "name": "stdout",
          "text": [
            "Hello Vinay\n",
            "How are you Vinay\n"
          ]
        }
      ]
    },
    {
      "cell_type": "code",
      "source": [
        "# greet_with_name(\"Edy\")\n",
        "\n",
        "def greet_withNC(name, city):\n",
        "    print(f\"Hello {name}\")\n",
        "    print(f\"What is weather like in {city}\")"
      ],
      "metadata": {
        "id": "Lce_Cip9dxiX"
      },
      "execution_count": 36,
      "outputs": []
    },
    {
      "cell_type": "code",
      "source": [
        "greet_withNC('Vishal','Goa')\n"
      ],
      "metadata": {
        "colab": {
          "base_uri": "https://localhost:8080/"
        },
        "id": "uKd-7XImdW-s",
        "outputId": "10dc1ece-867c-40c0-d2e2-63ca66f66d7b"
      },
      "execution_count": 37,
      "outputs": [
        {
          "output_type": "stream",
          "name": "stdout",
          "text": [
            "Hello Vishal\n",
            "What is weather like in Goa\n"
          ]
        }
      ]
    },
    {
      "cell_type": "code",
      "source": [
        "greet_withNC('Vishal','Gurugram')"
      ],
      "metadata": {
        "colab": {
          "base_uri": "https://localhost:8080/"
        },
        "id": "AXX8jtCMeAPW",
        "outputId": "86790c55-3d2f-47e2-e7a6-012e9b8c8bd1"
      },
      "execution_count": 39,
      "outputs": [
        {
          "output_type": "stream",
          "name": "stdout",
          "text": [
            "Hello Vishal\n",
            "What is weather like in Gurugram\n"
          ]
        }
      ]
    },
    {
      "cell_type": "code",
      "source": [
        "greet_withNC(city = \"London\", name = \"Vishal\" )"
      ],
      "metadata": {
        "colab": {
          "base_uri": "https://localhost:8080/"
        },
        "id": "vZYPxJmjeRiQ",
        "outputId": "b3e868d3-4b71-423b-a450-87c24c458311"
      },
      "execution_count": 40,
      "outputs": [
        {
          "output_type": "stream",
          "name": "stdout",
          "text": [
            "Hello Vishal\n",
            "What is weather like in London\n"
          ]
        }
      ]
    },
    {
      "cell_type": "code",
      "source": [
        "greet_withNC(\"London\",\"Vishal\" )"
      ],
      "metadata": {
        "colab": {
          "base_uri": "https://localhost:8080/"
        },
        "id": "YEzzVOXHeX44",
        "outputId": "ac248a90-d800-4c35-8c4f-7986605c8fe6"
      },
      "execution_count": 41,
      "outputs": [
        {
          "output_type": "stream",
          "name": "stdout",
          "text": [
            "Hello London\n",
            "What is weather like in Vishal\n"
          ]
        }
      ]
    },
    {
      "cell_type": "markdown",
      "source": [
        "### Problem 5: Function with number"
      ],
      "metadata": {
        "id": "1E4ZMx2Behpc"
      }
    },
    {
      "cell_type": "code",
      "source": [
        "def volume_converter(height):\n",
        "    modify_height=height+12\n",
        "    print(modify_height)"
      ],
      "metadata": {
        "id": "pnm1pkELd7Wa"
      },
      "execution_count": 42,
      "outputs": []
    },
    {
      "cell_type": "code",
      "source": [
        "volume_converter(15)"
      ],
      "metadata": {
        "colab": {
          "base_uri": "https://localhost:8080/"
        },
        "id": "wZ_L0bwoetOv",
        "outputId": "9fd47716-17d6-4403-8d9b-5a15ad1070b3"
      },
      "execution_count": 43,
      "outputs": [
        {
          "output_type": "stream",
          "name": "stdout",
          "text": [
            "27\n"
          ]
        }
      ]
    },
    {
      "cell_type": "code",
      "source": [
        "volume_converter(200)"
      ],
      "metadata": {
        "colab": {
          "base_uri": "https://localhost:8080/"
        },
        "id": "DY2Ucz3dey8Q",
        "outputId": "0e36edc5-ee8d-4d29-95ee-9103b49546a2"
      },
      "execution_count": 44,
      "outputs": [
        {
          "output_type": "stream",
          "name": "stdout",
          "text": [
            "212\n"
          ]
        }
      ]
    },
    {
      "cell_type": "code",
      "source": [
        "def area_of_square(side):\n",
        "    area = side * side\n",
        "    print(area)\n"
      ],
      "metadata": {
        "id": "bRAWQKdLev5A"
      },
      "execution_count": 45,
      "outputs": []
    },
    {
      "cell_type": "code",
      "source": [
        "area_of_square(21)"
      ],
      "metadata": {
        "colab": {
          "base_uri": "https://localhost:8080/"
        },
        "id": "Qyx_YjG0fH91",
        "outputId": "a999a5b4-1218-4422-947d-6bf8f1ad9825"
      },
      "execution_count": 48,
      "outputs": [
        {
          "output_type": "stream",
          "name": "stdout",
          "text": [
            "441\n"
          ]
        }
      ]
    },
    {
      "cell_type": "markdown",
      "source": [
        "# Problem 6: Create a calculator using Function"
      ],
      "metadata": {
        "id": "bgswBe9MfwLd"
      }
    },
    {
      "cell_type": "code",
      "source": [
        "def add(n1,n2):\n",
        "    return n1 + n2\n",
        "\n",
        "def subtract(n1,n2):\n",
        "    return n1 - n2\n",
        "\n",
        "def multiply(n1,n2):\n",
        "    return n1 * n2\n",
        "\n",
        "def divide(n1,n2):\n",
        "    return n1 / n2\n",
        "\n",
        "n1 = int(input(\"What is the first number? \"))\n",
        "n2 = int(input(\"What is the second number? \"))\n",
        "\n",
        "operation = input(\"Pick operation from this list (+,-,*,/) \")\n",
        "\n",
        "def calculate(n1,n2,operation):\n",
        "    if operation == \"+\":\n",
        "        answer = add(n1,n2)\n",
        "    elif operation == \"-\":\n",
        "        answer = subtract(n1,n2)\n",
        "    elif operation == \"*\":\n",
        "        answer = multiply(n1,n2)\n",
        "    elif operation == \"/\":\n",
        "        answer = divide(n1,n2)\n",
        "    return answer\n",
        "\n",
        "output = calculate(n1,n2,operation)\n",
        "\n",
        "print(f\"{n1} {operation} {n2} = {output}\")"
      ],
      "metadata": {
        "colab": {
          "base_uri": "https://localhost:8080/"
        },
        "id": "jaY9hlQZfKd9",
        "outputId": "df13f235-1b8f-4a9c-8829-485e9196291b"
      },
      "execution_count": 52,
      "outputs": [
        {
          "output_type": "stream",
          "name": "stdout",
          "text": [
            "What is the first number? 50\n",
            "What is the second number? 140\n",
            "Pick operation from this list (+,-,*,/) -\n",
            "50 - 140 = -90\n"
          ]
        }
      ]
    },
    {
      "cell_type": "code",
      "source": [
        "new_operation = input(\"Pick another operation from this list (+,-,*,/) \")\n",
        "n3 = int(input(\"What is the third number? \"))\n",
        "\n",
        "new_output = calculate(calculate(n1,n2,operation), n3, new_operation)\n",
        "\n",
        "print(f\"{output} {new_operation} {n3} = {new_output}\")"
      ],
      "metadata": {
        "colab": {
          "base_uri": "https://localhost:8080/"
        },
        "id": "hpHY2eyFhUvh",
        "outputId": "bc9dea50-69c0-49fd-b207-5a6a0e32da38"
      },
      "execution_count": 53,
      "outputs": [
        {
          "output_type": "stream",
          "name": "stdout",
          "text": [
            "Pick another operation from this list (+,-,*,/) *\n",
            "What is the third number? 2\n",
            "-90 * 2 = -180\n"
          ]
        }
      ]
    },
    {
      "cell_type": "markdown",
      "source": [
        "# Problem 7: Password cheking using Function and if else"
      ],
      "metadata": {
        "id": "MoH8LB6Lh2ug"
      }
    },
    {
      "cell_type": "code",
      "source": [
        "def password_controller(password):\n",
        "    if len(password) > 8:\n",
        "        return \"Success\"\n",
        "\n",
        "    else:\n",
        "        return \"The password has to be more than 8 characters\""
      ],
      "metadata": {
        "id": "5whFFHVjh122"
      },
      "execution_count": 57,
      "outputs": []
    },
    {
      "cell_type": "code",
      "source": [
        "password_controller('Sachin')"
      ],
      "metadata": {
        "colab": {
          "base_uri": "https://localhost:8080/",
          "height": 36
        },
        "id": "u_GqoFnNiKyI",
        "outputId": "70ef9a04-1667-4521-b3fd-f8aa490cef7f"
      },
      "execution_count": 58,
      "outputs": [
        {
          "output_type": "execute_result",
          "data": {
            "text/plain": [
              "'The password has to be more than 8 characters'"
            ],
            "application/vnd.google.colaboratory.intrinsic+json": {
              "type": "string"
            }
          },
          "metadata": {},
          "execution_count": 58
        }
      ]
    },
    {
      "cell_type": "code",
      "source": [
        "result = password_controller(\"123456789\")\n",
        "print(result)"
      ],
      "metadata": {
        "colab": {
          "base_uri": "https://localhost:8080/"
        },
        "id": "KVjpkyn0iPoD",
        "outputId": "d6476fd7-562e-4956-c787-aaa28e258e14"
      },
      "execution_count": 60,
      "outputs": [
        {
          "output_type": "stream",
          "name": "stdout",
          "text": [
            "Success\n"
          ]
        }
      ]
    },
    {
      "cell_type": "markdown",
      "source": [
        "# Problem 8: Concatenate of two string"
      ],
      "metadata": {
        "id": "FWXXbbXcizIo"
      }
    },
    {
      "cell_type": "code",
      "source": [
        "def concatenate(p1, p2):\n",
        "    con = p1 + p2\n",
        "    return con"
      ],
      "metadata": {
        "id": "Dj0KGT_4ihiF"
      },
      "execution_count": 61,
      "outputs": []
    },
    {
      "cell_type": "code",
      "source": [
        "concatenate('Sac','hin')"
      ],
      "metadata": {
        "colab": {
          "base_uri": "https://localhost:8080/",
          "height": 36
        },
        "id": "HlVOvDQmi7MV",
        "outputId": "3c0b7b9d-53a1-41eb-f5cc-da8fa3f9647a"
      },
      "execution_count": 62,
      "outputs": [
        {
          "output_type": "execute_result",
          "data": {
            "text/plain": [
              "'Sachin'"
            ],
            "application/vnd.google.colaboratory.intrinsic+json": {
              "type": "string"
            }
          },
          "metadata": {},
          "execution_count": 62
        }
      ]
    },
    {
      "cell_type": "code",
      "source": [
        "concatenate('Fac','book')"
      ],
      "metadata": {
        "colab": {
          "base_uri": "https://localhost:8080/",
          "height": 36
        },
        "id": "BSn7Kwnsi_D_",
        "outputId": "a03e47b0-e874-4700-c572-68e7b5764338"
      },
      "execution_count": 63,
      "outputs": [
        {
          "output_type": "execute_result",
          "data": {
            "text/plain": [
              "'Facbook'"
            ],
            "application/vnd.google.colaboratory.intrinsic+json": {
              "type": "string"
            }
          },
          "metadata": {},
          "execution_count": 63
        }
      ]
    },
    {
      "cell_type": "code",
      "source": [
        "result = concatenate(\"face\",\"book\")\n",
        "print(result)"
      ],
      "metadata": {
        "colab": {
          "base_uri": "https://localhost:8080/"
        },
        "id": "uzSpVNEUjFFs",
        "outputId": "415541f6-9171-4e72-970d-8ee82aa023ba"
      },
      "execution_count": 64,
      "outputs": [
        {
          "output_type": "stream",
          "name": "stdout",
          "text": [
            "facebook\n"
          ]
        }
      ]
    },
    {
      "cell_type": "markdown",
      "source": [
        "# Home Work: Write a Python Program to insert a Password which can not consist Special characters such as @$%^&*"
      ],
      "metadata": {
        "id": "_CD-onzNjOnD"
      }
    },
    {
      "cell_type": "code",
      "source": [],
      "metadata": {
        "id": "b0Be1T_bjZkE"
      },
      "execution_count": null,
      "outputs": []
    }
  ]
}