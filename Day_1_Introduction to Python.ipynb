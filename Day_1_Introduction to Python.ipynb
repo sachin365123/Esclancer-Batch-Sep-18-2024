{
 "cells": [
  {
   "cell_type": "markdown",
   "id": "1fb658ee",
   "metadata": {},
   "source": [
    "## Variables and data types"
   ]
  },
  {
   "cell_type": "code",
   "execution_count": 2,
   "id": "80089567",
   "metadata": {},
   "outputs": [],
   "source": [
    "# Variable declaration\n",
    "# varaible_name=value\n",
    "\n"
   ]
  },
  {
   "cell_type": "code",
   "execution_count": 3,
   "id": "a69e0a51",
   "metadata": {},
   "outputs": [],
   "source": [
    "# Basic Data types\n",
    "integer=5\n",
    "float_number=5.5\n",
    "string=\"Hello world\"\n",
    "boolean=True\n",
    "none=None"
   ]
  },
  {
   "cell_type": "code",
   "execution_count": 4,
   "id": "30bee498",
   "metadata": {
    "scrolled": true
   },
   "outputs": [
    {
     "data": {
      "text/plain": [
       "5.5"
      ]
     },
     "execution_count": 4,
     "metadata": {},
     "output_type": "execute_result"
    }
   ],
   "source": [
    "float_number"
   ]
  },
  {
   "cell_type": "markdown",
   "id": "b7394ab1",
   "metadata": {},
   "source": [
    "# Arithmetic Operators"
   ]
  },
  {
   "cell_type": "code",
   "execution_count": 5,
   "id": "99b12eaa",
   "metadata": {},
   "outputs": [],
   "source": [
    "addition=5+2\n",
    "substraction=5-2\n",
    "mutiplication =5*2\n",
    "division=5/2\n"
   ]
  },
  {
   "cell_type": "code",
   "execution_count": 7,
   "id": "82d20058",
   "metadata": {},
   "outputs": [
    {
     "data": {
      "text/plain": [
       "10"
      ]
     },
     "execution_count": 7,
     "metadata": {},
     "output_type": "execute_result"
    }
   ],
   "source": [
    "mutiplication"
   ]
  },
  {
   "cell_type": "code",
   "execution_count": 8,
   "id": "b8c3320b",
   "metadata": {},
   "outputs": [
    {
     "data": {
      "text/plain": [
       "25"
      ]
     },
     "execution_count": 8,
     "metadata": {},
     "output_type": "execute_result"
    }
   ],
   "source": [
    "exponentiation=5**2\n",
    "exponentiation"
   ]
  },
  {
   "cell_type": "code",
   "execution_count": 9,
   "id": "281d73e5",
   "metadata": {},
   "outputs": [
    {
     "data": {
      "text/plain": [
       "2"
      ]
     },
     "execution_count": 9,
     "metadata": {},
     "output_type": "execute_result"
    }
   ],
   "source": [
    "floor_division=5//2\n",
    "floor_division"
   ]
  },
  {
   "cell_type": "code",
   "execution_count": 10,
   "id": "e2e6fa98",
   "metadata": {},
   "outputs": [
    {
     "data": {
      "text/plain": [
       "1"
      ]
     },
     "execution_count": 10,
     "metadata": {},
     "output_type": "execute_result"
    }
   ],
   "source": [
    "modulus=5%2\n",
    "modulus"
   ]
  },
  {
   "cell_type": "code",
   "execution_count": 11,
   "id": "40d624dd",
   "metadata": {},
   "outputs": [],
   "source": [
    "# Logical Operators\n",
    "and_operators=True and False\n",
    "or_operator=True or False\n",
    "not_opeartor=not True"
   ]
  },
  {
   "cell_type": "code",
   "execution_count": 12,
   "id": "a4266d14",
   "metadata": {},
   "outputs": [
    {
     "data": {
      "text/plain": [
       "True"
      ]
     },
     "execution_count": 12,
     "metadata": {},
     "output_type": "execute_result"
    }
   ],
   "source": [
    "or_operator"
   ]
  },
  {
   "cell_type": "code",
   "execution_count": 13,
   "id": "ed5df7b2",
   "metadata": {},
   "outputs": [
    {
     "data": {
      "text/plain": [
       "False"
      ]
     },
     "execution_count": 13,
     "metadata": {},
     "output_type": "execute_result"
    }
   ],
   "source": [
    "and_operators"
   ]
  },
  {
   "cell_type": "code",
   "execution_count": 14,
   "id": "d84075e4",
   "metadata": {},
   "outputs": [
    {
     "data": {
      "text/plain": [
       "False"
      ]
     },
     "execution_count": 14,
     "metadata": {},
     "output_type": "execute_result"
    }
   ],
   "source": [
    "not_opeartor"
   ]
  },
  {
   "cell_type": "code",
   "execution_count": 15,
   "id": "2e5a80b3",
   "metadata": {},
   "outputs": [],
   "source": [
    "# Compartive operators\n",
    "grater_than=5>2\n",
    "less_than=5<2\n",
    "equal_to=5==2\n",
    "\n",
    "\n",
    "grater_than_equal_to=5>=2\n",
    "less_than_equal_to=5<=2"
   ]
  },
  {
   "cell_type": "code",
   "execution_count": 16,
   "id": "edbe3760",
   "metadata": {},
   "outputs": [
    {
     "data": {
      "text/plain": [
       "True"
      ]
     },
     "execution_count": 16,
     "metadata": {},
     "output_type": "execute_result"
    }
   ],
   "source": [
    "grater_than_equal_to"
   ]
  },
  {
   "cell_type": "markdown",
   "id": "4b7f594a",
   "metadata": {},
   "source": [
    "# Conditional Statements"
   ]
  },
  {
   "cell_type": "code",
   "execution_count": 18,
   "id": "be3a05f0",
   "metadata": {},
   "outputs": [
    {
     "name": "stdout",
     "output_type": "stream",
     "text": [
      "Adult\n"
     ]
    }
   ],
   "source": [
    "# if statement\n",
    "age=19\n",
    "if age>18:\n",
    "    print(\"Adult\")"
   ]
  },
  {
   "cell_type": "code",
   "execution_count": 19,
   "id": "a28ac2ca",
   "metadata": {},
   "outputs": [
    {
     "name": "stdout",
     "output_type": "stream",
     "text": [
      "Not-Adult\n"
     ]
    }
   ],
   "source": [
    "# if-else statement\n",
    "age=12\n",
    "if age>18:\n",
    "    print(\"Adult\")\n",
    "else:\n",
    "    print(\"Not-Adult\")"
   ]
  },
  {
   "cell_type": "code",
   "execution_count": 24,
   "id": "f5436ba3",
   "metadata": {},
   "outputs": [
    {
     "name": "stdout",
     "output_type": "stream",
     "text": [
      "Not-Adult\n",
      "You are not allowed !!!\n"
     ]
    }
   ],
   "source": [
    "# if-elif-else statement\n",
    "age=15\n",
    "if age>60:\n",
    "    print(\"Senior Citizen\")\n",
    "\n",
    "elif age>18:\n",
    "    print(\"Adult\")\n",
    "else:\n",
    "    print(\"Not-Adult\")\n",
    "print(\"You are not allowed !!!\")"
   ]
  },
  {
   "cell_type": "markdown",
   "id": "b8001925",
   "metadata": {},
   "source": [
    "# Loops"
   ]
  },
  {
   "cell_type": "code",
   "execution_count": 27,
   "id": "a587226b",
   "metadata": {},
   "outputs": [
    {
     "name": "stdout",
     "output_type": "stream",
     "text": [
      "I love you!!! 1\n",
      "I love you!!! 2\n",
      "I love you!!! 3\n",
      "I love you!!! 4\n",
      "I love you!!! 5\n",
      "I love you!!! 6\n",
      "I love you!!! 7\n",
      "I love you!!! 8\n",
      "I love you!!! 9\n",
      "I love you!!! 10\n"
     ]
    }
   ],
   "source": [
    "#for loop\n",
    "for i in range(10):\n",
    "    print(\"I love you!!!\", i+1)\n",
    "    "
   ]
  },
  {
   "cell_type": "code",
   "execution_count": 29,
   "id": "9c3d1823",
   "metadata": {},
   "outputs": [
    {
     "name": "stdout",
     "output_type": "stream",
     "text": [
      "1 I hate you!!!\n",
      "2 I hate you!!!\n",
      "3 I hate you!!!\n",
      "4 I hate you!!!\n",
      "5 I hate you!!!\n",
      "6 I hate you!!!\n",
      "7 I hate you!!!\n",
      "8 I hate you!!!\n",
      "9 I hate you!!!\n",
      "10 I hate you!!!\n",
      "11 I hate you!!!\n",
      "12 I hate you!!!\n",
      "13 I hate you!!!\n",
      "14 I hate you!!!\n",
      "15 I hate you!!!\n",
      "16 I hate you!!!\n",
      "17 I hate you!!!\n",
      "18 I hate you!!!\n",
      "19 I hate you!!!\n",
      "20 I hate you!!!\n"
     ]
    }
   ],
   "source": [
    "#for loop\n",
    "for i in range(20):\n",
    "    print(i+1,\"I hate you!!!\")"
   ]
  },
  {
   "cell_type": "code",
   "execution_count": 35,
   "id": "445881f7",
   "metadata": {},
   "outputs": [
    {
     "name": "stdout",
     "output_type": "stream",
     "text": [
      "0 Hello Techlang\n",
      "1 Hello Techlang\n",
      "2 Hello Techlang\n",
      "3 Hello Techlang\n",
      "4 Hello Techlang\n",
      "5 Hello Techlang\n",
      "6 Hello Techlang\n",
      "7 Hello Techlang\n",
      "8 Hello Techlang\n",
      "9 Hello Techlang\n",
      "10 Hello Techlang\n",
      "11 Hello Techlang\n",
      "12 Hello Techlang\n",
      "13 Hello Techlang\n",
      "14 Hello Techlang\n",
      "15 Hello Techlang\n",
      "16 Hello Techlang\n",
      "17 Hello Techlang\n",
      "18 Hello Techlang\n",
      "19 Hello Techlang\n"
     ]
    }
   ],
   "source": [
    "# while condition\n",
    "i=0\n",
    "while i<20:\n",
    "\n",
    "    print(i,\"Hello Techlang\")\n",
    "    i+=1\n",
    "    "
   ]
  },
  {
   "cell_type": "code",
   "execution_count": 40,
   "id": "029baea7",
   "metadata": {},
   "outputs": [
    {
     "data": {
      "text/plain": [
       "30"
      ]
     },
     "execution_count": 40,
     "metadata": {},
     "output_type": "execute_result"
    }
   ],
   "source": [
    "i=15\n",
    "# i=i+10\n",
    "i+=15\n",
    "i"
   ]
  },
  {
   "cell_type": "code",
   "execution_count": 58,
   "id": "883f885a",
   "metadata": {},
   "outputs": [],
   "source": [
    "# Function\n",
    "def ron():\n",
    "    print(\"First Session of DS\")\n",
    "#     return 0"
   ]
  },
  {
   "cell_type": "code",
   "execution_count": 47,
   "id": "7d9c63cc",
   "metadata": {},
   "outputs": [
    {
     "name": "stdout",
     "output_type": "stream",
     "text": [
      "First Session of DS\n",
      "0\n"
     ]
    }
   ],
   "source": [
    "t=ron()\n",
    "print(t)"
   ]
  },
  {
   "cell_type": "code",
   "execution_count": 59,
   "id": "9b385c1d",
   "metadata": {},
   "outputs": [
    {
     "name": "stdout",
     "output_type": "stream",
     "text": [
      "First Session of DS\n",
      "None\n"
     ]
    }
   ],
   "source": [
    "print(ron())"
   ]
  },
  {
   "cell_type": "code",
   "execution_count": 50,
   "id": "ace3c747",
   "metadata": {},
   "outputs": [],
   "source": [
    "# func declaration\n",
    "def ron(x):\n",
    "    x=x+15\n",
    "\n",
    "    return x"
   ]
  },
  {
   "cell_type": "code",
   "execution_count": 52,
   "id": "3162f5b9",
   "metadata": {},
   "outputs": [
    {
     "name": "stdout",
     "output_type": "stream",
     "text": [
      "Output :  20\n"
     ]
    }
   ],
   "source": [
    "# func calling\n",
    "t=ron(5)\n",
    "print(\"Output : \",t)"
   ]
  },
  {
   "cell_type": "code",
   "execution_count": 53,
   "id": "032e1c3e",
   "metadata": {},
   "outputs": [
    {
     "name": "stdout",
     "output_type": "stream",
     "text": [
      "Output :  67\n"
     ]
    }
   ],
   "source": [
    "t=ron(52)\n",
    "print(\"Output : \",t)"
   ]
  },
  {
   "cell_type": "code",
   "execution_count": 54,
   "id": "d0a28b0b",
   "metadata": {},
   "outputs": [],
   "source": [
    "# func declaration\n",
    "def ron(x,y):\n",
    "    z=x+y\n",
    "    return z"
   ]
  },
  {
   "cell_type": "code",
   "execution_count": 55,
   "id": "88e5d81f",
   "metadata": {},
   "outputs": [
    {
     "name": "stdout",
     "output_type": "stream",
     "text": [
      "Output :  12\n"
     ]
    }
   ],
   "source": [
    "# func calling\n",
    "t=ron(5,7)\n",
    "print(\"Output : \",t)"
   ]
  },
  {
   "cell_type": "code",
   "execution_count": 57,
   "id": "68f8db79",
   "metadata": {},
   "outputs": [
    {
     "name": "stdout",
     "output_type": "stream",
     "text": [
      "12\n"
     ]
    }
   ],
   "source": [
    "print(ron(5,7))"
   ]
  },
  {
   "cell_type": "markdown",
   "id": "0e9e7bad",
   "metadata": {},
   "source": [
    "# List"
   ]
  },
  {
   "cell_type": "code",
   "execution_count": 89,
   "id": "f3bf3be3",
   "metadata": {},
   "outputs": [],
   "source": [
    "# List declartion\n",
    "lunch_box=[\"Apple\",\"Chapati\",\"Banana\",\"Achar\",\"Water\",5,75.8]"
   ]
  },
  {
   "cell_type": "code",
   "execution_count": 63,
   "id": "28f0ae09",
   "metadata": {},
   "outputs": [
    {
     "data": {
      "text/plain": [
       "'Apple'"
      ]
     },
     "execution_count": 63,
     "metadata": {},
     "output_type": "execute_result"
    }
   ],
   "source": [
    "#access the item\n",
    "first_item=lunch_box[0]\n",
    "first_item"
   ]
  },
  {
   "cell_type": "code",
   "execution_count": 64,
   "id": "08d9be7c",
   "metadata": {},
   "outputs": [
    {
     "data": {
      "text/plain": [
       "'Banana'"
      ]
     },
     "execution_count": 64,
     "metadata": {},
     "output_type": "execute_result"
    }
   ],
   "source": [
    "third_item=lunch_box[2]\n",
    "third_item"
   ]
  },
  {
   "cell_type": "code",
   "execution_count": 65,
   "id": "2d74b2d5",
   "metadata": {},
   "outputs": [
    {
     "data": {
      "text/plain": [
       "75.8"
      ]
     },
     "execution_count": 65,
     "metadata": {},
     "output_type": "execute_result"
    }
   ],
   "source": [
    "last_item=lunch_box[-1]\n",
    "last_item"
   ]
  },
  {
   "cell_type": "code",
   "execution_count": 66,
   "id": "95966841",
   "metadata": {},
   "outputs": [
    {
     "data": {
      "text/plain": [
       "75.8"
      ]
     },
     "execution_count": 66,
     "metadata": {},
     "output_type": "execute_result"
    }
   ],
   "source": [
    "last_item=lunch_box[6]\n",
    "last_item"
   ]
  },
  {
   "cell_type": "code",
   "execution_count": 67,
   "id": "d7eb53ec",
   "metadata": {},
   "outputs": [],
   "source": [
    "lunch_box[2]=\"Cherry\""
   ]
  },
  {
   "cell_type": "code",
   "execution_count": 68,
   "id": "a68d60a9",
   "metadata": {},
   "outputs": [
    {
     "data": {
      "text/plain": [
       "'Cherry'"
      ]
     },
     "execution_count": 68,
     "metadata": {},
     "output_type": "execute_result"
    }
   ],
   "source": [
    "third_item=lunch_box[2]\n",
    "third_item"
   ]
  },
  {
   "cell_type": "code",
   "execution_count": 70,
   "id": "48c31372",
   "metadata": {},
   "outputs": [],
   "source": [
    "# adding item\n",
    "lunch_box.append(\"Sweet\")"
   ]
  },
  {
   "cell_type": "code",
   "execution_count": 72,
   "id": "b3081865",
   "metadata": {},
   "outputs": [
    {
     "data": {
      "text/plain": [
       "'Sweet'"
      ]
     },
     "execution_count": 72,
     "metadata": {},
     "output_type": "execute_result"
    }
   ],
   "source": [
    "lunch_box[-1]"
   ]
  },
  {
   "cell_type": "code",
   "execution_count": 74,
   "id": "c4543763",
   "metadata": {},
   "outputs": [],
   "source": [
    "# adding item\n",
    "lunch_box.insert(4,\"Knife\")"
   ]
  },
  {
   "cell_type": "code",
   "execution_count": 75,
   "id": "580127a4",
   "metadata": {},
   "outputs": [
    {
     "data": {
      "text/plain": [
       "['Apple', 'Chapati', 'Cherry', 'Achar', 'Knife', 'Water', 5, 75.8, 'Sweet']"
      ]
     },
     "execution_count": 75,
     "metadata": {},
     "output_type": "execute_result"
    }
   ],
   "source": [
    "# adding item\n",
    "lunch_box"
   ]
  },
  {
   "cell_type": "code",
   "execution_count": 76,
   "id": "4fd0c13e",
   "metadata": {},
   "outputs": [],
   "source": [
    "#remove item \n",
    "lunch_box.remove('Water')"
   ]
  },
  {
   "cell_type": "code",
   "execution_count": 77,
   "id": "43520803",
   "metadata": {},
   "outputs": [
    {
     "data": {
      "text/plain": [
       "['Apple', 'Chapati', 'Cherry', 'Achar', 'Knife', 5, 75.8, 'Sweet']"
      ]
     },
     "execution_count": 77,
     "metadata": {},
     "output_type": "execute_result"
    }
   ],
   "source": [
    "lunch_box"
   ]
  },
  {
   "cell_type": "code",
   "execution_count": 78,
   "id": "81a97378",
   "metadata": {},
   "outputs": [
    {
     "data": {
      "text/plain": [
       "'Sweet'"
      ]
     },
     "execution_count": 78,
     "metadata": {},
     "output_type": "execute_result"
    }
   ],
   "source": [
    "lunch_box.pop()"
   ]
  },
  {
   "cell_type": "code",
   "execution_count": 79,
   "id": "76ab68ae",
   "metadata": {},
   "outputs": [
    {
     "data": {
      "text/plain": [
       "75.8"
      ]
     },
     "execution_count": 79,
     "metadata": {},
     "output_type": "execute_result"
    }
   ],
   "source": [
    "lunch_box.pop()"
   ]
  },
  {
   "cell_type": "code",
   "execution_count": 88,
   "id": "6dd6f7cf",
   "metadata": {},
   "outputs": [
    {
     "data": {
      "text/plain": [
       "['Chapati', 'Achar']"
      ]
     },
     "execution_count": 88,
     "metadata": {},
     "output_type": "execute_result"
    }
   ],
   "source": [
    "lunch_box"
   ]
  },
  {
   "cell_type": "code",
   "execution_count": 87,
   "id": "a423e82a",
   "metadata": {},
   "outputs": [
    {
     "data": {
      "text/plain": [
       "'Cherry'"
      ]
     },
     "execution_count": 87,
     "metadata": {},
     "output_type": "execute_result"
    }
   ],
   "source": [
    "lunch_box.pop(1)"
   ]
  },
  {
   "cell_type": "code",
   "execution_count": 90,
   "id": "37cdb0d8",
   "metadata": {},
   "outputs": [
    {
     "data": {
      "text/plain": [
       "['Apple', 'Chapati', 'Banana', 'Achar', 'Water', 5, 75.8]"
      ]
     },
     "execution_count": 90,
     "metadata": {},
     "output_type": "execute_result"
    }
   ],
   "source": [
    "lunch_box"
   ]
  },
  {
   "cell_type": "code",
   "execution_count": 91,
   "id": "0e288c05",
   "metadata": {},
   "outputs": [],
   "source": [
    "#List slicing\n",
    "my_frd_lunch_box=lunch_box[1:4]"
   ]
  },
  {
   "cell_type": "code",
   "execution_count": 92,
   "id": "6cb24ce8",
   "metadata": {},
   "outputs": [
    {
     "data": {
      "text/plain": [
       "['Chapati', 'Banana', 'Achar']"
      ]
     },
     "execution_count": 92,
     "metadata": {},
     "output_type": "execute_result"
    }
   ],
   "source": [
    "my_frd_lunch_box"
   ]
  },
  {
   "cell_type": "markdown",
   "id": "4c0ff30c",
   "metadata": {},
   "source": [
    "# Dictionaries"
   ]
  },
  {
   "cell_type": "code",
   "execution_count": 3,
   "id": "18cf0e2e",
   "metadata": {},
   "outputs": [],
   "source": [
    "diction_name={\"Weight\":35,\"Height\":5}"
   ]
  },
  {
   "cell_type": "code",
   "execution_count": 4,
   "id": "9e3f1a0c",
   "metadata": {},
   "outputs": [],
   "source": [
    "#  Accessing dictionary values\n",
    "value1=diction_name[\"Weight\"]"
   ]
  },
  {
   "cell_type": "code",
   "execution_count": 5,
   "id": "2bdddc65",
   "metadata": {},
   "outputs": [
    {
     "data": {
      "text/plain": [
       "35"
      ]
     },
     "execution_count": 5,
     "metadata": {},
     "output_type": "execute_result"
    }
   ],
   "source": [
    "value1"
   ]
  },
  {
   "cell_type": "code",
   "execution_count": 6,
   "id": "17a3c868",
   "metadata": {},
   "outputs": [],
   "source": [
    "diction_name[\"Weight\"]=58"
   ]
  },
  {
   "cell_type": "code",
   "execution_count": 7,
   "id": "55965431",
   "metadata": {},
   "outputs": [],
   "source": [
    "#  Accessing dictionary values\n",
    "value1=diction_name[\"Weight\"]"
   ]
  },
  {
   "cell_type": "code",
   "execution_count": 8,
   "id": "a8363c67",
   "metadata": {},
   "outputs": [
    {
     "data": {
      "text/plain": [
       "58"
      ]
     },
     "execution_count": 8,
     "metadata": {},
     "output_type": "execute_result"
    }
   ],
   "source": [
    "value1"
   ]
  },
  {
   "cell_type": "code",
   "execution_count": 9,
   "id": "b2e720d4",
   "metadata": {},
   "outputs": [],
   "source": [
    "diction_name[\"BMI\"]=6.4"
   ]
  },
  {
   "cell_type": "code",
   "execution_count": 10,
   "id": "a1e33e9e",
   "metadata": {},
   "outputs": [
    {
     "data": {
      "text/plain": [
       "{'Weight': 58, 'Height': 5, 'BMI': 6.4}"
      ]
     },
     "execution_count": 10,
     "metadata": {},
     "output_type": "execute_result"
    }
   ],
   "source": [
    "diction_name"
   ]
  },
  {
   "cell_type": "code",
   "execution_count": 11,
   "id": "7dc7a604",
   "metadata": {},
   "outputs": [],
   "source": [
    "# Removing items from a dictionary\n",
    "del diction_name['Height']"
   ]
  },
  {
   "cell_type": "code",
   "execution_count": 12,
   "id": "ca85130b",
   "metadata": {},
   "outputs": [
    {
     "data": {
      "text/plain": [
       "{'Weight': 58, 'BMI': 6.4}"
      ]
     },
     "execution_count": 12,
     "metadata": {},
     "output_type": "execute_result"
    }
   ],
   "source": [
    "diction_name"
   ]
  },
  {
   "cell_type": "code",
   "execution_count": 13,
   "id": "301f0e9b",
   "metadata": {},
   "outputs": [],
   "source": [
    "# Getting keys and values from a dictionary\n",
    "keys=diction_name.keys()"
   ]
  },
  {
   "cell_type": "code",
   "execution_count": 14,
   "id": "eb2bec39",
   "metadata": {},
   "outputs": [
    {
     "data": {
      "text/plain": [
       "dict_keys(['Weight', 'BMI'])"
      ]
     },
     "execution_count": 14,
     "metadata": {},
     "output_type": "execute_result"
    }
   ],
   "source": [
    "keys"
   ]
  },
  {
   "cell_type": "code",
   "execution_count": 15,
   "id": "7409e889",
   "metadata": {},
   "outputs": [],
   "source": [
    "# Getting keys and values from a dictionary\n",
    "value=diction_name.values()"
   ]
  },
  {
   "cell_type": "code",
   "execution_count": 16,
   "id": "08fb1202",
   "metadata": {},
   "outputs": [
    {
     "data": {
      "text/plain": [
       "dict_values([58, 6.4])"
      ]
     },
     "execution_count": 16,
     "metadata": {},
     "output_type": "execute_result"
    }
   ],
   "source": [
    "value"
   ]
  },
  {
   "cell_type": "markdown",
   "id": "a03327b0",
   "metadata": {},
   "source": [
    "# Strings"
   ]
  },
  {
   "cell_type": "code",
   "execution_count": 17,
   "id": "0778e1a1",
   "metadata": {},
   "outputs": [],
   "source": [
    "# String Declaration\n",
    "string_name=\"Techlang Data Science Course\""
   ]
  },
  {
   "cell_type": "code",
   "execution_count": 18,
   "id": "fc893edf",
   "metadata": {},
   "outputs": [
    {
     "data": {
      "text/plain": [
       "'Techlang Data Science Course'"
      ]
     },
     "execution_count": 18,
     "metadata": {},
     "output_type": "execute_result"
    }
   ],
   "source": [
    "string_name"
   ]
  },
  {
   "cell_type": "code",
   "execution_count": 21,
   "id": "0867890e",
   "metadata": {},
   "outputs": [
    {
     "data": {
      "text/plain": [
       "'Techlang Data Science Course !!!!'"
      ]
     },
     "execution_count": 21,
     "metadata": {},
     "output_type": "execute_result"
    }
   ],
   "source": [
    "# String concatenation\n",
    "last_tag=\" !!!!\"\n",
    "name=string_name+last_tag\n",
    "name"
   ]
  },
  {
   "cell_type": "code",
   "execution_count": 23,
   "id": "6075ab03",
   "metadata": {},
   "outputs": [
    {
     "name": "stdout",
     "output_type": "stream",
     "text": [
      "Enter your name .... Sachin\n"
     ]
    },
    {
     "data": {
      "text/plain": [
       "'Hello ,Sachin!!!'"
      ]
     },
     "execution_count": 23,
     "metadata": {},
     "output_type": "execute_result"
    }
   ],
   "source": [
    "# String interpolation\n",
    "name=input(\"Enter your name .... \")\n",
    "gretting=f\"Hello ,{name}!!!\"\n",
    "gretting"
   ]
  },
  {
   "cell_type": "code",
   "execution_count": 26,
   "id": "86ac0cf7",
   "metadata": {},
   "outputs": [],
   "source": [
    "# String methods\n",
    "stringth_len=len(string_name)"
   ]
  },
  {
   "cell_type": "code",
   "execution_count": 27,
   "id": "efa44d85",
   "metadata": {},
   "outputs": [
    {
     "data": {
      "text/plain": [
       "28"
      ]
     },
     "execution_count": 27,
     "metadata": {},
     "output_type": "execute_result"
    }
   ],
   "source": [
    "stringth_len"
   ]
  },
  {
   "cell_type": "code",
   "execution_count": 28,
   "id": "a44279dc",
   "metadata": {},
   "outputs": [
    {
     "data": {
      "text/plain": [
       "'TECHLANG DATA SCIENCE COURSE'"
      ]
     },
     "execution_count": 28,
     "metadata": {},
     "output_type": "execute_result"
    }
   ],
   "source": [
    "upper_len=string_name.upper()\n",
    "upper_len"
   ]
  },
  {
   "cell_type": "code",
   "execution_count": 29,
   "id": "489bab86",
   "metadata": {},
   "outputs": [
    {
     "data": {
      "text/plain": [
       "'techlang data science course'"
      ]
     },
     "execution_count": 29,
     "metadata": {},
     "output_type": "execute_result"
    }
   ],
   "source": [
    "lower_len=string_name.lower()\n",
    "lower_len"
   ]
  },
  {
   "cell_type": "markdown",
   "id": "38dab4c6",
   "metadata": {},
   "source": [
    "# Tuples"
   ]
  },
  {
   "cell_type": "code",
   "execution_count": 35,
   "id": "1ad7c9b5",
   "metadata": {},
   "outputs": [],
   "source": [
    "# Tuple Declaration\n",
    "tuple_name=(45,12,78,15,18,5,29)"
   ]
  },
  {
   "cell_type": "code",
   "execution_count": 32,
   "id": "cb06bccd",
   "metadata": {},
   "outputs": [
    {
     "data": {
      "text/plain": [
       "45"
      ]
     },
     "execution_count": 32,
     "metadata": {},
     "output_type": "execute_result"
    }
   ],
   "source": [
    "#  Accessing tuple items\n",
    "first_item=tuple_name[0]\n",
    "first_item"
   ]
  },
  {
   "cell_type": "code",
   "execution_count": 33,
   "id": "57ed69a0",
   "metadata": {},
   "outputs": [
    {
     "data": {
      "text/plain": [
       "78"
      ]
     },
     "execution_count": 33,
     "metadata": {},
     "output_type": "execute_result"
    }
   ],
   "source": [
    "#  Accessing tuple items\n",
    "last_item=tuple_name[-1]\n",
    "last_item"
   ]
  },
  {
   "cell_type": "code",
   "execution_count": 34,
   "id": "fb96a722",
   "metadata": {},
   "outputs": [
    {
     "data": {
      "text/plain": [
       "78"
      ]
     },
     "execution_count": 34,
     "metadata": {},
     "output_type": "execute_result"
    }
   ],
   "source": [
    "#  Accessing tuple items\n",
    "last_item=tuple_name[2]\n",
    "last_item"
   ]
  },
  {
   "cell_type": "code",
   "execution_count": 36,
   "id": "25c65a0d",
   "metadata": {},
   "outputs": [],
   "source": [
    "#  Tuple slicing\n",
    "slice_tup=tuple_name[3:5]"
   ]
  },
  {
   "cell_type": "code",
   "execution_count": 37,
   "id": "b2c6fb03",
   "metadata": {},
   "outputs": [
    {
     "data": {
      "text/plain": [
       "(15, 18)"
      ]
     },
     "execution_count": 37,
     "metadata": {},
     "output_type": "execute_result"
    }
   ],
   "source": [
    "slice_tup"
   ]
  },
  {
   "cell_type": "markdown",
   "id": "541246ca",
   "metadata": {},
   "source": [
    "# Sets"
   ]
  },
  {
   "cell_type": "code",
   "execution_count": 38,
   "id": "647e4cb1",
   "metadata": {},
   "outputs": [],
   "source": [
    "# set Declartion\n",
    "set_name={45,15,88,92}"
   ]
  },
  {
   "cell_type": "code",
   "execution_count": 39,
   "id": "28fb2177",
   "metadata": {},
   "outputs": [],
   "source": [
    "# Adding items to a set\n",
    "set_name.add(10)"
   ]
  },
  {
   "cell_type": "code",
   "execution_count": 41,
   "id": "65f453b9",
   "metadata": {},
   "outputs": [],
   "source": [
    "# Adding items to a set\n",
    "set_name.add(65)"
   ]
  },
  {
   "cell_type": "code",
   "execution_count": 42,
   "id": "f93a4e75",
   "metadata": {},
   "outputs": [
    {
     "data": {
      "text/plain": [
       "{10, 15, 45, 65, 88, 92}"
      ]
     },
     "execution_count": 42,
     "metadata": {},
     "output_type": "execute_result"
    }
   ],
   "source": [
    "set_name"
   ]
  },
  {
   "cell_type": "code",
   "execution_count": 43,
   "id": "44454809",
   "metadata": {},
   "outputs": [],
   "source": [
    "# Removing items from a set\n",
    "set_name.remove(88)"
   ]
  },
  {
   "cell_type": "code",
   "execution_count": 44,
   "id": "cf82c1d4",
   "metadata": {},
   "outputs": [
    {
     "data": {
      "text/plain": [
       "{10, 15, 45, 65, 92}"
      ]
     },
     "execution_count": 44,
     "metadata": {},
     "output_type": "execute_result"
    }
   ],
   "source": [
    "set_name"
   ]
  },
  {
   "cell_type": "code",
   "execution_count": 45,
   "id": "c9c4edcd",
   "metadata": {},
   "outputs": [],
   "source": [
    "set1={45,15,88,92}\n",
    "set2={4,1,8,2}"
   ]
  },
  {
   "cell_type": "code",
   "execution_count": 46,
   "id": "3ff4c763",
   "metadata": {},
   "outputs": [
    {
     "data": {
      "text/plain": [
       "{1, 2, 4, 8, 15, 45, 88, 92}"
      ]
     },
     "execution_count": 46,
     "metadata": {},
     "output_type": "execute_result"
    }
   ],
   "source": [
    "# set operations\n",
    "union_set=set1.union(set2)\n",
    "union_set"
   ]
  },
  {
   "cell_type": "code",
   "execution_count": 49,
   "id": "d4512b5c",
   "metadata": {},
   "outputs": [],
   "source": [
    "set1={45,15,88,92,4,1}\n",
    "set2={4,1,8,2}"
   ]
  },
  {
   "cell_type": "code",
   "execution_count": 50,
   "id": "94926ba8",
   "metadata": {},
   "outputs": [
    {
     "data": {
      "text/plain": [
       "{1, 4}"
      ]
     },
     "execution_count": 50,
     "metadata": {},
     "output_type": "execute_result"
    }
   ],
   "source": [
    "# set operations\n",
    "intersect_set=set1.intersection(set2)\n",
    "intersect_set"
   ]
  },
  {
   "cell_type": "code",
   "execution_count": 51,
   "id": "03007cb1",
   "metadata": {},
   "outputs": [
    {
     "data": {
      "text/plain": [
       "{15, 45, 88, 92}"
      ]
     },
     "execution_count": 51,
     "metadata": {},
     "output_type": "execute_result"
    }
   ],
   "source": [
    "# set operations\n",
    "diff_set=set1.difference(set2)\n",
    "diff_set"
   ]
  },
  {
   "cell_type": "code",
   "execution_count": 52,
   "id": "049c5581",
   "metadata": {},
   "outputs": [
    {
     "data": {
      "text/plain": [
       "{2, 8}"
      ]
     },
     "execution_count": 52,
     "metadata": {},
     "output_type": "execute_result"
    }
   ],
   "source": [
    "# set operations\n",
    "diff_set=set2.difference(set1)\n",
    "diff_set"
   ]
  },
  {
   "cell_type": "markdown",
   "id": "993dafa9",
   "metadata": {},
   "source": [
    "# List Comprehensions"
   ]
  },
  {
   "cell_type": "code",
   "execution_count": 57,
   "id": "bc33a224",
   "metadata": {},
   "outputs": [
    {
     "data": {
      "text/plain": [
       "[1, 9, 4, 25, 36, 16, 49, 64, 81, 100, 144]"
      ]
     },
     "execution_count": 57,
     "metadata": {},
     "output_type": "execute_result"
    }
   ],
   "source": [
    "#  Creating a new list from an existing list\n",
    "list1=[1,3,2,5,6,4,7,8,9,10,12]\n",
    "new_list=[i**2 for i in list1]\n",
    "new_list"
   ]
  },
  {
   "cell_type": "code",
   "execution_count": 58,
   "id": "410ffffd",
   "metadata": {},
   "outputs": [
    {
     "data": {
      "text/plain": [
       "[2, 6, 4, 8, 10, 12]"
      ]
     },
     "execution_count": 58,
     "metadata": {},
     "output_type": "execute_result"
    }
   ],
   "source": [
    "#  Creating a new list from an existing list\n",
    "#  Conditionally creating a new list from an existing list\n",
    "list1=[1,3,2,5,6,4,7,8,9,10,12]\n",
    "new_list=[i for i in list1 if i%2==0]\n",
    "new_list"
   ]
  },
  {
   "cell_type": "code",
   "execution_count": 59,
   "id": "e25005f5",
   "metadata": {},
   "outputs": [
    {
     "data": {
      "text/plain": [
       "[1, 3, 5, 7, 9]"
      ]
     },
     "execution_count": 59,
     "metadata": {},
     "output_type": "execute_result"
    }
   ],
   "source": [
    "#  Creating a new list from an existing list\n",
    "#  Conditionally creating a new list from an existing list\n",
    "list1=[1,3,2,5,6,4,7,8,9,10,12]\n",
    "new_list=[i for i in list1 if i%2!=0]\n",
    "new_list"
   ]
  },
  {
   "cell_type": "markdown",
   "id": "9948155d",
   "metadata": {},
   "source": [
    "# Modules and Packages"
   ]
  },
  {
   "cell_type": "code",
   "execution_count": 60,
   "id": "1b24a8e7",
   "metadata": {},
   "outputs": [],
   "source": [
    "import math"
   ]
  },
  {
   "cell_type": "code",
   "execution_count": null,
   "id": "b325c2f3",
   "metadata": {},
   "outputs": [],
   "source": [
    "#  Importing a specific function from a module\n",
    "from math import sqrt"
   ]
  },
  {
   "cell_type": "code",
   "execution_count": null,
   "id": "e8665480",
   "metadata": {},
   "outputs": [],
   "source": [
    "#  Importing all function from a module\n",
    "from math import *"
   ]
  },
  {
   "cell_type": "markdown",
   "id": "441ce1b5",
   "metadata": {},
   "source": [
    "# Class"
   ]
  },
  {
   "cell_type": "code",
   "execution_count": 81,
   "id": "85152f4e",
   "metadata": {},
   "outputs": [],
   "source": [
    "# class declaration\n",
    "class Ball:\n",
    "    def __init__(self,wt,pressure):\n",
    "        self.wt=wt\n",
    "        self.pressure=pressure\n",
    "    def bounce(self):\n",
    "        print(\"Hello\")\n",
    "        \n",
    "    def bou(self,x,y):\n",
    "        z=x+y\n",
    "        print(z)\n",
    "        \n",
    "        "
   ]
  },
  {
   "cell_type": "code",
   "execution_count": 77,
   "id": "ff35baa0",
   "metadata": {},
   "outputs": [],
   "source": [
    "obj1=Ball(25.5,65.7)"
   ]
  },
  {
   "cell_type": "code",
   "execution_count": 64,
   "id": "49642e52",
   "metadata": {},
   "outputs": [
    {
     "data": {
      "text/plain": [
       "<__main__.Ball at 0x2342df424c0>"
      ]
     },
     "execution_count": 64,
     "metadata": {},
     "output_type": "execute_result"
    }
   ],
   "source": [
    "obj1"
   ]
  },
  {
   "cell_type": "code",
   "execution_count": 65,
   "id": "9ae94123",
   "metadata": {},
   "outputs": [],
   "source": [
    "property_value=obj1.wt"
   ]
  },
  {
   "cell_type": "code",
   "execution_count": 66,
   "id": "64a11929",
   "metadata": {},
   "outputs": [
    {
     "data": {
      "text/plain": [
       "25.5"
      ]
     },
     "execution_count": 66,
     "metadata": {},
     "output_type": "execute_result"
    }
   ],
   "source": [
    "property_value"
   ]
  },
  {
   "cell_type": "code",
   "execution_count": 67,
   "id": "e28bbfbe",
   "metadata": {},
   "outputs": [
    {
     "data": {
      "text/plain": [
       "65.7"
      ]
     },
     "execution_count": 67,
     "metadata": {},
     "output_type": "execute_result"
    }
   ],
   "source": [
    "# Accessing object properties\n",
    "property_value2=obj1.pressure\n",
    "property_value2"
   ]
  },
  {
   "cell_type": "code",
   "execution_count": 82,
   "id": "577ac8aa",
   "metadata": {},
   "outputs": [
    {
     "name": "stdout",
     "output_type": "stream",
     "text": [
      "9\n"
     ]
    }
   ],
   "source": [
    "# Calling object methods\n",
    "ball=Ball(0.5,1.25)\n",
    "ball.bou(1,8)"
   ]
  },
  {
   "cell_type": "markdown",
   "id": "47e01334",
   "metadata": {},
   "source": [
    "# Lambda "
   ]
  },
  {
   "cell_type": "code",
   "execution_count": 69,
   "id": "15ee1102",
   "metadata": {},
   "outputs": [
    {
     "data": {
      "text/plain": [
       "93"
      ]
     },
     "execution_count": 69,
     "metadata": {},
     "output_type": "execute_result"
    }
   ],
   "source": [
    "#  Lambda function declaration\n",
    "lambda_techlang=lambda x,y: x+y\n",
    "\n",
    "\n",
    "#  Lambda function call\n",
    "result=lambda_techlang(15,78)\n",
    "result"
   ]
  },
  {
   "cell_type": "code",
   "execution_count": 71,
   "id": "0d94a926",
   "metadata": {},
   "outputs": [
    {
     "data": {
      "text/plain": [
       "29"
      ]
     },
     "execution_count": 71,
     "metadata": {},
     "output_type": "execute_result"
    }
   ],
   "source": [
    "#  Lambda function declaration\n",
    "lambda_techlang=lambda x,y:( x**2)+(y**2)\n",
    "\n",
    "\n",
    "#  Lambda function call\n",
    "result=lambda_techlang(5,2)\n",
    "result"
   ]
  },
  {
   "cell_type": "code",
   "execution_count": 72,
   "id": "93e2b461",
   "metadata": {},
   "outputs": [],
   "source": [
    "def sachin(x,y):\n",
    "    return ( x**2)+(y**2)"
   ]
  },
  {
   "cell_type": "code",
   "execution_count": 73,
   "id": "803e322f",
   "metadata": {},
   "outputs": [
    {
     "data": {
      "text/plain": [
       "29"
      ]
     },
     "execution_count": 73,
     "metadata": {},
     "output_type": "execute_result"
    }
   ],
   "source": [
    "result=sachin(5,2)\n",
    "result"
   ]
  },
  {
   "cell_type": "markdown",
   "id": "4eba53f4",
   "metadata": {},
   "source": [
    "# Map, Filter, and Reduce"
   ]
  },
  {
   "cell_type": "code",
   "execution_count": 1,
   "id": "7b9cfeb5",
   "metadata": {},
   "outputs": [
    {
     "data": {
      "text/plain": [
       "[1, 4, 9, 16, 25, 36]"
      ]
     },
     "execution_count": 1,
     "metadata": {},
     "output_type": "execute_result"
    }
   ],
   "source": [
    "# Map\n",
    "# new_list=map(function,iterable)\n",
    "numbers=[1,2,3,4,5,6]\n",
    "\n",
    "squared_numbers=list(map(lambda x:x**2,numbers))\n",
    "squared_numbers"
   ]
  },
  {
   "cell_type": "code",
   "execution_count": 2,
   "id": "2e3789bf",
   "metadata": {},
   "outputs": [
    {
     "data": {
      "text/plain": [
       "[2, 4, 6]"
      ]
     },
     "execution_count": 2,
     "metadata": {},
     "output_type": "execute_result"
    }
   ],
   "source": [
    "#Filter\n",
    "# new_list=filter(function,iterable)\n",
    "\n",
    "numbers=[1,2,3,4,5,6]\n",
    "\n",
    "even_numbers=list(filter(lambda x:x%2==0,numbers))\n",
    "even_numbers"
   ]
  },
  {
   "cell_type": "code",
   "execution_count": 7,
   "id": "4640391e",
   "metadata": {},
   "outputs": [
    {
     "data": {
      "text/plain": [
       "720"
      ]
     },
     "execution_count": 7,
     "metadata": {},
     "output_type": "execute_result"
    }
   ],
   "source": [
    "#Reduce\n",
    "#  Importing a specific function from a module\n",
    "# from functools import reduce \n",
    "# result=reduce(function,iterable)\n",
    "\n",
    "from functools import reduce \n",
    "numbers=[1,2,3,4,5,6]\n",
    "\n",
    "product=reduce(lambda x,y:x*y,numbers)\n",
    "\n",
    "product"
   ]
  },
  {
   "cell_type": "code",
   "execution_count": 8,
   "id": "b9982671",
   "metadata": {},
   "outputs": [
    {
     "data": {
      "text/plain": [
       "720"
      ]
     },
     "execution_count": 8,
     "metadata": {},
     "output_type": "execute_result"
    }
   ],
   "source": [
    "1*2*3*4*5*6"
   ]
  },
  {
   "cell_type": "markdown",
   "id": "d7ce902c",
   "metadata": {},
   "source": [
    "# Decorators"
   ]
  },
  {
   "cell_type": "code",
   "execution_count": null,
   "id": "777815db",
   "metadata": {},
   "outputs": [],
   "source": [
    "# Decorator function\n",
    "def decorator_function(original_function):\n",
    "    def wrapper_function(*args, **kwargs):\n",
    "        # code before original function\n",
    "        result = original_function(*args, **kwargs) #\n",
    "# code after original function\n",
    "        return result\n",
    "    return wrapper_function"
   ]
  },
  {
   "cell_type": "code",
   "execution_count": null,
   "id": "521e61da",
   "metadata": {},
   "outputs": [],
   "source": [
    "# Applying a decorator to a function\n",
    "@decorator_function\n",
    "def original_function(*args,**kwargs): \n",
    "    # code bloc"
   ]
  },
  {
   "cell_type": "code",
   "execution_count": 9,
   "id": "ed6a3fb2",
   "metadata": {},
   "outputs": [
    {
     "name": "stdout",
     "output_type": "stream",
     "text": [
      "Wrapper function executed before greet\n",
      "Hello, John!\n"
     ]
    }
   ],
   "source": [
    "def decorator_function(original_function):\n",
    "    def wrapper_function(*args, **kwargs):\n",
    "        print(f'Wrapper function executed before {original_function.__name__}')\n",
    "        return original_function(*args, **kwargs)\n",
    "    return wrapper_function\n",
    "\n",
    "@decorator_function\n",
    "def greet(name):\n",
    "    print(f'Hello, {name}!')\n",
    "\n",
    "greet('John')\n"
   ]
  },
  {
   "cell_type": "markdown",
   "id": "53a13972",
   "metadata": {},
   "source": [
    "### In this example, we define a decorator function decorator_function that takes in the original function original_function as an argument. The decorator function then defines a wrapper function wrapper_function, which will wrap around the original function.\n",
    "\n",
    "The wrapper function is responsible for adding additional behavior before and after the original function is called. In this case, the wrapper function prints a message before executing the original function.\n",
    "\n",
    "By using the @decorator_function syntax above the greet function declaration, we apply the decorator to the greet function. This is equivalent to calling greet = decorator_function(greet). As a result, whenever we call greet('John'), the wrapper function is executed first, printing the message, and then the original greet function is called.  "
   ]
  },
  {
   "cell_type": "markdown",
   "id": "9b3534b1",
   "metadata": {},
   "source": [
    "#### Decorators are a powerful feature in Python that allow us to modify the behavior of functions or classes without directly modifying their code. They can be used for various purposes, such as logging, timing, authorization, or modifying the input/output of a function. "
   ]
  },
  {
   "cell_type": "code",
   "execution_count": null,
   "id": "b3f74fc6",
   "metadata": {},
   "outputs": [],
   "source": []
  },
  {
   "cell_type": "code",
   "execution_count": null,
   "id": "82ce7b2f",
   "metadata": {},
   "outputs": [],
   "source": []
  },
  {
   "cell_type": "markdown",
   "id": "72afc265",
   "metadata": {},
   "source": [
    "# Generators"
   ]
  },
  {
   "cell_type": "markdown",
   "id": "bff6ba4b",
   "metadata": {},
   "source": [
    "### Example 1 "
   ]
  },
  {
   "cell_type": "code",
   "execution_count": 10,
   "id": "f3177635",
   "metadata": {},
   "outputs": [],
   "source": [
    "# Generator function \n",
    "def generator_function():\n",
    "    for i in range(10):\n",
    "        yield i\n",
    "        \n"
   ]
  },
  {
   "cell_type": "code",
   "execution_count": 11,
   "id": "e282915b",
   "metadata": {},
   "outputs": [
    {
     "name": "stdout",
     "output_type": "stream",
     "text": [
      "Hello\n",
      "Hello\n",
      "Hello\n",
      "Hello\n",
      "Hello\n",
      "Hello\n",
      "Hello\n",
      "Hello\n",
      "Hello\n",
      "Hello\n"
     ]
    }
   ],
   "source": [
    "# Using a generator\n",
    "for value in generator_function():\n",
    "    print(\"Hello\")\n"
   ]
  },
  {
   "cell_type": "markdown",
   "id": "bcc88fc5",
   "metadata": {},
   "source": [
    "### Example 2 "
   ]
  },
  {
   "cell_type": "code",
   "execution_count": 12,
   "id": "2dbbede0",
   "metadata": {},
   "outputs": [],
   "source": [
    "def fibonacci_generator():\n",
    "    a, b = 0, 1\n",
    "    while True:\n",
    "        yield a\n",
    "        a, b = b, a + b\n"
   ]
  },
  {
   "cell_type": "markdown",
   "id": "934889d7",
   "metadata": {},
   "source": [
    "#### In Python, a generator function is defined using the yield keyword. It allows you to create an iterator object that generates a sequence of values on the fly, instead of storing them all in memory at once. Here's an example of a generator function that generates a sequence of Fibonacci numbers: "
   ]
  },
  {
   "cell_type": "markdown",
   "id": "d2c5a8c1",
   "metadata": {},
   "source": [
    "#### In this example, each time the generator function is called, it returns the next Fibonacci number in the sequence. The yield keyword is used to specify the values to be generated. The function doesn't terminate after yielding a value; instead, it pauses its execution state and continues from where it left off the next time it's called.\n",
    "\n",
    "You can use the generator function in a loop to generate and print a sequence of Fibonacci numbers:  "
   ]
  },
  {
   "cell_type": "code",
   "execution_count": 16,
   "id": "20a771a7",
   "metadata": {},
   "outputs": [
    {
     "name": "stdout",
     "output_type": "stream",
     "text": [
      "0\n",
      "1\n",
      "1\n",
      "2\n",
      "3\n",
      "5\n",
      "8\n",
      "13\n",
      "21\n",
      "34\n"
     ]
    }
   ],
   "source": [
    "fib = fibonacci_generator()\n",
    "for _ in range(10):\n",
    "    print(next(fib))\n"
   ]
  },
  {
   "cell_type": "markdown",
   "id": "ece0d6c6",
   "metadata": {},
   "source": [
    "#### The advantage of using a generator function is that it generates values on-demand, allowing you to work with large sequences without consuming excessive memory. "
   ]
  },
  {
   "cell_type": "code",
   "execution_count": null,
   "id": "f9007304",
   "metadata": {},
   "outputs": [],
   "source": []
  },
  {
   "cell_type": "code",
   "execution_count": null,
   "id": "a95e7dce",
   "metadata": {},
   "outputs": [],
   "source": []
  },
  {
   "cell_type": "code",
   "execution_count": null,
   "id": "bba255c1",
   "metadata": {},
   "outputs": [],
   "source": []
  },
  {
   "cell_type": "code",
   "execution_count": null,
   "id": "641568d6",
   "metadata": {},
   "outputs": [],
   "source": []
  }
 ],
 "metadata": {
  "kernelspec": {
   "display_name": "Python 3 (ipykernel)",
   "language": "python",
   "name": "python3"
  },
  "language_info": {
   "codemirror_mode": {
    "name": "ipython",
    "version": 3
   },
   "file_extension": ".py",
   "mimetype": "text/x-python",
   "name": "python",
   "nbconvert_exporter": "python",
   "pygments_lexer": "ipython3",
   "version": "3.9.13"
  }
 },
 "nbformat": 4,
 "nbformat_minor": 5
}
