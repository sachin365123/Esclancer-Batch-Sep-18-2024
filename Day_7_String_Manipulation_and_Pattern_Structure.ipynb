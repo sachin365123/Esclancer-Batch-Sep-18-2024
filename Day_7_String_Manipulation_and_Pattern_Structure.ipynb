{
  "nbformat": 4,
  "nbformat_minor": 0,
  "metadata": {
    "colab": {
      "provenance": []
    },
    "kernelspec": {
      "name": "python3",
      "display_name": "Python 3"
    },
    "language_info": {
      "name": "python"
    }
  },
  "cells": [
    {
      "cell_type": "code",
      "execution_count": 6,
      "metadata": {
        "colab": {
          "base_uri": "https://localhost:8080/"
        },
        "id": "c_6lZZqtp6JT",
        "outputId": "9eb3a9e5-3a8a-4af6-ba15-04aae73e7145"
      },
      "outputs": [
        {
          "output_type": "stream",
          "name": "stdout",
          "text": [
            "The highest score in the class is: 7785\n"
          ]
        }
      ],
      "source": [
        "# Revision and Doubt of Day 6\n",
        "list1 = [180, 959, 56, 5, 7785, 535]\n",
        "max = 0\n",
        "\n",
        "for i in list1:\n",
        "  if i > max:\n",
        "    max=i\n",
        "\n",
        "# max=0\n",
        "# 80>0 ? Yes max=80\n",
        "# 99>80 ? Yes max=99\n",
        "# 526>99 ? Yes max=526\n",
        "# 65 > 526 ? No max=526\n",
        "# 75> 526 ? No max=526\n",
        "# 55> 526 ? No max=526\n",
        "\n",
        "# max=526\n",
        "print(f\"The highest score in the class is: {max}\")\n"
      ]
    },
    {
      "cell_type": "markdown",
      "source": [
        "# String in Python"
      ],
      "metadata": {
        "id": "bfkFSYoqr-Sm"
      }
    },
    {
      "cell_type": "code",
      "source": [
        "# Spilt the String\n",
        "my_string = \"I love learning Python\"\n",
        "output = my_string.split(\" \", maxsplit = 5)\n",
        "print(output)"
      ],
      "metadata": {
        "colab": {
          "base_uri": "https://localhost:8080/"
        },
        "id": "I3Ar-mpoqm4N",
        "outputId": "eefdb7cb-ad31-460f-cab9-66d69876bc02"
      },
      "execution_count": 16,
      "outputs": [
        {
          "output_type": "stream",
          "name": "stdout",
          "text": [
            "['I', 'love', 'learning', 'Python']\n"
          ]
        }
      ]
    },
    {
      "cell_type": "code",
      "source": [
        "print(type(output))"
      ],
      "metadata": {
        "colab": {
          "base_uri": "https://localhost:8080/"
        },
        "id": "4WMOdLiitKOl",
        "outputId": "e68ebf26-e873-4655-b402-32b4cece8f80"
      },
      "execution_count": 19,
      "outputs": [
        {
          "output_type": "stream",
          "name": "stdout",
          "text": [
            "<class 'list'>\n"
          ]
        }
      ]
    },
    {
      "cell_type": "code",
      "source": [
        "# Joining the String\n",
        "join_back = \" \".join(output)\n",
        "print(join_back)"
      ],
      "metadata": {
        "colab": {
          "base_uri": "https://localhost:8080/"
        },
        "id": "DiPJ1i1ssKJ7",
        "outputId": "ff603911-b4e4-4d93-c8b6-14b2426ca67c"
      },
      "execution_count": 17,
      "outputs": [
        {
          "output_type": "stream",
          "name": "stdout",
          "text": [
            "I love learning Python\n"
          ]
        }
      ]
    },
    {
      "cell_type": "code",
      "source": [
        "print(type(join_back))"
      ],
      "metadata": {
        "colab": {
          "base_uri": "https://localhost:8080/"
        },
        "id": "JBeNkSUVtFFi",
        "outputId": "0ae0ef7b-7070-4a65-bf16-43a8b8fc2e36"
      },
      "execution_count": 18,
      "outputs": [
        {
          "output_type": "stream",
          "name": "stdout",
          "text": [
            "<class 'str'>\n"
          ]
        }
      ]
    },
    {
      "cell_type": "markdown",
      "source": [
        "# Problem 1: Remove all Punctuations in String"
      ],
      "metadata": {
        "id": "_jXRNoYtuA8d"
      }
    },
    {
      "cell_type": "code",
      "source": [
        "import string\n",
        "str1 = \"/*Jo#$n is @developer & mu@#$sician\"\n",
        "print(\"Original string is \", str1)\n",
        "\n",
        "new_str = str1.translate(str.maketrans('', '', string.punctuation))\n",
        "print(\"New string is \", new_str)"
      ],
      "metadata": {
        "colab": {
          "base_uri": "https://localhost:8080/"
        },
        "id": "y83cQg5otHC4",
        "outputId": "e131b823-05f1-47fa-bcf3-e41a487f2fa8"
      },
      "execution_count": 23,
      "outputs": [
        {
          "output_type": "stream",
          "name": "stdout",
          "text": [
            "Original string is  /*Jo#$n is @developer & mu@#$sician\n",
            "New string is  Jon is developer  musician\n"
          ]
        }
      ]
    },
    {
      "cell_type": "markdown",
      "source": [
        "# Problem 2: Backward Travasal or Print String in reverse order"
      ],
      "metadata": {
        "id": "1Cv1tTUhuIi2"
      }
    },
    {
      "cell_type": "code",
      "source": [
        "new_string = input(\"Enter a string: \")\n",
        "index = -1\n",
        "length = -1 * len(new_string)"
      ],
      "metadata": {
        "colab": {
          "base_uri": "https://localhost:8080/"
        },
        "id": "xAnIjiHgtrIw",
        "outputId": "ec186337-0335-4b99-ef79-1fc3743c6923"
      },
      "execution_count": 43,
      "outputs": [
        {
          "name": "stdout",
          "output_type": "stream",
          "text": [
            "Enter a string: Data Science\n"
          ]
        }
      ]
    },
    {
      "cell_type": "code",
      "source": [
        "new_string[-12]"
      ],
      "metadata": {
        "colab": {
          "base_uri": "https://localhost:8080/",
          "height": 36
        },
        "id": "KG-NLUTFvweM",
        "outputId": "326274a4-307f-473b-be7f-a0ceb2e0c474"
      },
      "execution_count": 51,
      "outputs": [
        {
          "output_type": "execute_result",
          "data": {
            "text/plain": [
              "'D'"
            ],
            "application/vnd.google.colaboratory.intrinsic+json": {
              "type": "string"
            }
          },
          "metadata": {},
          "execution_count": 51
        }
      ]
    },
    {
      "cell_type": "code",
      "source": [
        "len(new_string)"
      ],
      "metadata": {
        "colab": {
          "base_uri": "https://localhost:8080/"
        },
        "id": "HQV8U2NwwFUT",
        "outputId": "6bc46a3f-be80-4418-9579-41a91455d896"
      },
      "execution_count": 48,
      "outputs": [
        {
          "output_type": "execute_result",
          "data": {
            "text/plain": [
              "12"
            ]
          },
          "metadata": {},
          "execution_count": 48
        }
      ]
    },
    {
      "cell_type": "code",
      "source": [
        "length"
      ],
      "metadata": {
        "colab": {
          "base_uri": "https://localhost:8080/"
        },
        "id": "pd2DA6pHuYdA",
        "outputId": "3c696ed1-86eb-4629-cd03-37d02e5e8f76"
      },
      "execution_count": 27,
      "outputs": [
        {
          "output_type": "execute_result",
          "data": {
            "text/plain": [
              "-6"
            ]
          },
          "metadata": {},
          "execution_count": 27
        }
      ]
    },
    {
      "cell_type": "code",
      "source": [
        "new_string[-6]"
      ],
      "metadata": {
        "colab": {
          "base_uri": "https://localhost:8080/",
          "height": 36
        },
        "id": "0fyjowgHuY6A",
        "outputId": "0802c495-d395-45a7-906c-6b2b4fc86dba"
      },
      "execution_count": 31,
      "outputs": [
        {
          "output_type": "execute_result",
          "data": {
            "text/plain": [
              "'S'"
            ],
            "application/vnd.google.colaboratory.intrinsic+json": {
              "type": "string"
            }
          },
          "metadata": {},
          "execution_count": 31
        }
      ]
    },
    {
      "cell_type": "code",
      "source": [
        "while index >= length:\n",
        "  letter = new_string[index]\n",
        "  print(letter, end=\"\")\n",
        "  index = index-1"
      ],
      "metadata": {
        "colab": {
          "base_uri": "https://localhost:8080/"
        },
        "id": "t-lC1Xfruhpb",
        "outputId": "5b7b7636-6520-44ba-ad51-0eeb3d559ba6"
      },
      "execution_count": 52,
      "outputs": [
        {
          "output_type": "stream",
          "name": "stdout",
          "text": [
            "ecneicS ataD"
          ]
        }
      ]
    },
    {
      "cell_type": "markdown",
      "source": [
        "# Shortcut Method for above Problem"
      ],
      "metadata": {
        "id": "ZvoZVgw0w8k-"
      }
    },
    {
      "cell_type": "code",
      "source": [
        "name=input(\"Enter your Name...\")\n",
        "print(name[::-1])"
      ],
      "metadata": {
        "colab": {
          "base_uri": "https://localhost:8080/"
        },
        "id": "BboaIw02vD_2",
        "outputId": "9c28fed4-8151-463c-eb5b-03836a38ed15"
      },
      "execution_count": 54,
      "outputs": [
        {
          "output_type": "stream",
          "name": "stdout",
          "text": [
            "Enter your Name...Jyothi Kumari\n",
            "iramuK ihtoyJ\n"
          ]
        }
      ]
    },
    {
      "cell_type": "markdown",
      "source": [
        "# Problem 3: Count given Character in a String using Python"
      ],
      "metadata": {
        "id": "aFEROJ2fxf8l"
      }
    },
    {
      "cell_type": "code",
      "source": [
        "def count_letter(word, letter):\n",
        "    counter = 0\n",
        "    for char in word:\n",
        "        if char == letter:\n",
        "          counter += 1\n",
        "    return counter\n",
        "\n",
        "print(count_letter(\"pharmaceutical\", \"a\"))"
      ],
      "metadata": {
        "colab": {
          "base_uri": "https://localhost:8080/"
        },
        "id": "7kLJo2oww32V",
        "outputId": "a90f5d1c-6b2f-4031-8b36-7baac3013108"
      },
      "execution_count": 57,
      "outputs": [
        {
          "output_type": "stream",
          "name": "stdout",
          "text": [
            "3\n"
          ]
        }
      ]
    },
    {
      "cell_type": "markdown",
      "source": [
        "# Problem 4: Replace Character in String using Python"
      ],
      "metadata": {
        "id": "5C04aCeKyqdH"
      }
    },
    {
      "cell_type": "code",
      "source": [
        "custom_string = 'I love Python???? I like learning it??????'\n",
        "new_string = custom_string.replace(\"?\", \"!\",10)\n",
        "print(custom_string)\n",
        "print(new_string)"
      ],
      "metadata": {
        "colab": {
          "base_uri": "https://localhost:8080/"
        },
        "id": "iEps6kAJyhaz",
        "outputId": "f7f4aee3-9e84-4c07-b1be-47815a91fe11"
      },
      "execution_count": 63,
      "outputs": [
        {
          "output_type": "stream",
          "name": "stdout",
          "text": [
            "I love Python???? I like learning it??????\n",
            "I love Python!!!! I like learning it!!!!!!\n"
          ]
        }
      ]
    },
    {
      "cell_type": "code",
      "source": [
        "custom_string = 'I love Python ???? I like learning it ??????'\n",
        "new_string = custom_string.replace(\"?\", \"!\")\n",
        "print(custom_string)\n",
        "print(new_string)"
      ],
      "metadata": {
        "colab": {
          "base_uri": "https://localhost:8080/"
        },
        "id": "sAnhJQFIzRqz",
        "outputId": "e73e9707-5adc-46d4-8d0e-a027e37db40f"
      },
      "execution_count": 65,
      "outputs": [
        {
          "output_type": "stream",
          "name": "stdout",
          "text": [
            "I love Python ???? I like learning it ??????\n",
            "I love Python !!!! I like learning it !!!!!!\n"
          ]
        }
      ]
    },
    {
      "cell_type": "code",
      "source": [
        "custom_string = 'I love China???? I like China\\'s toys it??????'\n",
        "new_string = custom_string.replace(\"China\", \"India\",1)\n",
        "print(custom_string)\n",
        "print(new_string)"
      ],
      "metadata": {
        "colab": {
          "base_uri": "https://localhost:8080/"
        },
        "id": "Ohk5MuBNzZ6q",
        "outputId": "06e2e5b0-2a36-46f5-9d6e-58cd60e7dd61"
      },
      "execution_count": 67,
      "outputs": [
        {
          "output_type": "stream",
          "name": "stdout",
          "text": [
            "I love China???? I like China's toys it??????\n",
            "I love India???? I like China's toys it??????\n"
          ]
        }
      ]
    },
    {
      "cell_type": "markdown",
      "source": [
        "# Problem 5: String Manipulation and Extract float values"
      ],
      "metadata": {
        "id": "XoQUcfqBz62E"
      }
    },
    {
      "cell_type": "code",
      "source": [
        "custom_string = 'X-MAPDS-Confidence:0.8547'\n",
        "index_col = custom_string.find(\":\")"
      ],
      "metadata": {
        "id": "YDj4Z848zAqL"
      },
      "execution_count": 68,
      "outputs": []
    },
    {
      "cell_type": "code",
      "source": [
        "index_col"
      ],
      "metadata": {
        "colab": {
          "base_uri": "https://localhost:8080/"
        },
        "id": "jHXoafgw0DWz",
        "outputId": "a28ad742-ad10-445b-d9f2-536469ee2cf8"
      },
      "execution_count": 69,
      "outputs": [
        {
          "output_type": "execute_result",
          "data": {
            "text/plain": [
              "18"
            ]
          },
          "metadata": {},
          "execution_count": 69
        }
      ]
    },
    {
      "cell_type": "code",
      "source": [
        "custom_string = 'Pharmaceutical:0.1452'\n",
        "index_col = custom_string.find(\":\")\n",
        "number = custom_string[index_col + 1 : ]\n",
        "print(number)"
      ],
      "metadata": {
        "colab": {
          "base_uri": "https://localhost:8080/"
        },
        "id": "Dy0rjGX40EuI",
        "outputId": "1c69634f-d8d0-411b-e69f-0989b6cab7af"
      },
      "execution_count": 71,
      "outputs": [
        {
          "output_type": "stream",
          "name": "stdout",
          "text": [
            "0.1452\n"
          ]
        }
      ]
    },
    {
      "cell_type": "code",
      "source": [
        "custom_string = 'Sachin:0.84'\n",
        "index_col = custom_string.find(\":\")\n",
        "number = custom_string[index_col + 1 : ]\n",
        "print(number)"
      ],
      "metadata": {
        "colab": {
          "base_uri": "https://localhost:8080/"
        },
        "id": "M_P1uoqW0QtK",
        "outputId": "27514580-5b9b-4a74-c186-218f5f6c8bc3"
      },
      "execution_count": 72,
      "outputs": [
        {
          "output_type": "stream",
          "name": "stdout",
          "text": [
            "0.84\n"
          ]
        }
      ]
    },
    {
      "cell_type": "code",
      "source": [
        "custom_string = 'Machine Learning:0.7458'\n",
        "index_col = custom_string.find(\":\")\n",
        "number = custom_string[index_col + 1 : ]\n",
        "print(number)"
      ],
      "metadata": {
        "colab": {
          "base_uri": "https://localhost:8080/"
        },
        "id": "kY8RpOD20ejE",
        "outputId": "ad84e879-db85-4254-d3f9-67c7cf3c7839"
      },
      "execution_count": 73,
      "outputs": [
        {
          "output_type": "stream",
          "name": "stdout",
          "text": [
            "0.7458\n"
          ]
        }
      ]
    },
    {
      "cell_type": "markdown",
      "source": [
        "# Problem 6: Print Pattern using String"
      ],
      "metadata": {
        "id": "8TBwMcNp1JrT"
      }
    },
    {
      "cell_type": "code",
      "source": [
        "def print_pattern(n):\n",
        "    for i in range(0, n):\n",
        "        for j in range(0, i+1):\n",
        "            print(\"*\", end = ' ')\n",
        "        print()\n",
        "\n",
        "    for i in range(n, 0, -1):\n",
        "        for j in range(0, i-1):\n",
        "            print(\"*\", end = ' ')\n",
        "        print()\n",
        "\n",
        "print_pattern(7)"
      ],
      "metadata": {
        "colab": {
          "base_uri": "https://localhost:8080/"
        },
        "id": "dwqhVl2y1O3F",
        "outputId": "c1efb9a3-216c-4a37-e47d-c530fcb3fd3b"
      },
      "execution_count": 74,
      "outputs": [
        {
          "output_type": "stream",
          "name": "stdout",
          "text": [
            "* \n",
            "* * \n",
            "* * * \n",
            "* * * * \n",
            "* * * * * \n",
            "* * * * * * \n",
            "* * * * * * * \n",
            "* * * * * * \n",
            "* * * * * \n",
            "* * * * \n",
            "* * * \n",
            "* * \n",
            "* \n",
            "\n"
          ]
        }
      ]
    },
    {
      "cell_type": "code",
      "source": [
        "def print_pattern(n):\n",
        "    for i in range(0, n):\n",
        "        for j in range(0, i+1):\n",
        "            print(\"*\", end = ' ')\n",
        "        print()\n",
        "\n",
        "    # for i in range(n, 0, -1):\n",
        "    #     for j in range(0, i-1):\n",
        "    #         print(\"*\", end = ' ')\n",
        "    #     print()\n",
        "\n",
        "print_pattern(7)"
      ],
      "metadata": {
        "colab": {
          "base_uri": "https://localhost:8080/"
        },
        "id": "50aQxN3s1T1X",
        "outputId": "4ac22060-02e6-4258-cb71-bcccba4fba05"
      },
      "execution_count": 75,
      "outputs": [
        {
          "output_type": "stream",
          "name": "stdout",
          "text": [
            "* \n",
            "* * \n",
            "* * * \n",
            "* * * * \n",
            "* * * * * \n",
            "* * * * * * \n",
            "* * * * * * * \n"
          ]
        }
      ]
    },
    {
      "cell_type": "code",
      "source": [
        "def print_pattern(n):\n",
        "    # for i in range(0, n):\n",
        "    #     for j in range(0, i+1):\n",
        "    #         print(\"*\", end = ' ')\n",
        "    #     print()\n",
        "\n",
        "    for i in range(n, 0, -1):\n",
        "        for j in range(0, i-1):\n",
        "            print(\"*\", end = ' ')\n",
        "        print()\n",
        "\n",
        "print_pattern(7)"
      ],
      "metadata": {
        "colab": {
          "base_uri": "https://localhost:8080/"
        },
        "id": "htq7aZu31W5h",
        "outputId": "b695a2f7-efc0-4e18-ecba-5ebd7d666c47"
      },
      "execution_count": 76,
      "outputs": [
        {
          "output_type": "stream",
          "name": "stdout",
          "text": [
            "* * * * * * \n",
            "* * * * * \n",
            "* * * * \n",
            "* * * \n",
            "* * \n",
            "* \n",
            "\n"
          ]
        }
      ]
    },
    {
      "cell_type": "code",
      "source": [
        "def print_pattern(n):\n",
        "    for i in range(0, n):\n",
        "        for j in range(0, i+1):\n",
        "            print(i+1, end = ' ')\n",
        "        print()\n",
        "\n",
        "    for i in range(n, 0, -1):\n",
        "        for j in range(0, i-1):\n",
        "            print(i-1, end = ' ')\n",
        "        print()\n",
        "\n",
        "print_pattern(7)"
      ],
      "metadata": {
        "colab": {
          "base_uri": "https://localhost:8080/"
        },
        "id": "u6ZjaHP81dmm",
        "outputId": "7a91e5e3-0508-4af0-fba4-f888e9746245"
      },
      "execution_count": 83,
      "outputs": [
        {
          "output_type": "stream",
          "name": "stdout",
          "text": [
            "1 \n",
            "2 2 \n",
            "3 3 3 \n",
            "4 4 4 4 \n",
            "5 5 5 5 5 \n",
            "6 6 6 6 6 6 \n",
            "7 7 7 7 7 7 7 \n",
            "6 6 6 6 6 6 \n",
            "5 5 5 5 5 \n",
            "4 4 4 4 \n",
            "3 3 3 \n",
            "2 2 \n",
            "1 \n",
            "\n"
          ]
        }
      ]
    },
    {
      "cell_type": "code",
      "source": [
        "def print_pattern(n):\n",
        "    for ml in range(0, n):\n",
        "        for saya in range(0, ml+1):\n",
        "            print(saya+1, end = ' ')\n",
        "        print()\n",
        "\n",
        "    for ml in range(n, 0, -1):\n",
        "        for saya in range(0, ml-1):\n",
        "            print(saya+1, end = ' ')\n",
        "        print()\n",
        "\n",
        "print_pattern(7)"
      ],
      "metadata": {
        "colab": {
          "base_uri": "https://localhost:8080/"
        },
        "id": "l2Y-iHS01fm_",
        "outputId": "30139e2b-41a7-4054-8467-b740efb127f7"
      },
      "execution_count": 89,
      "outputs": [
        {
          "output_type": "stream",
          "name": "stdout",
          "text": [
            "1 \n",
            "1 2 \n",
            "1 2 3 \n",
            "1 2 3 4 \n",
            "1 2 3 4 5 \n",
            "1 2 3 4 5 6 \n",
            "1 2 3 4 5 6 7 \n",
            "1 2 3 4 5 6 \n",
            "1 2 3 4 5 \n",
            "1 2 3 4 \n",
            "1 2 3 \n",
            "1 2 \n",
            "1 \n",
            "\n"
          ]
        }
      ]
    },
    {
      "cell_type": "code",
      "source": [],
      "metadata": {
        "id": "ytF99EoW18lI"
      },
      "execution_count": null,
      "outputs": []
    }
  ]
}