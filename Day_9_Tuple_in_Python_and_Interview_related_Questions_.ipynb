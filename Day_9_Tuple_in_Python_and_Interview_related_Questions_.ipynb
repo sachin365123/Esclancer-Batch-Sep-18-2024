{
  "nbformat": 4,
  "nbformat_minor": 0,
  "metadata": {
    "colab": {
      "provenance": []
    },
    "kernelspec": {
      "name": "python3",
      "display_name": "Python 3"
    },
    "language_info": {
      "name": "python"
    }
  },
  "cells": [
    {
      "cell_type": "markdown",
      "source": [
        "# Tuple in Python"
      ],
      "metadata": {
        "id": "peqh6MQnQvxV"
      }
    },
    {
      "cell_type": "code",
      "source": [
        "city=('Mumbai','Delhi','Bangalore')\n",
        "print(type(city))"
      ],
      "metadata": {
        "colab": {
          "base_uri": "https://localhost:8080/"
        },
        "id": "A8xR5qfgUaAf",
        "outputId": "24609599-3888-4a72-e836-43dd72c95838"
      },
      "execution_count": 19,
      "outputs": [
        {
          "output_type": "stream",
          "name": "stdout",
          "text": [
            "<class 'tuple'>\n"
          ]
        }
      ]
    },
    {
      "cell_type": "code",
      "source": [
        "city=['Mumbai','Delhi','Bangalore']\n",
        "print(type(city))"
      ],
      "metadata": {
        "colab": {
          "base_uri": "https://localhost:8080/"
        },
        "id": "e_29cy0CUoTc",
        "outputId": "0efd3bb9-3bcf-45c4-b52c-7fb9244a9247"
      },
      "execution_count": 20,
      "outputs": [
        {
          "output_type": "stream",
          "name": "stdout",
          "text": [
            "<class 'list'>\n"
          ]
        }
      ]
    },
    {
      "cell_type": "code",
      "execution_count": 21,
      "metadata": {
        "colab": {
          "base_uri": "https://localhost:8080/"
        },
        "id": "mmRKB5zVQr3q",
        "outputId": "6b28e593-2f89-4290-b98d-725a7cf65592"
      },
      "outputs": [
        {
          "output_type": "stream",
          "name": "stdout",
          "text": [
            "<class 'tuple'>\n"
          ]
        }
      ],
      "source": [
        "# Initialize the tuple\n",
        "club=('Data Science','Machine Learning',25,14)\n",
        "print(type(club))"
      ]
    },
    {
      "cell_type": "code",
      "source": [
        "print(club)"
      ],
      "metadata": {
        "colab": {
          "base_uri": "https://localhost:8080/"
        },
        "id": "0UA_0NNPQ6qh",
        "outputId": "a5b7cb81-6114-46f8-d164-78b329430354"
      },
      "execution_count": 22,
      "outputs": [
        {
          "output_type": "stream",
          "name": "stdout",
          "text": [
            "('Data Science', 'Machine Learning', 25, 14)\n"
          ]
        }
      ]
    },
    {
      "cell_type": "code",
      "source": [
        "# Accessing the elements of Tuple\n",
        "print(club[3])"
      ],
      "metadata": {
        "colab": {
          "base_uri": "https://localhost:8080/"
        },
        "id": "-8HPGDw5RU_L",
        "outputId": "0c060198-2070-434f-88f8-cca9d58b866f"
      },
      "execution_count": 28,
      "outputs": [
        {
          "output_type": "stream",
          "name": "stdout",
          "text": [
            "14\n"
          ]
        }
      ]
    },
    {
      "cell_type": "code",
      "source": [
        "# club[0]='Deep Learning'\n",
        "#Tuple is immutable"
      ],
      "metadata": {
        "id": "uBYAs_9RT8K2"
      },
      "execution_count": 24,
      "outputs": []
    },
    {
      "cell_type": "code",
      "source": [
        "print(club[1])"
      ],
      "metadata": {
        "colab": {
          "base_uri": "https://localhost:8080/"
        },
        "id": "nJ5_-ENFQxK4",
        "outputId": "d73a0d6c-bd28-4788-9bc8-9e3ec3338765"
      },
      "execution_count": 11,
      "outputs": [
        {
          "output_type": "stream",
          "name": "stdout",
          "text": [
            "Machine Learning\n"
          ]
        }
      ]
    },
    {
      "cell_type": "code",
      "source": [
        "print(club[2])"
      ],
      "metadata": {
        "colab": {
          "base_uri": "https://localhost:8080/"
        },
        "id": "oP48Pk3uTVZz",
        "outputId": "44138683-d652-4f5f-df76-29394a54dab6"
      },
      "execution_count": 12,
      "outputs": [
        {
          "output_type": "stream",
          "name": "stdout",
          "text": [
            "25\n"
          ]
        }
      ]
    },
    {
      "cell_type": "code",
      "source": [
        "club2= list(club)\n",
        "print(type(club2))"
      ],
      "metadata": {
        "colab": {
          "base_uri": "https://localhost:8080/"
        },
        "id": "6ltE3UTKTa3T",
        "outputId": "56fb7fa5-5d63-49ce-8a64-7deb6b84f6ef"
      },
      "execution_count": 13,
      "outputs": [
        {
          "output_type": "stream",
          "name": "stdout",
          "text": [
            "<class 'list'>\n"
          ]
        }
      ]
    },
    {
      "cell_type": "code",
      "source": [
        "print(club2)"
      ],
      "metadata": {
        "colab": {
          "base_uri": "https://localhost:8080/"
        },
        "id": "QdgDrVBKTi9X",
        "outputId": "15a0eeb8-cb5a-4356-ec42-44801fcd5f98"
      },
      "execution_count": 14,
      "outputs": [
        {
          "output_type": "stream",
          "name": "stdout",
          "text": [
            "['Data Science', 'Machine Learning', 25, 14]\n"
          ]
        }
      ]
    },
    {
      "cell_type": "code",
      "source": [
        "club2[0] = \"Artificial Intelligenec\"\n",
        "club2[2] = 7"
      ],
      "metadata": {
        "id": "TD7wV-UqTpPv"
      },
      "execution_count": 15,
      "outputs": []
    },
    {
      "cell_type": "code",
      "source": [
        "print(club2)"
      ],
      "metadata": {
        "colab": {
          "base_uri": "https://localhost:8080/"
        },
        "id": "roz_iHTLTy0q",
        "outputId": "1c7385dc-4c9a-428d-f4ad-9f5c256355c1"
      },
      "execution_count": 16,
      "outputs": [
        {
          "output_type": "stream",
          "name": "stdout",
          "text": [
            "['Artificial Intelligenec', 'Machine Learning', 7, 14]\n"
          ]
        }
      ]
    },
    {
      "cell_type": "markdown",
      "source": [
        "# Unpacking tuple"
      ],
      "metadata": {
        "id": "faAOGGlDVSAW"
      }
    },
    {
      "cell_type": "code",
      "source": [
        "print(\"Unpacking Tuple\")\n",
        "my_tuple =(10,20,30)\n",
        "print(my_tuple)\n",
        "x,y,z= my_tuple\n",
        "print(x)\n",
        "print(y)\n",
        "print(z)"
      ],
      "metadata": {
        "colab": {
          "base_uri": "https://localhost:8080/"
        },
        "id": "QzWsF-ZxT0ok",
        "outputId": "86045406-9fb7-427f-d6de-4048918243ec"
      },
      "execution_count": 30,
      "outputs": [
        {
          "output_type": "stream",
          "name": "stdout",
          "text": [
            "Unpacking Tuple\n",
            "(10, 20, 30)\n",
            "10\n",
            "20\n",
            "30\n"
          ]
        }
      ]
    },
    {
      "cell_type": "markdown",
      "source": [
        "# Unpacking list"
      ],
      "metadata": {
        "id": "7N8-aoVMV36S"
      }
    },
    {
      "cell_type": "code",
      "source": [
        "print(\"Unpacking list\")\n",
        "my_list = [40, 50, 60]\n",
        "my_list.append(70)\n",
        "print(my_list)\n",
        "\n",
        "a,b,c,d = my_list\n",
        "print(a)\n",
        "print(b)\n",
        "print(c)\n",
        "print(d)"
      ],
      "metadata": {
        "colab": {
          "base_uri": "https://localhost:8080/"
        },
        "id": "qICFLfKZVdKj",
        "outputId": "ed930592-58b1-467c-a89b-62e251c36076"
      },
      "execution_count": 35,
      "outputs": [
        {
          "output_type": "stream",
          "name": "stdout",
          "text": [
            "Unpacking list\n",
            "[40, 50, 60, 70]\n",
            "40\n",
            "50\n",
            "60\n",
            "70\n"
          ]
        }
      ]
    },
    {
      "cell_type": "markdown",
      "source": [
        "# Add tuple elements"
      ],
      "metadata": {
        "id": "VrVs_HJSWuLx"
      }
    },
    {
      "cell_type": "code",
      "source": [
        "my_tuple = (10,40,80,90)\n",
        "\n",
        "a,b,c,d= my_tuple\n",
        "print(f\"{a}+{b}+{c}+{d}={a+b+c+d}\")"
      ],
      "metadata": {
        "colab": {
          "base_uri": "https://localhost:8080/"
        },
        "id": "DnuwwAwzWBCF",
        "outputId": "3d57be6a-5145-4e80-ea7c-183e0fdefac9"
      },
      "execution_count": 36,
      "outputs": [
        {
          "output_type": "stream",
          "name": "stdout",
          "text": [
            "10+40+80+90=220\n"
          ]
        }
      ]
    },
    {
      "cell_type": "markdown",
      "source": [
        "# Multiplication of elements in tuple"
      ],
      "metadata": {
        "id": "i1QD4A07Xi5q"
      }
    },
    {
      "cell_type": "code",
      "source": [
        "my_tuple = (10,40,80,90)\n",
        "\n",
        "a,b,c,d= my_tuple\n",
        "print(f\"{a}*{b}*{c}*{d}={a*b*c*d}\")"
      ],
      "metadata": {
        "colab": {
          "base_uri": "https://localhost:8080/"
        },
        "id": "KbbxOS1UXHBH",
        "outputId": "c7ad43e8-22c5-40b2-dd4e-30b490f4d76c"
      },
      "execution_count": 38,
      "outputs": [
        {
          "output_type": "stream",
          "name": "stdout",
          "text": [
            "10*40*80*90=2880000\n"
          ]
        }
      ]
    },
    {
      "cell_type": "markdown",
      "source": [
        "# Enumerate in Tuple"
      ],
      "metadata": {
        "id": "aiU5gYAiX6Rb"
      }
    },
    {
      "cell_type": "code",
      "source": [
        "my_tuple = (\"One\",\"Two\",\"Three\")\n",
        "\n",
        "for index, value in enumerate(my_tuple):\n",
        "    print(index,value)"
      ],
      "metadata": {
        "colab": {
          "base_uri": "https://localhost:8080/"
        },
        "id": "9vEkj_wNXqY3",
        "outputId": "58061feb-cfc9-4726-fe90-1e539f3c3f3f"
      },
      "execution_count": 39,
      "outputs": [
        {
          "output_type": "stream",
          "name": "stdout",
          "text": [
            "0 One\n",
            "1 Two\n",
            "2 Three\n"
          ]
        }
      ]
    },
    {
      "cell_type": "code",
      "source": [
        "my_tuple = (\"One\",\"Two\",\"Three\")\n",
        "\n",
        "for index, value in enumerate(my_tuple,1):\n",
        "    print(index,value)"
      ],
      "metadata": {
        "colab": {
          "base_uri": "https://localhost:8080/"
        },
        "id": "2AHZvMapYGdG",
        "outputId": "790f99bf-68ed-4703-81cd-4574487ca419"
      },
      "execution_count": 40,
      "outputs": [
        {
          "output_type": "stream",
          "name": "stdout",
          "text": [
            "1 One\n",
            "2 Two\n",
            "3 Three\n"
          ]
        }
      ]
    },
    {
      "cell_type": "code",
      "source": [
        "my_tuple = (\"One\",\"Two\",\"Three\")\n",
        "\n",
        "for index, value in enumerate(my_tuple,5):\n",
        "    print(index,value)"
      ],
      "metadata": {
        "colab": {
          "base_uri": "https://localhost:8080/"
        },
        "id": "CRMDnDaQYY61",
        "outputId": "0089da30-811d-4aaa-9054-0dae8de8efb8"
      },
      "execution_count": 41,
      "outputs": [
        {
          "output_type": "stream",
          "name": "stdout",
          "text": [
            "5 One\n",
            "6 Two\n",
            "7 Three\n"
          ]
        }
      ]
    },
    {
      "cell_type": "code",
      "source": [
        "my_courses = (\"Data Science\",\"Machine Learning\",\"Data Analytics\")\n",
        "\n",
        "for index, value in enumerate(my_courses,3):\n",
        "    print(index,value)"
      ],
      "metadata": {
        "colab": {
          "base_uri": "https://localhost:8080/"
        },
        "id": "qiDx242QYL8E",
        "outputId": "d6d6014f-0878-4be0-be24-9142e87fb44f"
      },
      "execution_count": 44,
      "outputs": [
        {
          "output_type": "stream",
          "name": "stdout",
          "text": [
            "3 Data Science\n",
            "4 Machine Learning\n",
            "5 Data Analytics\n"
          ]
        }
      ]
    },
    {
      "cell_type": "markdown",
      "source": [
        "# Nested tuple in Python"
      ],
      "metadata": {
        "id": "HiobhDN4ZDh6"
      }
    },
    {
      "cell_type": "code",
      "source": [
        "clubs = ((\"Uttar Pradesh\", \"Lucknow\", 1899,\n",
        "            [\n",
        "                (3, \"DS\"),\n",
        "                (5, \"ML\"),\n",
        "                (7, \"AI\"),\n",
        "            ]\n",
        "         ),\n",
        "         (\"Panjab\", \"Chandigar\", 1902,\n",
        "            [\n",
        "                (7, \"Maths\"),\n",
        "                (9, \"Hindi\"),\n",
        "                (10, \"English\"),\n",
        "            ]\n",
        "         ),\n",
        "         (\"Karnataka\", \"Bangluru\", 1878,\n",
        "            [\n",
        "                (6, \"Eco\"),\n",
        "                (7, \"Quant\"),\n",
        "                (14, \"Aptitude\"),\n",
        "            ]\n",
        "         ),\n",
        "         (\"Maharashtra\", \"Mumbai\", 1886,\n",
        "            [\n",
        "                (7, \"Marathi\"),\n",
        "                (14, \"Telugu\"),\n",
        "                (16, \"Oriya\"),\n",
        "            ]\n",
        "         ),\n",
        "         )\n"
      ],
      "metadata": {
        "id": "_pSTEScpYzSu"
      },
      "execution_count": 57,
      "outputs": []
    },
    {
      "cell_type": "code",
      "source": [
        "print(clubs[0])"
      ],
      "metadata": {
        "colab": {
          "base_uri": "https://localhost:8080/"
        },
        "id": "pJkQh_zXZLUp",
        "outputId": "62786c47-7c0d-4458-d18d-5118551986c3"
      },
      "execution_count": 58,
      "outputs": [
        {
          "output_type": "stream",
          "name": "stdout",
          "text": [
            "('Uttar Pradesh', 'Lucknow', 1899, [(3, 'DS'), (5, 'ML'), (7, 'AI')])\n"
          ]
        }
      ]
    },
    {
      "cell_type": "code",
      "source": [
        "print(clubs[1])"
      ],
      "metadata": {
        "colab": {
          "base_uri": "https://localhost:8080/"
        },
        "id": "EvKyxhTlZMX8",
        "outputId": "1a78da30-090e-4417-8eaa-4552c539a115"
      },
      "execution_count": 59,
      "outputs": [
        {
          "output_type": "stream",
          "name": "stdout",
          "text": [
            "('Panjab', 'Chandigar', 1902, [(7, 'Maths'), (9, 'Hindi'), (10, 'English')])\n"
          ]
        }
      ]
    },
    {
      "cell_type": "code",
      "source": [
        "print(clubs[2])"
      ],
      "metadata": {
        "colab": {
          "base_uri": "https://localhost:8080/"
        },
        "id": "6kUPeJm7ZVOS",
        "outputId": "5dfe434e-e34b-4e4a-9e3e-13bd2d06580d"
      },
      "execution_count": 60,
      "outputs": [
        {
          "output_type": "stream",
          "name": "stdout",
          "text": [
            "('Karnataka', 'Bangluru', 1878, [(6, 'Eco'), (7, 'Quant'), (14, 'Aptitude')])\n"
          ]
        }
      ]
    },
    {
      "cell_type": "code",
      "source": [
        "print(clubs[3])"
      ],
      "metadata": {
        "colab": {
          "base_uri": "https://localhost:8080/"
        },
        "id": "wiw8icn8ZyUM",
        "outputId": "8e7dfddb-7f60-4e7d-e628-2845bec3b733"
      },
      "execution_count": 61,
      "outputs": [
        {
          "output_type": "stream",
          "name": "stdout",
          "text": [
            "('Maharashtra', 'Mumbai', 1886, [(7, 'Marathi'), (14, 'Telugu'), (16, 'Oriya')])\n"
          ]
        }
      ]
    },
    {
      "cell_type": "markdown",
      "source": [
        "# The name of first Subject from Maharashtra"
      ],
      "metadata": {
        "id": "1GW1xnoZaBcZ"
      }
    },
    {
      "cell_type": "code",
      "source": [
        "# The name of first Subject from Maharashtra\n",
        "print(clubs[3][3][0][1])\n"
      ],
      "metadata": {
        "colab": {
          "base_uri": "https://localhost:8080/"
        },
        "id": "S6z7xZ4xZXAQ",
        "outputId": "2582fa65-cc02-40c2-b80b-a1e197ee61ed"
      },
      "execution_count": 63,
      "outputs": [
        {
          "output_type": "stream",
          "name": "stdout",
          "text": [
            "Marathi\n"
          ]
        }
      ]
    },
    {
      "cell_type": "markdown",
      "source": [
        "# The was Bangluru City founded."
      ],
      "metadata": {
        "id": "39Dfq-8raGEa"
      }
    },
    {
      "cell_type": "code",
      "source": [
        "print(clubs[2][2])"
      ],
      "metadata": {
        "colab": {
          "base_uri": "https://localhost:8080/"
        },
        "id": "CYvyjGnOZ9Gh",
        "outputId": "b1c8f9bb-683c-4467-fb64-77b6e67338cf"
      },
      "execution_count": 65,
      "outputs": [
        {
          "output_type": "stream",
          "name": "stdout",
          "text": [
            "1878\n"
          ]
        }
      ]
    },
    {
      "cell_type": "markdown",
      "source": [
        "# Duration of Last course of UP"
      ],
      "metadata": {
        "id": "mqHcVl6GaWJ8"
      }
    },
    {
      "cell_type": "code",
      "source": [
        "print(clubs[0][3][2][0])"
      ],
      "metadata": {
        "colab": {
          "base_uri": "https://localhost:8080/"
        },
        "id": "_up6ldgJaRVO",
        "outputId": "f87823d9-f7f1-4043-b2ba-2f3fcb4cbb56"
      },
      "execution_count": 67,
      "outputs": [
        {
          "output_type": "stream",
          "name": "stdout",
          "text": [
            "7\n"
          ]
        }
      ]
    },
    {
      "cell_type": "markdown",
      "source": [
        "# The tuple representing the 2nd Course in Punjab"
      ],
      "metadata": {
        "id": "C4WMSj_YagNL"
      }
    },
    {
      "cell_type": "code",
      "source": [
        "print(clubs[1][3][1])"
      ],
      "metadata": {
        "colab": {
          "base_uri": "https://localhost:8080/"
        },
        "id": "zJSRa-iwaiQR",
        "outputId": "337d50ea-fca2-409d-fa19-32cbc7d57be2"
      },
      "execution_count": 69,
      "outputs": [
        {
          "output_type": "stream",
          "name": "stdout",
          "text": [
            "(9, 'Hindi')\n"
          ]
        }
      ]
    },
    {
      "cell_type": "code",
      "source": [],
      "metadata": {
        "id": "w4yLfBL2ctsr"
      },
      "execution_count": 72,
      "outputs": []
    },
    {
      "cell_type": "code",
      "source": [],
      "metadata": {
        "id": "jIIqPZ6RcpTc"
      },
      "execution_count": 72,
      "outputs": []
    },
    {
      "cell_type": "code",
      "source": [],
      "metadata": {
        "id": "y-DJO_nScp0U"
      },
      "execution_count": null,
      "outputs": []
    }
  ]
}