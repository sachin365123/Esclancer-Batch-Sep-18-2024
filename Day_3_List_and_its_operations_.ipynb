{
  "nbformat": 4,
  "nbformat_minor": 0,
  "metadata": {
    "colab": {
      "provenance": []
    },
    "kernelspec": {
      "name": "python3",
      "display_name": "Python 3"
    },
    "language_info": {
      "name": "python"
    }
  },
  "cells": [
    {
      "cell_type": "markdown",
      "source": [
        "# Exploring Lists in Python\n",
        "\n",
        "Lists are versatile and mutable data structures that allow you to store and manipulate collections of items. A list in Python can contain elements of different types and is defined within square brackets ([]). Let's explore how to create lists and some examples:"
      ],
      "metadata": {
        "id": "xi-cVCWXx9Sj"
      }
    },
    {
      "cell_type": "code",
      "source": [
        "# Creating a list\n",
        "fruits = [\"apple\", \"banana\", \"orange\"]\n",
        "fruits"
      ],
      "metadata": {
        "colab": {
          "base_uri": "https://localhost:8080/"
        },
        "id": "LxjnLYTBxye1",
        "outputId": "dacb8ad6-c126-4245-a638-c6e4a3fba6e5"
      },
      "execution_count": 14,
      "outputs": [
        {
          "output_type": "execute_result",
          "data": {
            "text/plain": [
              "['apple', 'banana', 'orange']"
            ]
          },
          "metadata": {},
          "execution_count": 14
        }
      ]
    },
    {
      "cell_type": "code",
      "source": [
        "numbers = [1, 2, 3, 4, 5]\n",
        "numbers"
      ],
      "metadata": {
        "colab": {
          "base_uri": "https://localhost:8080/"
        },
        "id": "klMOM1_yyNSy",
        "outputId": "db36a262-c42c-4f13-e092-d76b417b57c6"
      },
      "execution_count": 15,
      "outputs": [
        {
          "output_type": "execute_result",
          "data": {
            "text/plain": [
              "[1, 2, 3, 4, 5]"
            ]
          },
          "metadata": {},
          "execution_count": 15
        }
      ]
    },
    {
      "cell_type": "code",
      "source": [
        "mixed_list = [1, \"apple\", True, 3.14]\n",
        "mixed_list"
      ],
      "metadata": {
        "colab": {
          "base_uri": "https://localhost:8080/"
        },
        "id": "R_9Gq8KlyWYg",
        "outputId": "aaf13469-babb-4239-a54c-0248161bf402"
      },
      "execution_count": 16,
      "outputs": [
        {
          "output_type": "execute_result",
          "data": {
            "text/plain": [
              "[1, 'apple', True, 3.14]"
            ]
          },
          "metadata": {},
          "execution_count": 16
        }
      ]
    },
    {
      "cell_type": "code",
      "source": [
        "# Printing the lists\n",
        "print(fruits)       # Output: ['apple', 'banana', 'orange']\n",
        "print(numbers)      # Output: [1, 2, 3, 4, 5]\n",
        "print(mixed_list)   # Output: [1, 'apple', True, 3.14]"
      ],
      "metadata": {
        "colab": {
          "base_uri": "https://localhost:8080/"
        },
        "id": "qPL_6DR1yc5s",
        "outputId": "04499011-b5a8-4f40-dd59-69e9058b3569"
      },
      "execution_count": 17,
      "outputs": [
        {
          "output_type": "stream",
          "name": "stdout",
          "text": [
            "['apple', 'banana', 'orange']\n",
            "[1, 2, 3, 4, 5]\n",
            "[1, 'apple', True, 3.14]\n"
          ]
        }
      ]
    },
    {
      "cell_type": "markdown",
      "source": [
        "# Accessing and Modifying List Elements"
      ],
      "metadata": {
        "id": "v97jUFwXy2oX"
      }
    },
    {
      "cell_type": "code",
      "source": [
        "print(fruits[0])     # Output: apple\n"
      ],
      "metadata": {
        "colab": {
          "base_uri": "https://localhost:8080/"
        },
        "id": "AFSZoOdzypXz",
        "outputId": "89129822-d047-42a6-a8d3-c4596227f8e0"
      },
      "execution_count": 24,
      "outputs": [
        {
          "output_type": "stream",
          "name": "stdout",
          "text": [
            "apple\n"
          ]
        }
      ]
    },
    {
      "cell_type": "code",
      "source": [
        "fruits"
      ],
      "metadata": {
        "colab": {
          "base_uri": "https://localhost:8080/"
        },
        "id": "929fvgiZz2Jq",
        "outputId": "1294e245-2573-49c8-c63c-008c1044e069"
      },
      "execution_count": 23,
      "outputs": [
        {
          "output_type": "execute_result",
          "data": {
            "text/plain": [
              "['apple', 'banana', 'orange']"
            ]
          },
          "metadata": {},
          "execution_count": 23
        }
      ]
    },
    {
      "cell_type": "code",
      "source": [
        "print(fruits[1])     # Output: banana\n"
      ],
      "metadata": {
        "colab": {
          "base_uri": "https://localhost:8080/"
        },
        "id": "m_zL_qSyy_F9",
        "outputId": "a7c05fac-42c0-4442-fbed-e5b53ee23059"
      },
      "execution_count": 25,
      "outputs": [
        {
          "output_type": "stream",
          "name": "stdout",
          "text": [
            "banana\n"
          ]
        }
      ]
    },
    {
      "cell_type": "code",
      "source": [
        "print(fruits[2])     # Output: orange"
      ],
      "metadata": {
        "colab": {
          "base_uri": "https://localhost:8080/"
        },
        "id": "p3MpTTRBzB0O",
        "outputId": "f3355276-f5cd-471b-dc3d-65a4a6893830"
      },
      "execution_count": 26,
      "outputs": [
        {
          "output_type": "stream",
          "name": "stdout",
          "text": [
            "orange\n"
          ]
        }
      ]
    },
    {
      "cell_type": "code",
      "source": [
        "fruits[2]='grapes'\n",
        "fruits"
      ],
      "metadata": {
        "colab": {
          "base_uri": "https://localhost:8080/"
        },
        "id": "ge-uESR10C8y",
        "outputId": "bc058378-30c7-4251-c73c-373c1329b80f"
      },
      "execution_count": 27,
      "outputs": [
        {
          "output_type": "execute_result",
          "data": {
            "text/plain": [
              "['apple', 'banana', 'grapes']"
            ]
          },
          "metadata": {},
          "execution_count": 27
        }
      ]
    },
    {
      "cell_type": "code",
      "source": [
        "fruits[1]='papaya'\n",
        "fruits"
      ],
      "metadata": {
        "colab": {
          "base_uri": "https://localhost:8080/"
        },
        "id": "zHV2dq940MI8",
        "outputId": "abcfc2d6-db9b-4a2f-cad5-d312a183c243"
      },
      "execution_count": 28,
      "outputs": [
        {
          "output_type": "execute_result",
          "data": {
            "text/plain": [
              "['apple', 'papaya', 'grapes']"
            ]
          },
          "metadata": {},
          "execution_count": 28
        }
      ]
    },
    {
      "cell_type": "code",
      "source": [
        "fruits[0]='Cherry'\n",
        "fruits"
      ],
      "metadata": {
        "colab": {
          "base_uri": "https://localhost:8080/"
        },
        "id": "ZGN5KhXC0TOp",
        "outputId": "0546cfc7-faf4-48ee-af89-0247d1dd4fab"
      },
      "execution_count": 29,
      "outputs": [
        {
          "output_type": "execute_result",
          "data": {
            "text/plain": [
              "['Cherry', 'papaya', 'grapes']"
            ]
          },
          "metadata": {},
          "execution_count": 29
        }
      ]
    },
    {
      "cell_type": "markdown",
      "source": [
        "# Slicing:\n",
        "\n",
        "We can access a range of elements using slicing. It allows us to specify the start and end indices, returning a new list containing the selected elements."
      ],
      "metadata": {
        "id": "B-dze8PzzJAV"
      }
    },
    {
      "cell_type": "code",
      "source": [
        "numbers = [1, 2, 3, 4, 5]\n",
        "print(numbers[1:4])   # Output: [2, 3, 4]"
      ],
      "metadata": {
        "colab": {
          "base_uri": "https://localhost:8080/"
        },
        "id": "feKLWQ6QzKXm",
        "outputId": "ec04dc7e-d59a-46f2-e08b-1e394d11ec3a"
      },
      "execution_count": 21,
      "outputs": [
        {
          "output_type": "stream",
          "name": "stdout",
          "text": [
            "[2, 3, 4]\n"
          ]
        }
      ]
    },
    {
      "cell_type": "code",
      "source": [
        "print(numbers[:3])    # Output: [1, 2, 3]"
      ],
      "metadata": {
        "colab": {
          "base_uri": "https://localhost:8080/"
        },
        "id": "CppW4_2wzUf0",
        "outputId": "6edda8eb-5abe-4b06-b5c1-3caa0e78ffd6"
      },
      "execution_count": 22,
      "outputs": [
        {
          "output_type": "stream",
          "name": "stdout",
          "text": [
            "[1, 2, 3]\n"
          ]
        }
      ]
    },
    {
      "cell_type": "code",
      "source": [
        "print(numbers[2:])    # Output: [3, 4, 5]"
      ],
      "metadata": {
        "id": "LN9JINlSzclv"
      },
      "execution_count": null,
      "outputs": []
    },
    {
      "cell_type": "markdown",
      "source": [
        "# Common List Operations\n",
        "Adding elements"
      ],
      "metadata": {
        "id": "ZflZFLUG0kef"
      }
    },
    {
      "cell_type": "code",
      "source": [
        "# 1. Append: To add an element to the end of the list, we use the append() method.\n",
        "\n",
        "fruits = [\"apple\", \"banana\", \"orange\"]\n",
        "fruits.append(\"Watermelon\")\n",
        "print(fruits)"
      ],
      "metadata": {
        "colab": {
          "base_uri": "https://localhost:8080/"
        },
        "id": "Zlir3d9E0dpQ",
        "outputId": "2dd349ba-b123-45af-d514-74e49133bbb0"
      },
      "execution_count": 30,
      "outputs": [
        {
          "output_type": "stream",
          "name": "stdout",
          "text": [
            "['apple', 'banana', 'orange', 'Watermelon']\n"
          ]
        }
      ]
    },
    {
      "cell_type": "code",
      "source": [
        "# 2. Insert: To insert an element at a specific position, we use the insert() method.\n",
        "\n",
        "numbers = [1, 2, 3, 4, 5]\n",
        "numbers.insert(2, 10)\n",
        "print(numbers)"
      ],
      "metadata": {
        "colab": {
          "base_uri": "https://localhost:8080/"
        },
        "id": "c8_6iHL207xp",
        "outputId": "6b1cef50-e5c2-40d7-e410-9ae82519e552"
      },
      "execution_count": 31,
      "outputs": [
        {
          "output_type": "stream",
          "name": "stdout",
          "text": [
            "[1, 2, 10, 3, 4, 5]\n"
          ]
        }
      ]
    },
    {
      "cell_type": "code",
      "source": [
        "fruits = [\"apple\", \"banana\", \"orange\"]\n",
        "fruits.insert(1,\"Watermelon\")\n",
        "print(fruits)"
      ],
      "metadata": {
        "colab": {
          "base_uri": "https://localhost:8080/"
        },
        "id": "yYjlc-JH0-5L",
        "outputId": "3583da47-7de8-4c4e-f15b-d37ccd683b06"
      },
      "execution_count": 32,
      "outputs": [
        {
          "output_type": "stream",
          "name": "stdout",
          "text": [
            "['apple', 'Watermelon', 'banana', 'orange']\n"
          ]
        }
      ]
    },
    {
      "cell_type": "code",
      "source": [
        "# 3. Remove: To remove the first occurrence of an element, we use the remove() method.\n",
        "\n",
        "fruits = [\"apple\", \"banana\", \"orange\", \"banana\",\"apple\", \"banana\"]\n",
        "fruits.remove(\"banana\")\n",
        "print(fruits)"
      ],
      "metadata": {
        "colab": {
          "base_uri": "https://localhost:8080/"
        },
        "id": "BZ0i_SM11TYR",
        "outputId": "16a7458c-dd22-42a7-fee5-d30b94169f6f"
      },
      "execution_count": 34,
      "outputs": [
        {
          "output_type": "stream",
          "name": "stdout",
          "text": [
            "['apple', 'orange', 'banana', 'apple', 'banana']\n"
          ]
        }
      ]
    },
    {
      "cell_type": "code",
      "source": [
        "# 4. Pop: To remove an element at a specific index and return its value, we use the pop() method.\n",
        "\n",
        "numbers = [1, 2, 3, 4, 5]\n",
        "popped = numbers.pop(3)\n",
        "print(numbers)        # Output: [1, 2, 3, 5]\n",
        "print(popped)"
      ],
      "metadata": {
        "colab": {
          "base_uri": "https://localhost:8080/"
        },
        "id": "svlVXKyH1jNm",
        "outputId": "49a922d1-7346-4ea3-8bb7-d5b2e6fb6bbf"
      },
      "execution_count": 36,
      "outputs": [
        {
          "output_type": "stream",
          "name": "stdout",
          "text": [
            "[1, 2, 3, 5]\n",
            "4\n"
          ]
        }
      ]
    },
    {
      "cell_type": "code",
      "source": [
        "# 5. Del: To remove an element at a specific index, we can use the del statement.\n",
        "\n",
        "fruits = [\"apple\", \"banana\", \"orange\"]\n",
        "del fruits[1]\n",
        "print(fruits)"
      ],
      "metadata": {
        "colab": {
          "base_uri": "https://localhost:8080/"
        },
        "id": "PmxmpcuN1t6I",
        "outputId": "07bc6b9e-70bc-4f89-a3f2-8305ac062fe7"
      },
      "execution_count": 37,
      "outputs": [
        {
          "output_type": "stream",
          "name": "stdout",
          "text": [
            "['apple', 'orange']\n"
          ]
        }
      ]
    },
    {
      "cell_type": "code",
      "source": [
        "# 6. Finding elements: Index: To find the index of the first occurrence of an element, we use the index() method.\n",
        "\n",
        "fruits = [\"apple\", \"banana\", \"orange\"]\n",
        "index = fruits.index(\"orange\")\n",
        "print(index)"
      ],
      "metadata": {
        "colab": {
          "base_uri": "https://localhost:8080/"
        },
        "id": "GQcUn3g22IVR",
        "outputId": "d0a78b54-5fde-4df6-90f6-62592044b4ef"
      },
      "execution_count": 39,
      "outputs": [
        {
          "output_type": "stream",
          "name": "stdout",
          "text": [
            "2\n"
          ]
        }
      ]
    },
    {
      "cell_type": "code",
      "source": [
        "# 7. Count: To count the number of occurrences of an element, we use the count() method.\n",
        "\n",
        "fruits = [\"apple\", \"banana\", \"orange\", \"banana\", \"banana\", \"apple\", \"banana\"]\n",
        "count = fruits.count(\"banana\")\n",
        "print(count)"
      ],
      "metadata": {
        "colab": {
          "base_uri": "https://localhost:8080/"
        },
        "id": "BLvRMMbx2SL0",
        "outputId": "8cd04c79-8e0e-41b5-e117-b14bec890e4d"
      },
      "execution_count": 42,
      "outputs": [
        {
          "output_type": "stream",
          "name": "stdout",
          "text": [
            "4\n"
          ]
        }
      ]
    },
    {
      "cell_type": "code",
      "source": [
        "# 8. Sorting and reversing: Sort: To sort the list in ascending order, we use the sort() method.\n",
        "\n",
        "numbers = [5, 2, 4, 1, 3]\n",
        "numbers.sort()\n",
        "print(numbers)"
      ],
      "metadata": {
        "colab": {
          "base_uri": "https://localhost:8080/"
        },
        "id": "rKHCYWJk2nJz",
        "outputId": "7e86b141-9154-4246-d2dc-319756ee50c4"
      },
      "execution_count": 43,
      "outputs": [
        {
          "output_type": "stream",
          "name": "stdout",
          "text": [
            "[1, 2, 3, 4, 5]\n"
          ]
        }
      ]
    },
    {
      "cell_type": "code",
      "source": [
        "# 9. Reverse: To reverse the order of elements in the list, we use the reverse() method.\n",
        "\n",
        "numbers = [1, 2, 3, 4, 5]\n",
        "numbers.reverse()\n",
        "print(numbers)"
      ],
      "metadata": {
        "colab": {
          "base_uri": "https://localhost:8080/"
        },
        "id": "liiCmp5N2-uN",
        "outputId": "c078683b-11d5-4ee4-c6e0-4eba3262e7dc"
      },
      "execution_count": 44,
      "outputs": [
        {
          "output_type": "stream",
          "name": "stdout",
          "text": [
            "[5, 4, 3, 2, 1]\n"
          ]
        }
      ]
    },
    {
      "cell_type": "markdown",
      "source": [
        "# List Comprehensive\n",
        "\n",
        "List comprehension is a concise way to create lists based on existing lists or other iterable objects. It allows you to filter, map, and create new lists in a single line of code. Let's explore the syntax and some examples:"
      ],
      "metadata": {
        "id": "MG_19XZe3PHA"
      }
    },
    {
      "cell_type": "code",
      "source": [
        "# Syntax: [expression for item in iterable if condition]\n",
        "numbers = [1, 2, 3, 4, 5]\n",
        "squared = [num ** 2 for num in numbers ]\n",
        "print(squared)"
      ],
      "metadata": {
        "colab": {
          "base_uri": "https://localhost:8080/"
        },
        "id": "dBNKJdA43LST",
        "outputId": "532d44b4-9509-475d-9737-8dad4c29b3ab"
      },
      "execution_count": 46,
      "outputs": [
        {
          "output_type": "stream",
          "name": "stdout",
          "text": [
            "[1, 4, 9, 16, 25]\n"
          ]
        }
      ]
    },
    {
      "cell_type": "code",
      "source": [
        "# Syntax: [expression for item in iterable if condition]\n",
        "numbers = [1, 2, 3, 4, 5]\n",
        "squared = [num ** 2 for num in numbers if num % 2 == 0]\n",
        "print(squared)"
      ],
      "metadata": {
        "colab": {
          "base_uri": "https://localhost:8080/"
        },
        "id": "CBN9RVxA30tI",
        "outputId": "4239419a-4422-4902-d2e9-0c36e2159340"
      },
      "execution_count": 47,
      "outputs": [
        {
          "output_type": "stream",
          "name": "stdout",
          "text": [
            "[4, 16]\n"
          ]
        }
      ]
    },
    {
      "cell_type": "code",
      "source": [
        "# Example: Create a list of even numbers from 1 to 10\n",
        "evens = [num for num in range(1, 11) if num % 2 == 0]\n",
        "print(evens)          # Output: [2, 4, 6, 8, 10]"
      ],
      "metadata": {
        "colab": {
          "base_uri": "https://localhost:8080/"
        },
        "id": "kgxnbS3N39bC",
        "outputId": "9c2f0142-185e-47e9-ee76-8cdca0fe5e00"
      },
      "execution_count": 48,
      "outputs": [
        {
          "output_type": "stream",
          "name": "stdout",
          "text": [
            "[2, 4, 6, 8, 10]\n"
          ]
        }
      ]
    },
    {
      "cell_type": "code",
      "source": [
        "# Example: Create a list of even numbers from 1 to 50\n",
        "evens = [num for num in range(1, 51) if num % 2 == 0]\n",
        "print(evens)          # Output: [2, 4, 6, 8, 10]"
      ],
      "metadata": {
        "colab": {
          "base_uri": "https://localhost:8080/"
        },
        "id": "rHHBZw604IWi",
        "outputId": "ac93f185-402d-4e2c-97fe-730c429135ef"
      },
      "execution_count": 51,
      "outputs": [
        {
          "output_type": "stream",
          "name": "stdout",
          "text": [
            "[2, 4, 6, 8, 10, 12, 14, 16, 18, 20, 22, 24, 26, 28, 30, 32, 34, 36, 38, 40, 42, 44, 46, 48, 50]\n"
          ]
        }
      ]
    },
    {
      "cell_type": "markdown",
      "source": [
        "# Built-in Functions and Methods for Lists"
      ],
      "metadata": {
        "id": "qhC-Igtr4cef"
      }
    },
    {
      "cell_type": "code",
      "source": [
        "#  1. len(): The len() function returns the length of a list.\n",
        "fruits = [\"apple\", \"banana\", \"orange\", \"apple\", \"banana\", \"orange\"]\n",
        "length = len(fruits)\n",
        "print(length)"
      ],
      "metadata": {
        "colab": {
          "base_uri": "https://localhost:8080/"
        },
        "id": "bJiULtGJ4T7O",
        "outputId": "1fa51ed0-9d9c-4314-c3fe-4692e723280f"
      },
      "execution_count": 55,
      "outputs": [
        {
          "output_type": "stream",
          "name": "stdout",
          "text": [
            "6\n"
          ]
        }
      ]
    },
    {
      "cell_type": "code",
      "source": [
        "# 2. min() and max(): The min() and max() functions return the minimum and maximum values in a list, respectively.\n",
        "numbers = [1, 2, 3, 4, 5]\n",
        "minimum = min(numbers)\n",
        "maximum = max(numbers)\n",
        "print(minimum)\n",
        "print(maximum)"
      ],
      "metadata": {
        "colab": {
          "base_uri": "https://localhost:8080/"
        },
        "id": "cZMod-Q74mb0",
        "outputId": "6a061445-1b31-455b-933e-1344c56f7284"
      },
      "execution_count": 56,
      "outputs": [
        {
          "output_type": "stream",
          "name": "stdout",
          "text": [
            "1\n",
            "5\n"
          ]
        }
      ]
    },
    {
      "cell_type": "code",
      "source": [
        "# 3. sum(): The sum() function calculates the sum of all elements in a list.\n",
        "numbers = [18, 62, 13, 34, 25]\n",
        "total = sum(numbers)\n",
        "print(total)"
      ],
      "metadata": {
        "colab": {
          "base_uri": "https://localhost:8080/"
        },
        "id": "RTZbJ4rR5IeW",
        "outputId": "46c1e2dc-598d-4db9-d6f5-f49f7dc65f5f"
      },
      "execution_count": 58,
      "outputs": [
        {
          "output_type": "stream",
          "name": "stdout",
          "text": [
            "152\n"
          ]
        }
      ]
    },
    {
      "cell_type": "code",
      "source": [
        "# 4. sorted(): The sorted() function returns a sorted version of the list without modifying the original.\n",
        "\n",
        "numbers = [5, 2, 4, 1, 3]\n",
        "sorted_numbers = sorted(numbers)\n",
        "print(sorted_numbers)"
      ],
      "metadata": {
        "colab": {
          "base_uri": "https://localhost:8080/"
        },
        "id": "nvf7V_QM5PKU",
        "outputId": "39082320-b758-4b84-e3cb-12d41e2d0688"
      },
      "execution_count": 59,
      "outputs": [
        {
          "output_type": "stream",
          "name": "stdout",
          "text": [
            "[1, 2, 3, 4, 5]\n"
          ]
        }
      ]
    },
    {
      "cell_type": "code",
      "source": [
        "# 5. clear(): The clear() method removes all elements from a list.\n",
        "\n",
        "fruits = [\"apple\", \"banana\", \"orange\"]\n",
        "print(fruits)\n",
        "fruits.clear()\n",
        "print(fruits)"
      ],
      "metadata": {
        "colab": {
          "base_uri": "https://localhost:8080/"
        },
        "id": "dL1ek5EC5eSq",
        "outputId": "a95d1728-de77-4571-fc7f-ae6dae4391a3"
      },
      "execution_count": 62,
      "outputs": [
        {
          "output_type": "stream",
          "name": "stdout",
          "text": [
            "['apple', 'banana', 'orange']\n",
            "[]\n"
          ]
        }
      ]
    },
    {
      "cell_type": "code",
      "source": [
        "# 6. copy(): The copy() method creates a shallow copy of a list.\n",
        "\n",
        "fruits = [\"apple\", \"banana\", \"orange\"]\n",
        "fruits_copy = fruits.copy()\n",
        "print(fruits_copy)"
      ],
      "metadata": {
        "colab": {
          "base_uri": "https://localhost:8080/"
        },
        "id": "g8Mh4PXH5-Tn",
        "outputId": "284570d2-b6ea-4acf-db8c-e72315b34084"
      },
      "execution_count": 63,
      "outputs": [
        {
          "output_type": "stream",
          "name": "stdout",
          "text": [
            "['apple', 'banana', 'orange']\n"
          ]
        }
      ]
    },
    {
      "cell_type": "markdown",
      "source": [
        "# Nested Lists\n",
        "\n",
        "In Python, lists can also contain other lists as elements, creating a nested list structure. Let's explore how to access elements in nested lists:"
      ],
      "metadata": {
        "id": "oJNTtxxN6Im0"
      }
    },
    {
      "cell_type": "code",
      "source": [
        "nested_list = [[1, 2, 3], [4, 5, 6], [7, 8, 9]]\n",
        "print(nested_list[2])            # Output: [4, 5, 6]\n",
        "print(nested_list[2][0])"
      ],
      "metadata": {
        "colab": {
          "base_uri": "https://localhost:8080/"
        },
        "id": "JcHOOmKC6JvI",
        "outputId": "99d1562b-cf06-47c7-882a-464781f36d22"
      },
      "execution_count": 68,
      "outputs": [
        {
          "output_type": "stream",
          "name": "stdout",
          "text": [
            "[7, 8, 9]\n",
            "7\n"
          ]
        }
      ]
    },
    {
      "cell_type": "markdown",
      "source": [
        "# List vs. Other Data Structures\n",
        "\n",
        "When working with collections of data in Python, it's essential to understand the differences between lists and other data structures. Here are a couple of comparisons:\n",
        "\n",
        "**Comparison with arrays:** While arrays are fixed in size and require the NumPy library, lists in Python are dynamic and more flexible for handling collections of elements.\n",
        "\n",
        "**Comparison with tuples:** Tuples are similar to lists but are immutable, meaning they cannot be modified after creation. Lists, on the other hand, are mutable and allow for modifications."
      ],
      "metadata": {
        "id": "CorPpU_f6pnP"
      }
    },
    {
      "cell_type": "markdown",
      "source": [
        "# Use Cases and Applications"
      ],
      "metadata": {
        "id": "hxHR13gv7Fzl"
      }
    },
    {
      "cell_type": "markdown",
      "source": [
        "Lists are widely used in Python programming and find an application in various scenarios, including:\n",
        "\n",
        "Storing and managing collections of data\n",
        "\n",
        "Iterating over elements using loops\n",
        "\n",
        "Implementing stacks, queues, and other data structures\n",
        "\n",
        "Sorting and manipulating data\n",
        "\n",
        "Storing results and generating reports"
      ],
      "metadata": {
        "id": "guvd2cOp7IJQ"
      }
    },
    {
      "cell_type": "code",
      "source": [],
      "metadata": {
        "id": "qozZybkZ6VIE"
      },
      "execution_count": null,
      "outputs": []
    }
  ]
}