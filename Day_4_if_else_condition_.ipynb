{
  "nbformat": 4,
  "nbformat_minor": 0,
  "metadata": {
    "colab": {
      "provenance": []
    },
    "kernelspec": {
      "name": "python3",
      "display_name": "Python 3"
    },
    "language_info": {
      "name": "python"
    }
  },
  "cells": [
    {
      "cell_type": "markdown",
      "source": [
        "# if else condition and Interview questions"
      ],
      "metadata": {
        "id": "YFq80ktQMnb3"
      }
    },
    {
      "cell_type": "code",
      "execution_count": 1,
      "metadata": {
        "colab": {
          "base_uri": "https://localhost:8080/"
        },
        "id": "EjGV1f4vLqHs",
        "outputId": "6df42511-3c76-4e19-f470-7783e8cd0ebf"
      },
      "outputs": [
        {
          "output_type": "stream",
          "name": "stdout",
          "text": [
            "What is your age?27\n",
            "27\n"
          ]
        }
      ],
      "source": [
        "# what is if else condition\n",
        "var= input(\"What is your age?\")\n",
        "print(var)"
      ]
    },
    {
      "cell_type": "code",
      "source": [
        "# what is if else condition\n",
        "var= input(\"What is your age?\")\n",
        "print(\"Hi !! my age is \", var)"
      ],
      "metadata": {
        "colab": {
          "base_uri": "https://localhost:8080/"
        },
        "id": "GKDZV5sRMs2_",
        "outputId": "21aac3d8-81be-4e4b-c3a1-478fc8a0da04"
      },
      "execution_count": 2,
      "outputs": [
        {
          "output_type": "stream",
          "name": "stdout",
          "text": [
            "What is your age?32\n",
            "Hi !! my age is  32\n"
          ]
        }
      ]
    },
    {
      "cell_type": "code",
      "source": [
        "# what is if else condition\n",
        "var= int(input(\"What is your age?\"))\n",
        "\n",
        "if var>18:\n",
        "  print(\"Hi !!! User Ok !! you are Adult and your age is \", var)\n",
        "else:\n",
        "  print(\"Hi !!! User Ok !! you are not allow to ride here bcs your age is \", var)\n"
      ],
      "metadata": {
        "colab": {
          "base_uri": "https://localhost:8080/"
        },
        "id": "wFYS1FMgNIVC",
        "outputId": "5449b69e-50e8-4403-86f5-bba2d25a4f34"
      },
      "execution_count": 5,
      "outputs": [
        {
          "output_type": "stream",
          "name": "stdout",
          "text": [
            "What is your age?25\n",
            "Hi !!! User Ok !! you are Adult and your age is  25\n"
          ]
        }
      ]
    },
    {
      "cell_type": "code",
      "source": [
        "# what is if else condition\n",
        "name= input(\"What is your Name?\")\n",
        "\n",
        "if name=='Sachin':\n",
        "  print(\"Hi !!! Sachin, Welcome!!!!\")\n",
        "else:\n",
        "  print(\"Hi !!! User yo're welcome !!\")\n"
      ],
      "metadata": {
        "colab": {
          "base_uri": "https://localhost:8080/"
        },
        "id": "zK3GaVjsOSbq",
        "outputId": "89dc5167-80fe-4fc2-cbca-282a1d1c7257"
      },
      "execution_count": 8,
      "outputs": [
        {
          "output_type": "stream",
          "name": "stdout",
          "text": [
            "What is your Name?Sachin\n",
            "Hi !!! Sachin, Welcome!!!!\n"
          ]
        }
      ]
    },
    {
      "cell_type": "markdown",
      "source": [
        "# Problem 1: Mortgage Calulcator\n",
        "# मकान या फ़्लैट ख़रीदने के लिए उधार लिया पैसा; आवास-ऋण, रेहन"
      ],
      "metadata": {
        "id": "A4wPQunqO1qq"
      }
    },
    {
      "cell_type": "code",
      "source": [
        "# Nested if and mutiple if conditions\n",
        "\n",
        "print(\"Welcome to Mortgage Calulcator!\")\n",
        "salary = int(input(\"What is your salary? \"))\n",
        "\n",
        "rate = 0\n",
        "\n",
        "if salary >= 2000:\n",
        "    print(\"You are eligible for mortgage!\")\n",
        "    credit_score = int(input(\"What is your credit score? \"))\n",
        "\n",
        "    if credit_score > 800:\n",
        "        rate = 4\n",
        "        print(\"Interest rate: 4%\")\n",
        "    elif credit_score > 750:\n",
        "        rate = 6\n",
        "        print(\"Interest rate: 6%\")\n",
        "    else:\n",
        "        rate = 8\n",
        "        print(\"Interest rate: 8%\")\n",
        "\n",
        "    disability = input(\"Do you have any disability? Y or N \")\n",
        "    if disability == \"Y\":\n",
        "        rate = rate-2\n",
        "\n",
        "    print(f\"Final Interest Rate: {rate}\")\n",
        "else:\n",
        "    print(\"Sorry, you are not eligible!\")\n"
      ],
      "metadata": {
        "colab": {
          "base_uri": "https://localhost:8080/"
        },
        "id": "iu4K7qrBO7WZ",
        "outputId": "174e806b-27b4-47b0-ee87-366f7daaa7aa"
      },
      "execution_count": 12,
      "outputs": [
        {
          "output_type": "stream",
          "name": "stdout",
          "text": [
            "Welcome to Mortgage Calulcator!\n",
            "What is your salary? 1800\n",
            "Sorry, you are not eligible!\n"
          ]
        }
      ]
    },
    {
      "cell_type": "markdown",
      "source": [
        "# Problem 2: Even and Odd Problem"
      ],
      "metadata": {
        "id": "kIrO4jDTRHRS"
      }
    },
    {
      "cell_type": "code",
      "source": [
        "number = input(\"Enter integer number: \")\n",
        "number = int(number)\n",
        "if number % 2 == 0:\n",
        "    print(\"Even\")\n",
        "else:\n",
        "    print(\"Odd\")"
      ],
      "metadata": {
        "colab": {
          "base_uri": "https://localhost:8080/"
        },
        "id": "ry0VS4ReQ7BA",
        "outputId": "de37ca10-d4f7-4ac5-950d-f0b64425ed2d"
      },
      "execution_count": 21,
      "outputs": [
        {
          "output_type": "stream",
          "name": "stdout",
          "text": [
            "Enter integer number: 128\n",
            "Even\n"
          ]
        }
      ]
    },
    {
      "cell_type": "markdown",
      "source": [
        "# Problem 3: Body Mass Index of any Person using Python"
      ],
      "metadata": {
        "id": "XF_l08HDSflc"
      }
    },
    {
      "cell_type": "code",
      "source": [
        "height = float(input(\"Enter your height in m: \"))\n",
        "weight = float(input(\"Enter your weight in kg: \"))\n",
        "\n",
        "bmi = round(weight / height ** 2,2)\n",
        "\n",
        "print(f\"My bmi is \", bmi)\n",
        "\n",
        "if bmi < 18.5:\n",
        "    print(f\"Your bmi is {bmi} , you are underweight.\")\n",
        "elif bmi < 25:\n",
        "    print(f\"Your bmi is {bmi} , you weight is normal.\")\n",
        "elif bmi < 30:\n",
        "    print(f\"Your bmi is {bmi} , you are overweight.\")\n",
        "else:\n",
        "    print(f\"Your bmi is {bmi} , you are obese.\")\n"
      ],
      "metadata": {
        "colab": {
          "base_uri": "https://localhost:8080/"
        },
        "id": "s3nW_bhBRPYl",
        "outputId": "2cea00cc-9846-4fbe-a749-0d69599ebbd6"
      },
      "execution_count": 36,
      "outputs": [
        {
          "output_type": "stream",
          "name": "stdout",
          "text": [
            "Enter your height in m: 1.2\n",
            "Enter your weight in kg: 53\n",
            "My bmi is  36.81\n",
            "Your bmi is 36.81 , you are obese.\n"
          ]
        }
      ]
    },
    {
      "cell_type": "code",
      "source": [
        "age=18\n",
        "height=5.6\n",
        "print(f\"My age is {age} height is {height}\")"
      ],
      "metadata": {
        "colab": {
          "base_uri": "https://localhost:8080/"
        },
        "id": "zNSjjBlEUD8j",
        "outputId": "76679b38-8d75-496c-fed4-db6b62c60e09"
      },
      "execution_count": 35,
      "outputs": [
        {
          "output_type": "stream",
          "name": "stdout",
          "text": [
            "My age is 18 height is 5.6\n"
          ]
        }
      ]
    },
    {
      "cell_type": "markdown",
      "source": [
        "# Problem 4: Burger Shop"
      ],
      "metadata": {
        "id": "9DYodYydWVWJ"
      }
    },
    {
      "cell_type": "code",
      "source": [
        "print(\"Welcome to Burger Shop!\")\n",
        "size = input(\"What size Burger do you want? M, N or L \")\n",
        "\n",
        "add_mushroom = input(\"Do you want mushroom? Y or N \")\n",
        "\n",
        "extra_cheese = input(\"Do you want extra cheese? Y or N \" )\n",
        "\n",
        "bill = 0\n",
        "\n",
        "if size == \"M\":\n",
        "    bill = bill+500\n",
        "elif size == \"N\":\n",
        "    bill = bill+ 800\n",
        "else:\n",
        "    bill = bill+ 1000\n",
        "\n",
        "if add_mushroom == \"Y\":\n",
        "    if size == \"L\":\n",
        "        bill =bill+ 50\n",
        "    else:\n",
        "        bill =bill+ 25\n",
        "\n",
        "if extra_cheese == \"Y\":\n",
        "    bill = bill+ 100\n",
        "\n",
        "bill+=(bill*0.18)\n",
        "\n",
        "print(f\"Your final bill is: Rupees {bill}.\")"
      ],
      "metadata": {
        "colab": {
          "base_uri": "https://localhost:8080/"
        },
        "id": "Ad5lYZaERdbp",
        "outputId": "0899204f-1676-416c-f731-6bc8ea2e5748"
      },
      "execution_count": 44,
      "outputs": [
        {
          "output_type": "stream",
          "name": "stdout",
          "text": [
            "Welcome to Burger Shop!\n",
            "What size Burger do you want? M, N or L L\n",
            "Do you want mushroom? Y or N N\n",
            "Do you want extra cheese? Y or N Y\n",
            "Your final bill is: Rupees 1298.0.\n"
          ]
        }
      ]
    },
    {
      "cell_type": "markdown",
      "source": [
        "# Problem 5: Try Catch"
      ],
      "metadata": {
        "id": "xrdkghwZYa_S"
      }
    },
    {
      "cell_type": "code",
      "source": [
        "try:\n",
        "    salary = int(input(\"What is your salary? \"))\n",
        "except:\n",
        "    print(\"There was an error!\")\n",
        "\n",
        "else:\n",
        "    if salary > 2000:\n",
        "        print(\"You are eligible!\")\n",
        "    else:\n",
        "        print(\"You are not eligible!\")\n",
        "finally:\n",
        "    print(\"Thanks for using our calculcator!\")"
      ],
      "metadata": {
        "colab": {
          "base_uri": "https://localhost:8080/"
        },
        "id": "7XydDJ4MS1rp",
        "outputId": "ad029ec9-e431-440c-dac6-3e4db3138e7e"
      },
      "execution_count": 52,
      "outputs": [
        {
          "output_type": "stream",
          "name": "stdout",
          "text": [
            "What is your salary? 5230\n",
            "You are eligible!\n",
            "Thanks for using our calculcator!\n"
          ]
        }
      ]
    },
    {
      "cell_type": "code",
      "source": [],
      "metadata": {
        "id": "fUmCoE5xS3GE"
      },
      "execution_count": null,
      "outputs": []
    }
  ]
}